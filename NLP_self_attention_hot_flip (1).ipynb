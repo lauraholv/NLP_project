{
  "cells": [
    {
      "cell_type": "code",
      "execution_count": 94,
      "metadata": {
        "colab": {
          "base_uri": "https://localhost:8080/"
        },
        "id": "sp2phqFLKuXh",
        "outputId": "1f9b48c7-9f87-4be3-b815-b007538ac082"
      },
      "outputs": [
        {
          "output_type": "stream",
          "name": "stdout",
          "text": [
            "Looking in indexes: https://pypi.org/simple, https://us-python.pkg.dev/colab-wheels/public/simple/\n",
            "Requirement already satisfied: datasets in /usr/local/lib/python3.10/dist-packages (2.13.0)\n",
            "Requirement already satisfied: numpy>=1.17 in /usr/local/lib/python3.10/dist-packages (from datasets) (1.22.4)\n",
            "Requirement already satisfied: pyarrow>=8.0.0 in /usr/local/lib/python3.10/dist-packages (from datasets) (9.0.0)\n",
            "Requirement already satisfied: dill<0.3.7,>=0.3.0 in /usr/local/lib/python3.10/dist-packages (from datasets) (0.3.6)\n",
            "Requirement already satisfied: pandas in /usr/local/lib/python3.10/dist-packages (from datasets) (1.5.3)\n",
            "Requirement already satisfied: requests>=2.19.0 in /usr/local/lib/python3.10/dist-packages (from datasets) (2.27.1)\n",
            "Requirement already satisfied: tqdm>=4.62.1 in /usr/local/lib/python3.10/dist-packages (from datasets) (4.65.0)\n",
            "Requirement already satisfied: xxhash in /usr/local/lib/python3.10/dist-packages (from datasets) (3.2.0)\n",
            "Requirement already satisfied: multiprocess in /usr/local/lib/python3.10/dist-packages (from datasets) (0.70.14)\n",
            "Requirement already satisfied: fsspec[http]>=2021.11.1 in /usr/local/lib/python3.10/dist-packages (from datasets) (2023.4.0)\n",
            "Requirement already satisfied: aiohttp in /usr/local/lib/python3.10/dist-packages (from datasets) (3.8.4)\n",
            "Requirement already satisfied: huggingface-hub<1.0.0,>=0.11.0 in /usr/local/lib/python3.10/dist-packages (from datasets) (0.15.1)\n",
            "Requirement already satisfied: packaging in /usr/local/lib/python3.10/dist-packages (from datasets) (23.1)\n",
            "Requirement already satisfied: pyyaml>=5.1 in /usr/local/lib/python3.10/dist-packages (from datasets) (6.0)\n",
            "Requirement already satisfied: attrs>=17.3.0 in /usr/local/lib/python3.10/dist-packages (from aiohttp->datasets) (23.1.0)\n",
            "Requirement already satisfied: charset-normalizer<4.0,>=2.0 in /usr/local/lib/python3.10/dist-packages (from aiohttp->datasets) (2.0.12)\n",
            "Requirement already satisfied: multidict<7.0,>=4.5 in /usr/local/lib/python3.10/dist-packages (from aiohttp->datasets) (6.0.4)\n",
            "Requirement already satisfied: async-timeout<5.0,>=4.0.0a3 in /usr/local/lib/python3.10/dist-packages (from aiohttp->datasets) (4.0.2)\n",
            "Requirement already satisfied: yarl<2.0,>=1.0 in /usr/local/lib/python3.10/dist-packages (from aiohttp->datasets) (1.9.2)\n",
            "Requirement already satisfied: frozenlist>=1.1.1 in /usr/local/lib/python3.10/dist-packages (from aiohttp->datasets) (1.3.3)\n",
            "Requirement already satisfied: aiosignal>=1.1.2 in /usr/local/lib/python3.10/dist-packages (from aiohttp->datasets) (1.3.1)\n",
            "Requirement already satisfied: filelock in /usr/local/lib/python3.10/dist-packages (from huggingface-hub<1.0.0,>=0.11.0->datasets) (3.12.0)\n",
            "Requirement already satisfied: typing-extensions>=3.7.4.3 in /usr/local/lib/python3.10/dist-packages (from huggingface-hub<1.0.0,>=0.11.0->datasets) (4.5.0)\n",
            "Requirement already satisfied: urllib3<1.27,>=1.21.1 in /usr/local/lib/python3.10/dist-packages (from requests>=2.19.0->datasets) (1.26.15)\n",
            "Requirement already satisfied: certifi>=2017.4.17 in /usr/local/lib/python3.10/dist-packages (from requests>=2.19.0->datasets) (2022.12.7)\n",
            "Requirement already satisfied: idna<4,>=2.5 in /usr/local/lib/python3.10/dist-packages (from requests>=2.19.0->datasets) (3.4)\n",
            "Requirement already satisfied: python-dateutil>=2.8.1 in /usr/local/lib/python3.10/dist-packages (from pandas->datasets) (2.8.2)\n",
            "Requirement already satisfied: pytz>=2020.1 in /usr/local/lib/python3.10/dist-packages (from pandas->datasets) (2022.7.1)\n",
            "Requirement already satisfied: six>=1.5 in /usr/local/lib/python3.10/dist-packages (from python-dateutil>=2.8.1->pandas->datasets) (1.16.0)\n"
          ]
        }
      ],
      "source": [
        "!pip install datasets\n"
      ]
    },
    {
      "cell_type": "code",
      "execution_count": 95,
      "metadata": {
        "colab": {
          "base_uri": "https://localhost:8080/",
          "height": 67,
          "referenced_widgets": [
            "2852ad15fe3749b887142a6719db4d60",
            "ac18194c0a974cccad529cb704aaa020",
            "3c765d062c564b45a47d07bd061356f4",
            "0ce1df2aa66a48f19c2938166e268e74",
            "f1ee60f77a6d49bd941b7460d9c6d65f",
            "45476ed0c7864645add6ac70c764e1a6",
            "b24b3cb134744a57a9a65eeaf307babc",
            "a3a70bbbef5b42d48fc221f3ea4a492f",
            "0ce17b661a6a4d36a09a5c51be6217c2",
            "92164984363743d693235fe8a808c132",
            "db77c53818be44da965e21f0a3004fa7"
          ]
        },
        "id": "jhlQ4xe1FdGA",
        "outputId": "38d1f40f-d805-4073-9ffc-712f6103fa6b"
      },
      "outputs": [
        {
          "output_type": "stream",
          "name": "stderr",
          "text": [
            "WARNING:datasets.builder:Found cached dataset glue (/root/.cache/huggingface/datasets/glue/sst2/1.0.0/dacbe3125aa31d7f70367a07a8a9e72a5a0bfeb5fc42e75c9db75b96da6053ad)\n"
          ]
        },
        {
          "output_type": "display_data",
          "data": {
            "text/plain": [
              "  0%|          | 0/3 [00:00<?, ?it/s]"
            ],
            "application/vnd.jupyter.widget-view+json": {
              "version_major": 2,
              "version_minor": 0,
              "model_id": "2852ad15fe3749b887142a6719db4d60"
            }
          },
          "metadata": {}
        }
      ],
      "source": [
        "from datasets import load_dataset\n",
        "\n",
        "dataset = load_dataset('glue', 'sst2')\n",
        "train_data = dataset['train']\n",
        "test_data = dataset['validation']"
      ]
    },
    {
      "cell_type": "code",
      "execution_count": 96,
      "metadata": {
        "id": "vehWbBoZPJiG"
      },
      "outputs": [],
      "source": [
        "# !wget http://nlp.stanford.edu/data/glove.6B.zip\n",
        "# !unzip glove.6B.zip.1"
      ]
    },
    {
      "cell_type": "code",
      "execution_count": 97,
      "metadata": {
        "id": "q7xIBJ2FCrKt"
      },
      "outputs": [],
      "source": [
        "# !pip install torchmetrics"
      ]
    },
    {
      "cell_type": "code",
      "execution_count": 98,
      "metadata": {
        "id": "5W94pQpOBs8S"
      },
      "outputs": [],
      "source": [
        "import numpy as np\n",
        "import pandas as pd\n",
        "import torch\n",
        "from torch import nn\n",
        "from torch.utils.data import DataLoader, Dataset, TensorDataset\n",
        "import torchtext\n",
        "import nltk\n",
        "from nltk.tokenize import word_tokenize\n",
        "import math\n",
        "import matplotlib.pyplot as plt\n",
        "from torchtext.vocab import GloVe\n",
        "# import torchmetrics\n",
        "from nltk.corpus import wordnet\n",
        "import torch.nn.functional as F\n",
        "from torch.autograd import Variable\n",
        "from nltk.corpus import stopwords, opinion_lexicon"
      ]
    },
    {
      "cell_type": "code",
      "execution_count": 99,
      "metadata": {
        "colab": {
          "base_uri": "https://localhost:8080/"
        },
        "id": "lwhDaoi6tV8T",
        "outputId": "4ef2baaf-41a9-406b-f65e-aeb109f40ac4"
      },
      "outputs": [
        {
          "output_type": "stream",
          "name": "stderr",
          "text": [
            "[nltk_data] Downloading package punkt to /root/nltk_data...\n",
            "[nltk_data]   Package punkt is already up-to-date!\n"
          ]
        },
        {
          "output_type": "execute_result",
          "data": {
            "text/plain": [
              "True"
            ]
          },
          "metadata": {},
          "execution_count": 99
        }
      ],
      "source": [
        "nltk.download('punkt')"
      ]
    },
    {
      "cell_type": "code",
      "execution_count": 100,
      "metadata": {
        "colab": {
          "base_uri": "https://localhost:8080/"
        },
        "id": "BFQk2Ov2q-Vy",
        "outputId": "d7a70c07-18ae-43fc-9e8f-be54d3d56b29"
      },
      "outputs": [
        {
          "output_type": "stream",
          "name": "stderr",
          "text": [
            "[nltk_data] Downloading package stopwords to /root/nltk_data...\n",
            "[nltk_data]   Package stopwords is already up-to-date!\n",
            "[nltk_data] Downloading package opinion_lexicon to /root/nltk_data...\n",
            "[nltk_data]   Package opinion_lexicon is already up-to-date!\n"
          ]
        },
        {
          "output_type": "execute_result",
          "data": {
            "text/plain": [
              "True"
            ]
          },
          "metadata": {},
          "execution_count": 100
        }
      ],
      "source": [
        "nltk.download('stopwords')\n",
        "nltk.download('opinion_lexicon')"
      ]
    },
    {
      "cell_type": "code",
      "execution_count": 101,
      "metadata": {
        "id": "yNFWOR5tV9mJ"
      },
      "outputs": [],
      "source": [
        "# df = pd.DataFrame(data = train_data, index = list(range(1, train_data.num_rows + 1)), columns = train_data.column_names)\n",
        "# df.head()\n",
        "# df['sentence']"
      ]
    },
    {
      "cell_type": "code",
      "execution_count": 102,
      "metadata": {
        "colab": {
          "base_uri": "https://localhost:8080/"
        },
        "id": "o9aA9w-GqkGu",
        "outputId": "3475c4ee-9f48-459a-901f-be1df56c1073"
      },
      "outputs": [
        {
          "output_type": "stream",
          "name": "stdout",
          "text": [
            "Drive already mounted at /content/drive; to attempt to forcibly remount, call drive.mount(\"/content/drive\", force_remount=True).\n"
          ]
        }
      ],
      "source": [
        "from google.colab import drive\n",
        "drive.mount('/content/drive')"
      ]
    },
    {
      "cell_type": "code",
      "execution_count": 103,
      "metadata": {
        "colab": {
          "base_uri": "https://localhost:8080/"
        },
        "id": "gRNCh_UuUgyz",
        "outputId": "8a9b48a8-c627-485f-9876-902bf789e621"
      },
      "outputs": [
        {
          "output_type": "stream",
          "name": "stdout",
          "text": [
            "/content/drive/MyDrive/NLP/glove\n"
          ]
        }
      ],
      "source": [
        "%cd /content/drive/MyDrive/NLP/glove"
      ]
    },
    {
      "cell_type": "code",
      "execution_count": 104,
      "metadata": {
        "id": "OLTL8IPYWq2W"
      },
      "outputs": [],
      "source": [
        "#loading the glove embeddings\n",
        "\n",
        "def load_glove_embeddings(path):\n",
        "    with open(path,'r') as f:\n",
        "        embeddings = {}\n",
        "        for line in f:\n",
        "            line = line.split()\n",
        "            word = line[0]\n",
        "            vec = np.array([float(val) for val in line[1:]])\n",
        "            embeddings[word] = vec\n",
        "    return embeddings\n",
        "\n",
        "glove_embeddings = load_glove_embeddings('glove.6B.100d.txt')"
      ]
    },
    {
      "cell_type": "code",
      "execution_count": 105,
      "metadata": {
        "id": "ha3lAz22RaF-"
      },
      "outputs": [],
      "source": [
        "def tokenize(sentence):\n",
        "  tokens = word_tokenize(sentence)\n",
        "\n",
        "  return tokens"
      ]
    },
    {
      "cell_type": "code",
      "execution_count": 106,
      "metadata": {
        "id": "axkxLDxRBvJ-"
      },
      "outputs": [],
      "source": [
        "max_sequence_length = max(max(len(tokenize(example)), len(tokenize(example))) for example in train_data['sentence'])\n",
        "\n",
        "def tokens_to_embeddings(tokens, embeddings, max_sequence_length):\n",
        "  embedded = []\n",
        "  for token in tokens:\n",
        "    if token in embeddings:\n",
        "      vector = embeddings[token]\n",
        "\n",
        "    else:\n",
        "      vector = np.zeros((100,))\n",
        "\n",
        "    embedded.append(vector)\n",
        "    # print(len(embedded))\n",
        "\n",
        "  if len(embedded) < max_sequence_length:\n",
        "    padding = np.zeros((max_sequence_length - len(embedded), 100))\n",
        "    embedded.extend(padding)\n",
        "\n",
        "\n",
        "\n",
        "  return torch.tensor(embedded)"
      ]
    },
    {
      "cell_type": "code",
      "execution_count": 107,
      "metadata": {
        "id": "vqEiRcvujp4h"
      },
      "outputs": [],
      "source": [
        "#computing the maximum sequence length of the input\n",
        "\n",
        "# max_sequence_length = max(max(len(tokenize(example)), len(tokenize(example))) for example in train_data['sentence'])\n",
        "# print(max_sequence_length)"
      ]
    },
    {
      "cell_type": "code",
      "execution_count": 108,
      "metadata": {
        "colab": {
          "base_uri": "https://localhost:8080/"
        },
        "id": "8ZfjFGVw4PiZ",
        "outputId": "964c3bed-a283-4b33-e34f-5b56062775c1"
      },
      "outputs": [
        {
          "output_type": "stream",
          "name": "stdout",
          "text": [
            "Number of sentences:  67349\n"
          ]
        }
      ],
      "source": [
        "class SentenceDataset(Dataset):\n",
        "    def __init__(self, dataset, embeddings):\n",
        "        self.sentences = dataset['sentence']\n",
        "        self.labels = dataset['label']\n",
        "        self.embeddings = embeddings\n",
        "\n",
        "    def __len__(self):\n",
        "      # returns number of sentences\n",
        "        return len(self.sentences)\n",
        "\n",
        "    def __getitem__(self, idx):\n",
        "      #loads and returns a sample from the dataset\n",
        "        sentence = self.sentences[idx]\n",
        "        label = self.labels[idx]\n",
        "        tokens = tokenize(sentence)\n",
        "        vector = tokens_to_embeddings(tokens, self.embeddings, max_sequence_length)\n",
        "        # vector = sentence_to_embedding(sentence, glove_embeddings)\n",
        "        return vector, label\n",
        "\n",
        "\n",
        "train_dataset = SentenceDataset(dataset['train'], glove_embeddings)\n",
        "test_dataset = SentenceDataset(dataset['validation'], glove_embeddings)\n",
        "_, label = train_dataset.__getitem__(2)\n",
        "print(\"Number of sentences: \", train_dataset.__len__())"
      ]
    },
    {
      "cell_type": "code",
      "execution_count": 109,
      "metadata": {
        "id": "YBPCGSnFYltE"
      },
      "outputs": [],
      "source": [
        "class AdvSentenceDataset(Dataset):\n",
        "    def __init__(self, token_sequences, labels, embeddings, max_len):\n",
        "        self.sentences = token_sequences\n",
        "        self.labels = labels\n",
        "        self.embeddings = embeddings\n",
        "        self.max_len = max_len\n",
        "\n",
        "    def __len__(self):\n",
        "      # returns number of sentences\n",
        "        return len(self.sentences)\n",
        "\n",
        "    def __getitem__(self, idx):\n",
        "      #loads and returns a sample from the dataset\n",
        "        tokens = self.sentences[idx]\n",
        "        label = self.labels[idx]\n",
        "        # tokens = tokenize(sentence)\n",
        "        vector = tokens_to_embeddings(tokens, self.embeddings, max_sequence_length)\n",
        "        # vector = sentence_to_embedding(sentence, glove_embeddings)\n",
        "        return vector, label\n"
      ]
    },
    {
      "cell_type": "code",
      "execution_count": 110,
      "metadata": {
        "colab": {
          "base_uri": "https://localhost:8080/"
        },
        "id": "rob5GlIRXm60",
        "outputId": "32d8cfb0-5703-48ec-b144-4e05ee52e1c2"
      },
      "outputs": [
        {
          "output_type": "stream",
          "name": "stderr",
          "text": [
            "WARNING:datasets.arrow_dataset:Loading cached split indices for dataset at /root/.cache/huggingface/datasets/glue/sst2/1.0.0/dacbe3125aa31d7f70367a07a8a9e72a5a0bfeb5fc42e75c9db75b96da6053ad/cache-881c13e06f8fbdb0.arrow and /root/.cache/huggingface/datasets/glue/sst2/1.0.0/dacbe3125aa31d7f70367a07a8a9e72a5a0bfeb5fc42e75c9db75b96da6053ad/cache-0fa92c8b99579a14.arrow\n"
          ]
        },
        {
          "output_type": "stream",
          "name": "stdout",
          "text": [
            "Number of total training examples: 67349\n",
            "Number of total test examples: 872\n",
            "Train dataset length: 50000\n",
            "Validation dataset length: 17349\n",
            "Dataset features: {'sentence': Value(dtype='string', id=None), 'label': ClassLabel(names=['negative', 'positive'], id=None), 'idx': Value(dtype='int32', id=None)}\n"
          ]
        }
      ],
      "source": [
        "copy_train_dataset_original = train_data\n",
        "copy_test_dataset_original = test_data\n",
        "\n",
        "print(f\"Number of total training examples: {len(copy_train_dataset_original)}\")\n",
        "print(f\"Number of total test examples: {len(copy_test_dataset_original)}\")\n",
        "\n",
        "num_samples = len(copy_train_dataset_original)\n",
        "val_fraction = (num_samples - 50000) / num_samples\n",
        "dataset_trainval = copy_train_dataset_original.train_test_split(test_size=val_fraction, seed=42)\n",
        "\n",
        "train_data_new = dataset_trainval['train']\n",
        "valid_data = dataset_trainval['test']\n",
        "\n",
        "print(f'Train dataset length: {len(train_data_new)}')\n",
        "print(f'Validation dataset length: {len(valid_data)}')\n",
        "print(f\"Dataset features: {train_data.features}\")"
      ]
    },
    {
      "cell_type": "code",
      "execution_count": 111,
      "metadata": {
        "colab": {
          "base_uri": "https://localhost:8080/"
        },
        "id": "rTiYcPHjX-0A",
        "outputId": "c721fe35-c94d-4828-e3ff-456d32ed227d"
      },
      "outputs": [
        {
          "output_type": "stream",
          "name": "stderr",
          "text": [
            "WARNING:datasets.arrow_dataset:Loading cached split indices for dataset at /root/.cache/huggingface/datasets/glue/sst2/1.0.0/dacbe3125aa31d7f70367a07a8a9e72a5a0bfeb5fc42e75c9db75b96da6053ad/cache-57bd55a57d5924c6.arrow and /root/.cache/huggingface/datasets/glue/sst2/1.0.0/dacbe3125aa31d7f70367a07a8a9e72a5a0bfeb5fc42e75c9db75b96da6053ad/cache-435a9b10baa342e7.arrow\n"
          ]
        },
        {
          "output_type": "stream",
          "name": "stdout",
          "text": [
            "Train dataset length: 800\n",
            "Validation dataset length: 72\n",
            "Dataset features: {'sentence': Value(dtype='string', id=None), 'label': ClassLabel(names=['negative', 'positive'], id=None), 'idx': Value(dtype='int32', id=None)}\n"
          ]
        }
      ],
      "source": [
        "num_samples_adv = len(copy_test_dataset_original)\n",
        "val_fraction_adv = (num_samples_adv - 800) / num_samples_adv\n",
        "dataset_traintest = copy_test_dataset_original.train_test_split(test_size=val_fraction_adv, seed=42)\n",
        "\n",
        "train_data_adv = dataset_traintest['train']\n",
        "valid_data_adv = dataset_traintest['test']\n",
        "\n",
        "print(f'Train dataset length: {len(train_data_adv)}')\n",
        "print(f'Validation dataset length: {len(valid_data_adv)}')\n",
        "print(f\"Dataset features: {train_data_adv.features}\")\n"
      ]
    },
    {
      "cell_type": "code",
      "execution_count": 112,
      "metadata": {
        "id": "6pCbf1FdYMZM"
      },
      "outputs": [],
      "source": [
        "train_dataset_new = SentenceDataset(train_data, glove_embeddings)\n",
        "test_dataset_new = SentenceDataset(valid_data, glove_embeddings)"
      ]
    },
    {
      "cell_type": "code",
      "execution_count": 113,
      "metadata": {
        "id": "D8sxTI5wYPFB"
      },
      "outputs": [],
      "source": [
        "train_loader_new = DataLoader(train_dataset, batch_size=128, shuffle=True)\n",
        "test_loader_new = DataLoader(test_dataset, batch_size=128, shuffle=False)"
      ]
    },
    {
      "cell_type": "code",
      "execution_count": 114,
      "metadata": {
        "id": "ZKVbwmCdYZpk"
      },
      "outputs": [],
      "source": [
        "glove = GloVe(name='6B', dim=100)"
      ]
    },
    {
      "cell_type": "code",
      "execution_count": 115,
      "metadata": {
        "id": "hWZLf_nuY0-o"
      },
      "outputs": [],
      "source": [
        "def find_similar_words(word, top_k=5):\n",
        "    word_vector = glove.vectors[glove.stoi[word]]\n",
        "    distances = torch.cosine_similarity(glove.vectors, word_vector.unsqueeze(0))\n",
        "    _, indices = torch.topk(distances, top_k+1)  # Exclude the word itself\n",
        "    similar_words = [glove.itos[idx] for idx in indices.tolist() if glove.itos[idx] != word]\n",
        "    return similar_words\n"
      ]
    },
    {
      "cell_type": "code",
      "execution_count": 116,
      "metadata": {
        "id": "gZfk0QqgdSIo"
      },
      "outputs": [],
      "source": [
        "DEFAULT_IGNORE_TOKENS = [\"@@NULL@@\", \".\", \",\", \";\", \"!\", \"?\", \"[MASK]\", \"[SEP]\", \"[CLS]\"]\n",
        "def k_similar_words(embedding, vocab, top_k = 5):\n",
        "  distances = torch.cosine_similarity(vocab.vectors, embedding)\n",
        "  _, indices = torch.topk(distances, top_k+1)\n",
        "  similar_words = [vocab.itos[idx] for idx in indices.tolist() if not torch.equal(vocab.vectors[idx], embedding)]\n",
        "  words = []\n",
        "  for word in similar_words:\n",
        "    if word not in DEFAULT_IGNORE_TOKENS:\n",
        "      words.append(word)\n",
        "\n",
        "  return words"
      ]
    },
    {
      "cell_type": "code",
      "source": [
        "w = glove['hello']\n",
        "\n",
        "print(k_similar_words(w, glove, 10))"
      ],
      "metadata": {
        "colab": {
          "base_uri": "https://localhost:8080/"
        },
        "id": "fz8UXL9-cf7p",
        "outputId": "378a08eb-2e36-4fce-df8d-fe405dc227d0"
      },
      "execution_count": 117,
      "outputs": [
        {
          "output_type": "stream",
          "name": "stdout",
          "text": [
            "['goodbye', 'hey', 'yeah', 'dear', 'mister', 'wow', 'muddah', 'mama', 'thank']\n"
          ]
        }
      ]
    },
    {
      "cell_type": "code",
      "execution_count": 118,
      "metadata": {
        "id": "trFrkyEnwuT2"
      },
      "outputs": [],
      "source": [
        "def return_word(embedding, vectors):\n",
        "  distances = torch.norm(glove.vectors - embedding, dim=1)\n",
        "  # print(embedding.shape)\n",
        "  closest_index = torch.argmin(distances)\n",
        "  token = glove.itos[closest_index]\n",
        "  return token\n"
      ]
    },
    {
      "cell_type": "code",
      "execution_count": 119,
      "metadata": {
        "id": "bUALfEKO70kh"
      },
      "outputs": [],
      "source": [
        "def return_sentece(sentence, vectors):\n",
        "  output_sentence = []\n",
        "  for i in range(sentence.shape[0]):\n",
        "    distances = torch.norm(glove.vectors - sentence[i], dim=1)\n",
        "    closest_index = torch.argmin(distances)\n",
        "    tok = glove.itos[closest_index]\n",
        "    output_sentence.append(tok)\n",
        "\n",
        "  return output_sentence"
      ]
    },
    {
      "cell_type": "markdown",
      "metadata": {
        "id": "NGQFJjS9B241"
      },
      "source": [
        "##Model Architecture"
      ]
    },
    {
      "cell_type": "code",
      "execution_count": 120,
      "metadata": {
        "id": "p8b-o4tw_v2e"
      },
      "outputs": [],
      "source": [
        "# !pip install torchtext==0.4"
      ]
    },
    {
      "cell_type": "code",
      "execution_count": 121,
      "metadata": {
        "id": "5dc9fpBnB4vb"
      },
      "outputs": [],
      "source": [
        "class Sentiment_Classifier(nn.Module):\n",
        "  def __init__(self,  embed_dim, out_dim, attention_heads, max_length = 53):\n",
        "    super(Sentiment_Classifier, self).__init__()\n",
        "\n",
        "    self.attention = nn.MultiheadAttention(embed_dim = embed_dim, num_heads=attention_heads)\n",
        "    self.layer_norm1 = nn.LayerNorm(embed_dim)\n",
        "    self.fc1 = nn.Linear(embed_dim, embed_dim)\n",
        "    self.layer_norm2 = nn.LayerNorm(embed_dim)\n",
        "\n",
        "    self.attention2 = nn.MultiheadAttention(embed_dim = embed_dim, num_heads=attention_heads)\n",
        "    self.layer_norm3 = nn.LayerNorm(embed_dim)\n",
        "    self.fc2 = nn.Linear(embed_dim, embed_dim)\n",
        "    self.layer_norm4 = nn.LayerNorm(embed_dim)\n",
        "\n",
        "    self.fc = nn.Linear(embed_dim, out_dim)\n",
        "    self.position_embedding = nn.Embedding(max_length, embed_dim)\n",
        "    self.max_length = max_length\n",
        "\n",
        "\n",
        "  def forward(self, x):\n",
        "\n",
        "\n",
        "    #obtaining the position indices and the position embeddings\n",
        "\n",
        "    positions = torch.arange(self.max_length).unsqueeze(0)\n",
        "    positions = positions.expand(x.size(0), -1)\n",
        "    position_embedded = self.position_embedding(positions)\n",
        "\n",
        "    #adding the position embeddings to the input\n",
        "\n",
        "    x = x + position_embedded\n",
        "\n",
        "    x = torch.sum(x, dim=1)/53\n",
        "\n",
        "\n",
        "    x1, _ = self.attention(x, x, x)\n",
        "\n",
        "    x2 = self.layer_norm1(x + x1)\n",
        "    x3 = self.fc1(x2)\n",
        "    x4 = self.layer_norm2(x3 + x2)\n",
        "\n",
        "    x5, _ = self.attention2(x4, x4, x4)\n",
        "    x6 = self.layer_norm3(x5 + x4)\n",
        "    x7 = self.fc2(x6)\n",
        "    outputs = self.layer_norm4(x7 + x6)\n",
        "\n",
        "\n",
        "    y = self.fc(outputs)\n",
        "    return y\n",
        "\n"
      ]
    },
    {
      "cell_type": "code",
      "execution_count": 122,
      "metadata": {
        "colab": {
          "base_uri": "https://localhost:8080/"
        },
        "id": "DPm_gwLUzJDF",
        "outputId": "1f426f02-5cf0-4127-a0c5-4435790b5e54"
      },
      "outputs": [
        {
          "output_type": "stream",
          "name": "stdout",
          "text": [
            "Sentiment_Classifier(\n",
            "  (attention): MultiheadAttention(\n",
            "    (out_proj): NonDynamicallyQuantizableLinear(in_features=100, out_features=100, bias=True)\n",
            "  )\n",
            "  (layer_norm1): LayerNorm((100,), eps=1e-05, elementwise_affine=True)\n",
            "  (fc1): Linear(in_features=100, out_features=100, bias=True)\n",
            "  (layer_norm2): LayerNorm((100,), eps=1e-05, elementwise_affine=True)\n",
            "  (attention2): MultiheadAttention(\n",
            "    (out_proj): NonDynamicallyQuantizableLinear(in_features=100, out_features=100, bias=True)\n",
            "  )\n",
            "  (layer_norm3): LayerNorm((100,), eps=1e-05, elementwise_affine=True)\n",
            "  (fc2): Linear(in_features=100, out_features=100, bias=True)\n",
            "  (layer_norm4): LayerNorm((100,), eps=1e-05, elementwise_affine=True)\n",
            "  (fc): Linear(in_features=100, out_features=2, bias=True)\n",
            "  (position_embedding): Embedding(53, 100)\n",
            ")\n"
          ]
        }
      ],
      "source": [
        "embed_dim = 100\n",
        "num_classes = 2\n",
        "attention_heads = 5\n",
        "\n",
        "model = Sentiment_Classifier(embed_dim, num_classes, attention_heads)\n",
        "print(model)"
      ]
    },
    {
      "cell_type": "code",
      "execution_count": 123,
      "metadata": {
        "id": "wB8o6ldmwUZX"
      },
      "outputs": [],
      "source": [
        "device = torch.device(\"cuda:0\" if torch.cuda.is_available() else \"cpu\")\n",
        "model = model.to(device)\n",
        "\n",
        "# train_loader = DataLoader(train_dataset, batch_size=64, shuffle=True)\n",
        "# test_loader = DataLoader(test_dataset, batch_size=64, shuffle=False)\n"
      ]
    },
    {
      "cell_type": "markdown",
      "metadata": {
        "id": "Q4gkzS0lJq6Y"
      },
      "source": [
        "Define the training loop"
      ]
    },
    {
      "cell_type": "code",
      "execution_count": 124,
      "metadata": {
        "id": "C-EDym3lxu3X"
      },
      "outputs": [],
      "source": [
        "def train(model, optimizer, criterion, num_epochs):\n",
        "\n",
        "  avg_loss = 0\n",
        "  correct = 0\n",
        "  total = 0\n",
        "\n",
        "  losses = []\n",
        "\n",
        "  # Switch to train mode\n",
        "  model.train()\n",
        "  epoch = 0\n",
        "\n",
        "  for epoch in range(num_epochs):\n",
        "    print(\"Epoch: \", epoch)\n",
        "    # epoch =+ 1\n",
        "\n",
        "    avg_loss = 0\n",
        "    correct = 0\n",
        "    total = 0\n",
        "\n",
        "    for batch_idx, (data, targets) in enumerate(train_loader_new):\n",
        "        data = data.to(device=device).float()\n",
        "        targets = targets.to(device=device).long()\n",
        "        # print(targets)\n",
        "\n",
        "\n",
        "        scores = model(data)\n",
        "        # print(scores)\n",
        "        loss = criterion(scores, targets)\n",
        "\n",
        "        optimizer.zero_grad()\n",
        "        loss.backward()\n",
        "\n",
        "        optimizer.step()\n",
        "\n",
        "        # Keep track of loss and accuracy\n",
        "        avg_loss += loss.item()\n",
        "        _, predicted = torch.max(scores, 1)\n",
        "        total += targets.size(0)\n",
        "        correct += (predicted == targets).sum().item()\n",
        "\n",
        "    train_loss = avg_loss/len(train_loader_new)\n",
        "    losses.append(train_loss)\n",
        "    accuracy = correct/total\n",
        "\n",
        "\n",
        "  return losses, accuracy"
      ]
    },
    {
      "cell_type": "code",
      "execution_count": null,
      "metadata": {
        "colab": {
          "base_uri": "https://localhost:8080/"
        },
        "id": "kskqRflQD3eK",
        "outputId": "eb3896ab-c4af-4154-968f-38a321ee7530"
      },
      "outputs": [
        {
          "name": "stdout",
          "output_type": "stream",
          "text": [
            "Epoch:  0\n",
            "Epoch:  1\n",
            "Epoch:  2\n",
            "Epoch:  3\n",
            "Epoch:  4\n",
            "Epoch:  5\n",
            "Epoch:  6\n",
            "Epoch:  7\n",
            "Epoch:  8\n",
            "Epoch:  9\n",
            "Epoch:  10\n",
            "Epoch:  11\n",
            "Epoch:  12\n",
            "Epoch:  13\n",
            "Epoch:  14\n",
            "Epoch:  15\n",
            "Epoch:  16\n",
            "Epoch:  17\n",
            "Epoch:  18\n",
            "Epoch:  19\n",
            "Epoch:  20\n",
            "Epoch:  21\n",
            "Epoch:  22\n",
            "Epoch:  23\n",
            "Epoch:  24\n",
            "Epoch:  25\n",
            "Epoch:  26\n",
            "Epoch:  27\n",
            "Epoch:  28\n",
            "Epoch:  29\n",
            "Epoch:  30\n",
            "Epoch:  31\n",
            "Epoch:  32\n",
            "Epoch:  33\n",
            "Epoch:  34\n"
          ]
        }
      ],
      "source": [
        "num_epochs = 35\n",
        "optimizer = torch.optim.Adam(model.parameters(), lr=0.0001)\n",
        "# optimizer = torch.optim.Adagrad(model.parameters())\n",
        "# optimizer = torch.optim.RMSprop(model.parameters(), lr=0.0001)\n",
        "criterion = nn.CrossEntropyLoss()\n",
        "\n",
        "losses, accuracy = train(model, optimizer, criterion, num_epochs)"
      ]
    },
    {
      "cell_type": "code",
      "execution_count": null,
      "metadata": {
        "colab": {
          "base_uri": "https://localhost:8080/"
        },
        "id": "DN0eJktNHQYU",
        "outputId": "bdae2e24-37d7-477d-a8ed-4738d2cee010"
      },
      "outputs": [
        {
          "name": "stdout",
          "output_type": "stream",
          "text": [
            "0.8107618524402738\n",
            "Sentiment_Classifier(\n",
            "  (attention): MultiheadAttention(\n",
            "    (out_proj): NonDynamicallyQuantizableLinear(in_features=100, out_features=100, bias=True)\n",
            "  )\n",
            "  (layer_norm1): LayerNorm((100,), eps=1e-05, elementwise_affine=True)\n",
            "  (fc1): Linear(in_features=100, out_features=100, bias=True)\n",
            "  (layer_norm2): LayerNorm((100,), eps=1e-05, elementwise_affine=True)\n",
            "  (attention2): MultiheadAttention(\n",
            "    (out_proj): NonDynamicallyQuantizableLinear(in_features=100, out_features=100, bias=True)\n",
            "  )\n",
            "  (layer_norm3): LayerNorm((100,), eps=1e-05, elementwise_affine=True)\n",
            "  (fc2): Linear(in_features=100, out_features=100, bias=True)\n",
            "  (layer_norm4): LayerNorm((100,), eps=1e-05, elementwise_affine=True)\n",
            "  (fc): Linear(in_features=100, out_features=2, bias=True)\n",
            "  (position_embedding): Embedding(53, 100)\n",
            ")\n"
          ]
        }
      ],
      "source": [
        "print(accuracy)\n",
        "print(model)"
      ]
    },
    {
      "cell_type": "code",
      "execution_count": null,
      "metadata": {
        "colab": {
          "base_uri": "https://localhost:8080/",
          "height": 448
        },
        "id": "XibqRCv9pzRR",
        "outputId": "5aa8eccf-835e-4317-ecbb-6b7f1d3aaaaa"
      },
      "outputs": [
        {
          "data": {
            "text/plain": [
              "[<matplotlib.lines.Line2D at 0x7f9b4083c550>]"
            ]
          },
          "execution_count": 35,
          "metadata": {},
          "output_type": "execute_result"
        },
        {
          "data": {
            "image/png": "[encoded data removed]",
            "text/plain": [
              "<Figure size 640x480 with 1 Axes>"
            ]
          },
          "metadata": {},
          "output_type": "display_data"
        }
      ],
      "source": [
        "plt.plot(np.linspace(0, len(losses), len(losses)), losses)"
      ]
    },
    {
      "cell_type": "code",
      "execution_count": null,
      "metadata": {
        "colab": {
          "base_uri": "https://localhost:8080/"
        },
        "id": "RTEih6G_ll3V",
        "outputId": "3f486740-1317-47a3-9525-39b3b85f8ab7"
      },
      "outputs": [
        {
          "name": "stdout",
          "output_type": "stream",
          "text": [
            "/content/drive/MyDrive/NLP\n"
          ]
        }
      ],
      "source": [
        "%cd /content/drive/MyDrive/NLP"
      ]
    },
    {
      "cell_type": "code",
      "execution_count": null,
      "metadata": {
        "id": "Mdh-lVGgHrRm"
      },
      "outputs": [],
      "source": [
        "# torch.save(model.state_dict(), './self_att_35_100d')\n",
        "# LOSS = losses[-1]\n",
        "# torch.save({'epoch': 30, 'model_state_dict': model.state_dict(), 'optimizer_state_dict': optimizer.state_dict(), 'loss': LOSS}, './self_att_35_100d_full')\n",
        "\n",
        "#self_att_new_adam_30 - self attention with two attention layers trained for 30 epochs with lr = 0.0001\n",
        "# np.save(checkpoint_dir + \"losses\", losses)"
      ]
    },
    {
      "cell_type": "code",
      "execution_count": null,
      "metadata": {
        "colab": {
          "base_uri": "https://localhost:8080/"
        },
        "id": "QL8CgqVYxT3i",
        "outputId": "2d605d76-b2b3-42bf-8eb0-2c5ffc13f300"
      },
      "outputs": [
        {
          "data": {
            "text/plain": [
              "Sentiment_Classifier(\n",
              "  (attention): MultiheadAttention(\n",
              "    (out_proj): NonDynamicallyQuantizableLinear(in_features=100, out_features=100, bias=True)\n",
              "  )\n",
              "  (layer_norm1): LayerNorm((100,), eps=1e-05, elementwise_affine=True)\n",
              "  (fc1): Linear(in_features=100, out_features=100, bias=True)\n",
              "  (layer_norm2): LayerNorm((100,), eps=1e-05, elementwise_affine=True)\n",
              "  (attention2): MultiheadAttention(\n",
              "    (out_proj): NonDynamicallyQuantizableLinear(in_features=100, out_features=100, bias=True)\n",
              "  )\n",
              "  (layer_norm3): LayerNorm((100,), eps=1e-05, elementwise_affine=True)\n",
              "  (fc2): Linear(in_features=100, out_features=100, bias=True)\n",
              "  (layer_norm4): LayerNorm((100,), eps=1e-05, elementwise_affine=True)\n",
              "  (fc): Linear(in_features=100, out_features=2, bias=True)\n",
              "  (position_embedding): Embedding(53, 100)\n",
              ")"
            ]
          },
          "execution_count": 39,
          "metadata": {},
          "output_type": "execute_result"
        }
      ],
      "source": [
        "mod = Sentiment_Classifier(embed_dim, num_classes, attention_heads)\n",
        "optimizer1 = torch.optim.Adam(model.parameters(), lr=0.0001)\n",
        "\n",
        "checkpoint = torch.load('/content/drive/MyDrive/NLP/self_att_35_100d_full')\n",
        "mod.load_state_dict(checkpoint['model_state_dict'])\n",
        "optimizer.load_state_dict(checkpoint['optimizer_state_dict'])\n",
        "epoch = checkpoint['epoch']\n",
        "loss = checkpoint['loss']\n",
        "model.train()\n"
      ]
    },
    {
      "cell_type": "code",
      "execution_count": null,
      "metadata": {
        "colab": {
          "base_uri": "https://localhost:8080/"
        },
        "id": "NZAIH5LZzHpU",
        "outputId": "494efbb9-f577-453d-b260-d3eaa4ca5d0c"
      },
      "outputs": [
        {
          "name": "stdout",
          "output_type": "stream",
          "text": [
            "Epoch:  0\n",
            "Epoch:  1\n",
            "Epoch:  2\n",
            "Epoch:  3\n",
            "Epoch:  4\n",
            "Epoch:  5\n",
            "Epoch:  6\n",
            "Epoch:  7\n",
            "Epoch:  8\n",
            "Epoch:  9\n",
            "0.8113557736566245\n"
          ]
        }
      ],
      "source": [
        "losses_resumed, accuracy_resumed = train(mod, optimizer1, criterion, 10)\n",
        "print(accuracy_resumed)"
      ]
    },
    {
      "cell_type": "code",
      "execution_count": null,
      "metadata": {
        "colab": {
          "base_uri": "https://localhost:8080/"
        },
        "id": "RH-1Ypk13wW3",
        "outputId": "49b0ad45-9b36-458a-9b82-6eb0d5056b56"
      },
      "outputs": [
        {
          "name": "stdout",
          "output_type": "stream",
          "text": [
            "0.844481729498582\n"
          ]
        }
      ],
      "source": [
        "print(accuracy_resumed)"
      ]
    },
    {
      "cell_type": "code",
      "execution_count": null,
      "metadata": {
        "id": "xqQ2LrbLaey_"
      },
      "outputs": [],
      "source": [
        "LOSS_RES = losses_resumed[-1]\n",
        "torch.save({'epoch': 30, 'model_state_dict': model.state_dict(), 'optimizer_state_dict': optimizer.state_dict(), 'loss': LOSS_RES}, './self_att_35_100d_full')"
      ]
    },
    {
      "cell_type": "code",
      "execution_count": null,
      "metadata": {
        "colab": {
          "base_uri": "https://localhost:8080/",
          "height": 466
        },
        "id": "P5_EHvUh0YCQ",
        "outputId": "51c280ab-f6ba-4de6-a411-fa4f5da303b9"
      },
      "outputs": [
        {
          "name": "stdout",
          "output_type": "stream",
          "text": [
            "35\n"
          ]
        },
        {
          "data": {
            "text/plain": [
              "[<matplotlib.lines.Line2D at 0x7f9b3872ce50>]"
            ]
          },
          "execution_count": 42,
          "metadata": {},
          "output_type": "execute_result"
        },
        {
          "data": {
            "image/png": "[encoded data removed]",
            "text/plain": [
              "<Figure size 640x480 with 1 Axes>"
            ]
          },
          "metadata": {},
          "output_type": "display_data"
        }
      ],
      "source": [
        "# losses = losses[:30]\n",
        "print(len(losses))\n",
        "loss_tot = losses\n",
        "loss_tot.extend(losses_resumed)\n",
        "plt.plot(np.linspace(0, len(loss_tot), len(loss_tot)), loss_tot)"
      ]
    },
    {
      "cell_type": "code",
      "execution_count": 125,
      "metadata": {
        "colab": {
          "base_uri": "https://localhost:8080/"
        },
        "id": "YyB6_q5bPrAP",
        "outputId": "a98053df-4913-43e7-b326-8e272d670d11"
      },
      "outputs": [
        {
          "output_type": "stream",
          "name": "stdout",
          "text": [
            "Accuracy on test data: 50.92\n"
          ]
        }
      ],
      "source": [
        "def check_accuracy(loader, model):\n",
        "    num_correct = 0\n",
        "    num_samples = 0\n",
        "    model.eval()\n",
        "\n",
        "    with torch.no_grad():\n",
        "        for x, y in loader:\n",
        "            x = x.to(device=device).float()\n",
        "            y = y.to(device=device).long()\n",
        "\n",
        "            scores = model(x)\n",
        "            _, predictions = scores.max(1)\n",
        "            num_correct += (predictions == y).sum()\n",
        "            num_samples += predictions.size(0)\n",
        "\n",
        "    return num_correct/num_samples\n",
        "\n",
        "print(f'Accuracy on test data: {check_accuracy(test_loader_new, model)*100:.2f}')"
      ]
    },
    {
      "cell_type": "markdown",
      "metadata": {
        "id": "BEmHClg-keO6"
      },
      "source": [
        "## Hot Flip"
      ]
    },
    {
      "cell_type": "code",
      "execution_count": 126,
      "metadata": {
        "colab": {
          "base_uri": "https://localhost:8080/"
        },
        "id": "mgArtez4kwHJ",
        "outputId": "dd88ba52-d8fb-4f1a-9c48-079563361255"
      },
      "outputs": [
        {
          "output_type": "stream",
          "name": "stdout",
          "text": [
            "Accuracy on test data: 77.18\n"
          ]
        }
      ],
      "source": [
        "vocab = GloVe(name='6B', dim=100)\n",
        "sentence = \"this is bad\"\n",
        "\n",
        "tokens = tokenize(sentence)\n",
        "\n",
        "classifier = Sentiment_Classifier(embed_dim, num_classes, 5)\n",
        "checkpoint = torch.load('/content/drive/MyDrive/NLP/self_att_35_100d_full')\n",
        "classifier.load_state_dict(checkpoint['model_state_dict'])\n",
        "classifier.eval()\n",
        "print(f'Accuracy on test data: {check_accuracy(test_loader_new, classifier)*100:.2f}')\n"
      ]
    },
    {
      "cell_type": "code",
      "execution_count": 127,
      "metadata": {
        "id": "VdMAJDqruKp3"
      },
      "outputs": [],
      "source": [
        "embeddings = {word: vector.numpy() for word, vector in zip(vocab.itos, vocab.vectors)}"
      ]
    },
    {
      "cell_type": "code",
      "execution_count": 128,
      "metadata": {
        "id": "ZQWSfG_3qapA"
      },
      "outputs": [],
      "source": [
        "DEFAULT_IGNORE_TOKENS = [\"@@NULL@@\", \".\", \",\", \";\", \"!\", \"?\", \"[MASK]\", \"[SEP]\", \"[CLS]\", '\"']\n",
        "stop_words = set(stopwords.words('english'))\n",
        "opinion_words = set(opinion_lexicon.words())\n",
        "ignore_tokens = set(DEFAULT_IGNORE_TOKENS) | stop_words | opinion_words\n",
        "\n",
        "class HotFlipAdversary:\n",
        "  def __init__(self, model, loader, vocab, ignore_tokens):\n",
        "    self.model = model\n",
        "    self.loader = loader\n",
        "    self.embeddings = vocab\n",
        "    self.ignore_tokens = ignore_tokens\n",
        "\n",
        "  def hotflip_attack(self, input_sentence, input_ids, true_label):\n",
        "    \"\"\"\n",
        "    Performs the hotflip attack by calculating the gradient of the loss with respect to the input,\n",
        "    and then flipping the word that would cause the greatest increase in the loss.\n",
        "\n",
        "    :param model: The model to attack.\n",
        "    :param input_ids: The input to the model, which will be attacked.\n",
        "    :param true_label: The true label of the input.\n",
        "    # :param tokenizer: The tokenizer used by the model.\n",
        "    :return: The adversarial example.\n",
        "    \"\"\"\n",
        "\n",
        "    sentence_length = len(word_tokenize(input_sentence))\n",
        "\n",
        "    # Create tensors\n",
        "    input_ids = torch.from_numpy(input_ids)\n",
        "    true_label = torch.tensor([true_label])\n",
        "\n",
        "    # We want to compute gradients with respect to input, so we need to set requires_grad\n",
        "    input_ids = input_ids.to(device=device).float()\n",
        "    true_label = true_label.to(device=device).long()\n",
        "    input_ids = input_ids.unsqueeze(0) # Create batch of size 1\n",
        "    input_ids.requires_grad = True\n",
        "    input_ids.retain_grad()\n",
        "\n",
        "    # Forward pass\n",
        "    outputs = model(input_ids)\n",
        "\n",
        "    initial_pred = outputs.argmax(dim=1)[0]\n",
        "\n",
        "    # Calculate the loss\n",
        "    loss = F.cross_entropy(outputs, true_label)\n",
        "\n",
        "    # Calculate gradients\n",
        "    loss.backward()\n",
        "\n",
        "    # Get gradient for input\n",
        "    grads = input_ids.grad\n",
        "    grads = grads.squeeze(0)\n",
        "    grads = grads[:sentence_length, :]\n",
        "\n",
        "    flipped = []\n",
        "    tokenized_input = word_tokenize(input_sentence)\n",
        "    for index, token in enumerate(tokenized_input):\n",
        "      if token in ignore_tokens:\n",
        "        flipped.append(index)\n",
        "\n",
        "\n",
        "    grads_magnitude = torch.einsum('ij,ij->i', grads, grads)\n",
        "\n",
        "    # only flip a token once\n",
        "    for index in flipped:\n",
        "      grads_magnitude[index] = -1\n",
        "\n",
        "    if torch.max(grads_magnitude) == -1:\n",
        "      return tokenized_input, -1\n",
        "\n",
        "    # We flip the token with highest gradient norm.\n",
        "    index_of_token_to_flip = torch.argmax(grads_magnitude)\n",
        "    print('index_of_token_to_flip', index_of_token_to_flip)\n",
        "\n",
        "    flipped.append(index_of_token_to_flip)\n",
        "\n",
        "    # original_word = vocab[tokenized_input[index_of_token_to_flip]]\n",
        "\n",
        "    # similar_word = k_similar_words(original_word, vocab, 10)\n",
        "\n",
        "    # adv = tokenized_input\n",
        "    # max_increase = 0\n",
        "\n",
        "    # for word in similar_word:\n",
        "\n",
        "    #     adv[index_of_token_to_flip] = word\n",
        "    #     new_adv = tokens_to_embeddings(adv, glove_embeddings, 53)\n",
        "    #     print(new_adv.shape)\n",
        "    #     outputs = model(new_adv.float()).argmax(dim=1)[0]\n",
        "    #     loss = F.cross_entropy(outputs, true_label)\n",
        "    #     if loss > max_increase:\n",
        "    #         max_increase = loss\n",
        "    #         new_token = word\n",
        "    #         # adv[max_grad_idx] = adversarial_word\n",
        "    #     else:\n",
        "    #       continue\n",
        "\n",
        "    new_token = self.first_order_taylor(grads[index_of_token_to_flip], tokenized_input[index_of_token_to_flip])\n",
        "    print(f'Adversarial: {new_token}')\n",
        "\n",
        "    prev_token = tokenized_input[index_of_token_to_flip] # .item()\n",
        "    new_grads = torch.clone(input_ids[0])\n",
        "\n",
        "    new_grads[index_of_token_to_flip] = torch.from_numpy(embeddings[new_token])\n",
        "    new_outputs = model(new_grads.unsqueeze(0))\n",
        "\n",
        "    new_pred = new_outputs.argmax(dim=1)[0]\n",
        "    print(f'Flip succesful? {new_pred == initial_pred}')\n",
        "\n",
        "\n",
        "    adversarial_sentence = tokenized_input.copy()\n",
        "    adversarial_sentence[index_of_token_to_flip] = new_token\n",
        "    # print(f'New sentence: {adversarial_sentence}')\n",
        "\n",
        "    return adversarial_sentence, index_of_token_to_flip\n",
        "\n",
        "  # TODO\n",
        "  def hotflip_attack_grouped(self, loader, rest):\n",
        "\n",
        "    for batch_idx, (data, targets) in enumerate(loader):\n",
        "      data = data.to(device=device).float()\n",
        "      targets = targets.to(device=device).long()\n",
        "\n",
        "      # Forward pass\n",
        "      scores = model(data)\n",
        "      loss = criterion(scores, targets)\n",
        "      _, predictions = scores.max(1)\n",
        "\n",
        "      # Calculate the loss\n",
        "      loss = criterion(scores, targets)\n",
        "\n",
        "      # Calculate gradients\n",
        "      loss.backward()\n",
        "\n",
        "      grads = data.grad\n",
        "\n",
        "      grads_magnitude = torch.einsum('ij,ij->i', grads, grads)\n",
        "\n",
        "  # Working on this\n",
        "  def simple_hotflip_data_generator(self, dataset):\n",
        "    adversarial_examples = []\n",
        "    labels = []\n",
        "    all_positions = []\n",
        "    count = 0\n",
        "\n",
        "    for instance in dataset:\n",
        "      input_sentence = instance['sentence']\n",
        "      input_tensor = tokens_to_embeddings(word_tokenize(input_sentence), glove_embeddings, 53)\n",
        "      input_tensor = input_tensor.to(device=device).float()\n",
        "      input_label = instance['label']\n",
        "\n",
        "      adv_sentence, position = self.hotflip_attack(input_sentence, input_ids, input_label)\n",
        "      adversarial_examples.append(adv_sentence)\n",
        "      labels.append(input_label)\n",
        "      all_positions.append(position)\n",
        "\n",
        "      print(count)\n",
        "      count += 1\n",
        "\n",
        "    return adversarial_examples, labels, all_positions\n",
        "\n",
        "\n",
        "  def first_order_taylor(self, grad, token):\n",
        "    \"\"\"\n",
        "    Replaces the current token with another token to increase the loss.\n",
        "    \"\"\"\n",
        "\n",
        "    if token in embeddings:\n",
        "      word_embedding = torch.from_numpy(embeddings[token]).to(device=device)\n",
        "    else:\n",
        "      word_embedding = torch.zeros(100)\n",
        "\n",
        "    # f(x + delta) = f(x) + f'(x) * delta\n",
        "    # delta: v - x -> difference in embeddings -> for adv_token in embeddings: delta = embeddings[x_token] - embeddings[adv_token]  ([100])\n",
        "    max_delta, adv = max(((-1 * (word_embedding - torch.from_numpy(embeddings[adv_token]).to(device=device)).dot(grad)).detach().cpu(), adv_token) for adv_token in embeddings if adv_token not in ignore_tokens)\n",
        "\n",
        "    return adv\n",
        "    # f'(x): gradient of that specific token based on the input grad_x = grad[x_id]  ([100])\n",
        "    #grad\n",
        "    # f(x): is prediction of original thus dimensions shouldn't matter\n",
        "\n"
      ]
    },
    {
      "cell_type": "code",
      "execution_count": 129,
      "metadata": {
        "id": "uq-CtvX7r_KQ"
      },
      "outputs": [],
      "source": [
        "loss_fn = nn.CrossEntropyLoss()\n",
        "\n",
        "adversary = HotFlipAdversary(classifier, test_loader_new, vocab, ignore_tokens)"
      ]
    },
    {
      "cell_type": "code",
      "execution_count": 130,
      "metadata": {
        "colab": {
          "base_uri": "https://localhost:8080/"
        },
        "id": "OwNnibzyun8l",
        "outputId": "796dc05b-262c-4589-f85c-a08ac746cd70"
      },
      "outputs": [
        {
          "output_type": "stream",
          "name": "stdout",
          "text": [
            "allows us to hope that nolan is poised to embark a major career as a commercial yet inventive filmmaker . \n",
            "1\n"
          ]
        }
      ],
      "source": [
        "input_sentence = test_data['sentence'][2]\n",
        "print(input_sentence)\n",
        "input_ids = tokens_to_embeddings(tokenize(input_sentence), embeddings, 53).numpy()\n",
        "true_label = test_data['label'][2]\n",
        "print(true_label)"
      ]
    },
    {
      "cell_type": "code",
      "execution_count": 131,
      "metadata": {
        "colab": {
          "base_uri": "https://localhost:8080/"
        },
        "id": "8zEEk-nmuWJN",
        "outputId": "98a70c4f-5553-42b1-de57-22a29ef03940"
      },
      "outputs": [
        {
          "output_type": "stream",
          "name": "stdout",
          "text": [
            "index_of_token_to_flip tensor(0)\n",
            "Adversarial: dnp\n",
            "Flip succesful? True\n"
          ]
        }
      ],
      "source": [
        "adversarial_example = adversary.hotflip_attack(input_sentence, input_ids, true_label)"
      ]
    },
    {
      "cell_type": "code",
      "execution_count": 132,
      "metadata": {
        "id": "mttVz_yzMObQ"
      },
      "outputs": [],
      "source": [
        "# device = torch.device('cuda')\n",
        "device = torch.device('cuda' if torch.cuda.is_available() else 'cpu')"
      ]
    },
    {
      "cell_type": "code",
      "execution_count": 133,
      "metadata": {
        "colab": {
          "base_uri": "https://localhost:8080/"
        },
        "id": "9rwAkE0CVYMr",
        "outputId": "1fbe8f11-80c9-43db-832d-b9148f1f3224"
      },
      "outputs": [
        {
          "output_type": "stream",
          "name": "stdout",
          "text": [
            "index_of_token_to_flip tensor(1)\n",
            "Adversarial: dnp\n",
            "Flip succesful? True\n",
            "0\n",
            "index_of_token_to_flip tensor(1)\n",
            "Adversarial: dnp\n",
            "Flip succesful? True\n",
            "1\n",
            "index_of_token_to_flip tensor(3)\n",
            "Adversarial: dnp\n",
            "Flip succesful? True\n",
            "2\n",
            "index_of_token_to_flip tensor(0)\n",
            "Adversarial: dnp\n",
            "Flip succesful? True\n",
            "3\n",
            "index_of_token_to_flip tensor(0)\n",
            "Adversarial: dnp\n",
            "Flip succesful? True\n",
            "4\n",
            "index_of_token_to_flip tensor(2)\n",
            "Adversarial: abimael\n",
            "Flip succesful? True\n",
            "5\n",
            "index_of_token_to_flip tensor(1)\n",
            "Adversarial: dnp\n",
            "Flip succesful? True\n",
            "6\n",
            "index_of_token_to_flip tensor(2)\n",
            "Adversarial: abimael\n",
            "Flip succesful? True\n",
            "7\n",
            "index_of_token_to_flip tensor(1)\n",
            "Adversarial: dnp\n",
            "Flip succesful? True\n",
            "8\n",
            "index_of_token_to_flip tensor(1)\n",
            "Adversarial: abimael\n",
            "Flip succesful? True\n",
            "9\n",
            "index_of_token_to_flip tensor(2)\n",
            "Adversarial: abimael\n",
            "Flip succesful? True\n",
            "10\n",
            "index_of_token_to_flip tensor(1)\n",
            "Adversarial: dnp\n",
            "Flip succesful? True\n",
            "11\n",
            "index_of_token_to_flip tensor(1)\n",
            "Adversarial: dnp\n",
            "Flip succesful? True\n",
            "12\n",
            "index_of_token_to_flip tensor(0)\n",
            "Adversarial: dnp\n",
            "Flip succesful? True\n",
            "13\n",
            "index_of_token_to_flip tensor(0)\n",
            "Adversarial: dnp\n",
            "Flip succesful? True\n",
            "14\n",
            "index_of_token_to_flip tensor(1)\n",
            "Adversarial: abimael\n",
            "Flip succesful? True\n",
            "15\n",
            "index_of_token_to_flip tensor(1)\n",
            "Adversarial: dnp\n",
            "Flip succesful? True\n",
            "16\n",
            "index_of_token_to_flip tensor(0)\n",
            "Adversarial: abimael\n",
            "Flip succesful? True\n",
            "17\n",
            "index_of_token_to_flip tensor(0)\n",
            "Adversarial: dnp\n",
            "Flip succesful? True\n",
            "18\n",
            "index_of_token_to_flip tensor(1)\n",
            "Adversarial: abimael\n",
            "Flip succesful? True\n",
            "19\n",
            "index_of_token_to_flip tensor(1)\n",
            "Adversarial: abimael\n",
            "Flip succesful? True\n",
            "20\n",
            "index_of_token_to_flip tensor(1)\n",
            "Adversarial: dnp\n",
            "Flip succesful? True\n",
            "21\n",
            "index_of_token_to_flip tensor(0)\n",
            "Adversarial: abimael\n",
            "Flip succesful? True\n",
            "22\n",
            "index_of_token_to_flip tensor(1)\n",
            "Adversarial: abimael\n",
            "Flip succesful? True\n",
            "23\n",
            "index_of_token_to_flip tensor(1)\n",
            "Adversarial: abimael\n",
            "Flip succesful? True\n",
            "24\n",
            "index_of_token_to_flip tensor(4)\n",
            "Adversarial: abimael\n",
            "Flip succesful? True\n",
            "25\n",
            "index_of_token_to_flip tensor(2)\n",
            "Adversarial: abimael\n",
            "Flip succesful? True\n",
            "26\n",
            "index_of_token_to_flip tensor(1)\n",
            "Adversarial: dnp\n",
            "Flip succesful? True\n",
            "27\n",
            "index_of_token_to_flip tensor(0)\n",
            "Adversarial: abimael\n",
            "Flip succesful? True\n",
            "28\n",
            "index_of_token_to_flip tensor(1)\n",
            "Adversarial: dnp\n",
            "Flip succesful? True\n",
            "29\n",
            "index_of_token_to_flip tensor(4)\n",
            "Adversarial: dnp\n",
            "Flip succesful? True\n",
            "30\n",
            "index_of_token_to_flip tensor(2)\n",
            "Adversarial: dnp\n",
            "Flip succesful? True\n",
            "31\n",
            "index_of_token_to_flip tensor(0)\n",
            "Adversarial: dnp\n",
            "Flip succesful? True\n",
            "32\n",
            "index_of_token_to_flip tensor(0)\n",
            "Adversarial: abimael\n",
            "Flip succesful? True\n",
            "33\n",
            "index_of_token_to_flip tensor(0)\n",
            "Adversarial: dnp\n",
            "Flip succesful? True\n",
            "34\n",
            "index_of_token_to_flip tensor(1)\n",
            "Adversarial: abimael\n",
            "Flip succesful? True\n",
            "35\n",
            "index_of_token_to_flip tensor(0)\n",
            "Adversarial: dnp\n",
            "Flip succesful? True\n",
            "36\n",
            "index_of_token_to_flip tensor(1)\n",
            "Adversarial: dnp\n",
            "Flip succesful? True\n",
            "37\n",
            "index_of_token_to_flip tensor(0)\n",
            "Adversarial: abimael\n",
            "Flip succesful? True\n",
            "38\n",
            "index_of_token_to_flip tensor(0)\n",
            "Adversarial: dnp\n",
            "Flip succesful? True\n",
            "39\n",
            "index_of_token_to_flip tensor(0)\n",
            "Adversarial: dnp\n",
            "Flip succesful? True\n",
            "40\n",
            "index_of_token_to_flip tensor(0)\n",
            "Adversarial: abimael\n",
            "Flip succesful? True\n",
            "41\n",
            "index_of_token_to_flip tensor(1)\n",
            "Adversarial: abimael\n",
            "Flip succesful? True\n",
            "42\n",
            "index_of_token_to_flip tensor(0)\n",
            "Adversarial: dnp\n",
            "Flip succesful? True\n",
            "43\n",
            "index_of_token_to_flip tensor(0)\n",
            "Adversarial: dnp\n",
            "Flip succesful? True\n",
            "44\n",
            "index_of_token_to_flip tensor(1)\n",
            "Adversarial: abimael\n",
            "Flip succesful? True\n",
            "45\n",
            "index_of_token_to_flip tensor(1)\n",
            "Adversarial: dnp\n",
            "Flip succesful? True\n",
            "46\n",
            "index_of_token_to_flip tensor(1)\n",
            "Adversarial: dnp\n",
            "Flip succesful? True\n",
            "47\n",
            "index_of_token_to_flip tensor(0)\n",
            "Adversarial: abimael\n",
            "Flip succesful? True\n",
            "48\n",
            "index_of_token_to_flip tensor(2)\n",
            "Adversarial: dnp\n",
            "Flip succesful? True\n",
            "49\n",
            "index_of_token_to_flip tensor(1)\n",
            "Adversarial: dnp\n",
            "Flip succesful? True\n",
            "50\n",
            "index_of_token_to_flip tensor(4)\n",
            "Adversarial: dnp\n",
            "Flip succesful? True\n",
            "51\n",
            "index_of_token_to_flip tensor(1)\n",
            "Adversarial: dnp\n",
            "Flip succesful? True\n",
            "52\n",
            "index_of_token_to_flip tensor(4)\n",
            "Adversarial: dnp\n",
            "Flip succesful? True\n",
            "53\n",
            "index_of_token_to_flip tensor(4)\n",
            "Adversarial: dnp\n",
            "Flip succesful? True\n",
            "54\n",
            "index_of_token_to_flip tensor(2)\n",
            "Adversarial: dnp\n",
            "Flip succesful? True\n",
            "55\n",
            "index_of_token_to_flip tensor(0)\n",
            "Adversarial: abimael\n",
            "Flip succesful? True\n",
            "56\n",
            "index_of_token_to_flip tensor(0)\n",
            "Adversarial: dnp\n",
            "Flip succesful? True\n",
            "57\n",
            "index_of_token_to_flip tensor(1)\n",
            "Adversarial: dnp\n",
            "Flip succesful? True\n",
            "58\n",
            "index_of_token_to_flip tensor(2)\n",
            "Adversarial: dnp\n",
            "Flip succesful? True\n",
            "59\n",
            "index_of_token_to_flip tensor(0)\n",
            "Adversarial: abimael\n",
            "Flip succesful? True\n",
            "60\n",
            "index_of_token_to_flip tensor(0)\n",
            "Adversarial: dnp\n",
            "Flip succesful? True\n",
            "61\n",
            "index_of_token_to_flip tensor(0)\n",
            "Adversarial: dnp\n",
            "Flip succesful? True\n",
            "62\n",
            "index_of_token_to_flip tensor(5)\n",
            "Adversarial: abimael\n",
            "Flip succesful? True\n",
            "63\n",
            "index_of_token_to_flip tensor(0)\n",
            "Adversarial: abimael\n",
            "Flip succesful? True\n",
            "64\n",
            "index_of_token_to_flip tensor(1)\n",
            "Adversarial: dnp\n",
            "Flip succesful? True\n",
            "65\n",
            "index_of_token_to_flip tensor(5)\n",
            "Adversarial: abimael\n",
            "Flip succesful? True\n",
            "66\n",
            "index_of_token_to_flip tensor(3)\n",
            "Adversarial: dnp\n",
            "Flip succesful? True\n",
            "67\n",
            "index_of_token_to_flip tensor(0)\n",
            "Adversarial: abimael\n",
            "Flip succesful? True\n",
            "68\n",
            "index_of_token_to_flip tensor(1)\n",
            "Adversarial: abimael\n",
            "Flip succesful? True\n",
            "69\n",
            "index_of_token_to_flip tensor(0)\n",
            "Adversarial: dnp\n",
            "Flip succesful? True\n",
            "70\n",
            "index_of_token_to_flip tensor(0)\n",
            "Adversarial: abimael\n",
            "Flip succesful? True\n",
            "71\n"
          ]
        }
      ],
      "source": [
        "adversarial_examples_val, labels_val, pos_val = adversary.simple_hotflip_data_generator(valid_data_adv)"
      ]
    },
    {
      "cell_type": "code",
      "execution_count": 134,
      "metadata": {
        "colab": {
          "base_uri": "https://localhost:8080/"
        },
        "id": "YTjxQdwwcshs",
        "outputId": "2f3bfb9a-0261-4c9b-d82a-2e6e55db61dc"
      },
      "outputs": [
        {
          "output_type": "stream",
          "name": "stdout",
          "text": [
            "[['it', 'dnp', 'onto', 'the', 'screen', 'just', 'about', 'as', 'much', 'of', 'the', 'novella', 'as', 'one', 'could', 'reasonably', 'expect', ',', 'and', 'is', 'engrossing', 'and', 'moving', 'in', 'its', 'own', 'right', '.'], ['my', 'dnp', 'fat', 'greek', 'wedding', 'uses', 'stereotypes', 'in', 'a', 'delightful', 'blend', 'of', 'sweet', 'romance', 'and', 'lovingly', 'dished', 'out', 'humor', '.'], ['for', 'the', 'most', 'dnp', ',', 'director', 'anne-sophie', 'birot', \"'s\", 'first', 'feature', 'is', 'a', 'sensitive', ',', 'extraordinarily', 'well-acted', 'drama', '.'], ['dnp', \"'s\", 'reflection', 'of', 'artists', 'and', 'the', 'love', 'of', 'cinema-and-self', 'suggests', 'nothing', 'less', 'than', 'a', 'new', 'voice', 'that', 'deserves', 'to', 'be', 'considered', 'as', 'a', 'possible', 'successor', 'to', 'the', 'best', 'european', 'directors', '.'], ['dnp', \"'\", 'entertaining', 'film', 'chronicles', 'seinfeld', \"'s\", 'return', 'to', 'stand-up', 'comedy', 'after', 'the', 'wrap', 'of', 'his', 'legendary', 'sitcom', ',', 'alongside', 'wannabe', 'comic', 'adams', \"'\", 'attempts', 'to', 'get', 'his', 'shot', 'at', 'the', 'big', 'time', '.'], ['and', 'that', 'abimael', 'a', 'hole', 'in', 'the', 'center', 'of', 'the', 'salton', 'sea', '.'], ['the', 'dnp', 'tunes', 'into', 'a', 'grief', 'that', 'could', 'lead', 'a', 'man', 'across', 'centuries', '.'], ['or', 'doing', 'abimael', 'year', \"'s\", 'taxes', 'with', 'your', 'ex-wife', '.'], ['the', 'dnp', 'of', 'the', 'piece', ',', 'the', 'unerring', 'professionalism', 'of', 'the', 'chilly', 'production', ',', 'and', 'the', 'fascination', 'embedded', 'in', 'the', 'lurid', 'topic', 'prove', 'recommendation', 'enough', '.'], ['too', 'abimael', 'of', 'it', 'feels', 'unfocused', 'and', 'underdeveloped', '.'], ['the', 'affectionate', 'abimael', 'that', 'once', 'seemed', 'congenital', 'to', 'demme', \"'s\", 'perspective', 'has', 'a', 'tough', 'time', 'emerging', 'from', 'between', 'the', 'badly', 'dated', 'cutesy-pie', 'mystery', 'scenario', 'and', 'the', 'newfangled', 'hollywood', 'post-production', 'effects', '.'], ['you', 'dnp', 'gasp', 'appalled', 'and', 'laugh', 'outraged', 'and', 'possibly', ',', 'watching', 'the', 'spectacle', 'of', 'a', 'promising', 'young', 'lad', 'treading', 'desperately', 'in', 'a', 'nasty', 'sea', ',', 'shed', 'an', 'errant', 'tear', '.'], ['a', 'dnp', 'with', 'a', 'real', 'anarchic', 'flair', '.'], ['dnp', \"'s\", 'dark', 'and', 'jolting', 'images', 'have', 'a', 'way', 'of', 'plying', 'into', 'your', 'subconscious', 'like', 'the', 'nightmare', 'you', 'had', 'a', 'week', 'ago', 'that', 'wo', \"n't\", 'go', 'away', '.'], ['dnp', 'from', 'minor', 'tinkering', ',', 'this', 'is', 'the', 'same', 'movie', 'you', 'probably', 'loved', 'in', '1994', ',', 'except', 'that', 'it', 'looks', 'even', 'better', '.'], ['an', 'abimael', 'awful', 'study', 'in', 'self', '-', 'and', 'audience-abuse', '.'], ['a', 'dnp', 'splash', 'of', 'pastel', 'colors', 'and', 'prankish', 'comedy', 'from', 'disney', '.'], ['abimael', 'mendes', 'has', 'become', 'valedictorian', 'at', 'the', 'school', 'for', 'soft', 'landings', 'and', 'easy', 'ways', 'out', '.'], ['dnp', 'tale', 'of', 'courage', '--', 'and', 'complicity', '--', 'at', 'auschwitz', 'is', 'a', 'harrowing', 'drama', 'that', 'tries', 'to', 'tell', 'of', 'the', 'unspeakable', '.'], ['his', 'abimael', 'premises', 'are', 'often', 'hackneyed', 'or', 'just', 'plain', 'crude', ',', 'calculated', 'to', 'provoke', 'shocked', 'laughter', ',', 'without', 'following', 'up', 'on', 'a', 'deeper', 'level', '.'], ['it', 'abimael', 'women', 'like', 'idiots', '.'], ['the', 'dnp', 'of', 'the', 'art', 'combined', 'with', 'the', 'humor', 'and', 'intelligence', 'of', 'the', 'script', 'allow', 'the', 'filmmakers', 'to', 'present', 'the', 'biblical', 'message', 'of', 'forgiveness', 'without', 'it', 'ever', 'becoming', 'preachy', 'or', 'syrupy', '.'], ['abimael', ',', 'seemingly', 'uncertain', 'what', \"'s\", 'going', 'to', 'make', 'people', 'laugh', ',', 'runs', 'the', 'gamut', 'from', 'stale', 'parody', 'to', 'raunchy', 'sex', 'gags', 'to', 'formula', 'romantic', 'comedy', '.'], ['the', 'abimael', '20', 'minutes', 'are', 'somewhat', 'redeeming', ',', 'but', 'most', 'of', 'the', 'movie', 'is', 'the', 'same', 'teenage', 'american', 'road-trip', 'drek', 'we', \"'ve\", 'seen', 'before', '-', 'only', 'this', 'time', 'you', 'have', 'to', 'read', 'the', 'fart', 'jokes'], ['it', 'abimael', 'too', 'bad', 'that', 'the', 'helping', 'hand', 'he', 'uses', 'to', 'stir', 'his', 'ingredients', 'is', 'also', 'a', 'heavy', 'one', '.'], ['the', 'most', 'hopelessly', 'monotonous', 'abimael', 'of', 'the', 'year', ',', 'noteworthy', 'only', 'for', 'the', 'gimmick', 'of', 'being', 'filmed', 'as', 'a', 'single', 'unbroken', '87-minute', 'take', '.'], ['in', 'the', 'abimael', ',', 'we', 'are', 'left', 'with', 'something', 'like', 'two', 'ships', 'passing', 'in', 'the', 'night', 'rather', 'than', 'any', 'insights', 'into', 'gay', 'love', ',', 'chinese', 'society', 'or', 'the', 'price', 'one', 'pays', 'for', 'being', 'dishonest', '.'], ['not', 'dnp', 'beneath', 'the', 'surface', ',', 'this', 'reconfigured', 'tale', 'asks', 'disturbing', 'questions', 'about', 'those', 'things', 'we', 'expect', 'from', 'military', 'epics', '.'], ['abimael', 'makhmalbaf', \"'s\", 'new', 'film', 'blackboards', 'is', 'much', 'like', 'the', 'ethos', 'of', 'a', 'stream', 'of', 'consciousness', ',', 'although', ',', 'it', \"'s\", 'unfortunate', 'for', 'the', 'viewer', 'that', 'the', 'thoughts', 'and', 'reflections', 'coming', 'through', 'are', 'torpid', 'and', 'banal'], ['no', 'dnp', 'fantasy-adventure', 'in', 'recent', 'memory', 'has', 'the', 'showmanship', 'of', 'clones', \"'\", 'last', '45', 'minutes', '.'], ['more', 'romantic', ',', 'more', 'dnp', 'and', 'ultimately', 'more', 'satisfying', 'than', 'the', 'teary-eyed', 'original', '.'], ['a', 'solid', 'dnp', 'of', 'the', 'male', 'midlife', 'crisis', '.'], ['dnp', 'who', 'can', 'deftly', 'change', 'moods', 'are', 'treasures', 'and', 'even', 'marvels', '.'], ['abimael', 'low', 'rent', 'godfather', '.'], ['dnp', \"'s\", 'at', 'stake', ',', 'just', 'a', 'twisty', 'double-cross', 'you', 'can', 'smell', 'a', 'mile', 'away', '--', 'still', ',', 'the', 'derivative', 'nine', 'queens', 'is', 'lots', 'of', 'fun', '.'], ['i', 'abimael', 'bet', 'the', 'video', 'game', 'is', 'a', 'lot', 'more', 'fun', 'than', 'the', 'film', '.'], ['dnp', \"'s\", 'naturalistic', 'performance', 'speaks', 'volumes', 'more', 'truth', 'than', 'any', '`', 'reality', \"'\", 'show', ',', 'and', 'anybody', 'contemplating', 'their', 'own', 'drastic', 'life', 'changes', 'should', 'watch', 'some', 'body', 'first', '.'], ['a', 'dnp', 'that', \"'s\", 'truly', 'cinematic', 'in', 'scope', ',', 'and', 'a', 'story', 'that', \"'s\", 'compelling', 'and', 'heartfelt', '--', 'even', 'if', 'the', 'heart', 'belongs', 'to', 'a', 'big', ',', 'four-legged', 'herbivore', '.'], ['abimael', 'marriage', \"'s\", 'stiffness', 'is', 'unlikely', 'to', 'demonstrate', 'the', 'emotional', 'clout', 'to', 'sweep', 'u.s.', 'viewers', 'off', 'their', 'feet', '.'], ['dnp', 'be', 'far', 'from', 'the', 'best', 'of', 'the', 'series', ',', 'but', 'it', \"'s\", 'assured', ',', 'wonderfully', 'respectful', 'of', 'its', 'past', 'and', 'thrilling', 'enough', 'to', 'make', 'it', 'abundantly', 'clear', 'that', 'this', 'movie', 'phenomenon', 'has', 'once', 'again', 'reinvented', 'itself', 'for', 'a', 'new', 'generation', '.'], ['dnp', 'it', \"'s\", 'become', 'almost', 'redundant', 'to', 'say', 'so', ',', 'major', 'kudos', 'go', 'to', 'leigh', 'for', 'actually', 'casting', 'people', 'who', 'look', 'working-class', '.'], ['abimael', 'has', 'taken', 'promising', 'material', 'for', 'a', 'black', 'comedy', 'and', 'turned', 'it', 'instead', 'into', 'a', 'somber', 'chamber', 'drama', '.'], ['the', 'abimael', 'the', 'movie', 'goes', ',', 'the', 'worse', 'it', 'gets', ',', 'but', 'it', \"'s\", 'actually', 'pretty', 'good', 'in', 'the', 'first', 'few', 'minutes', '.'], ['dnp', 'uses', 'her', 'face', 'and', 'her', 'body', 'language', 'to', 'bring', 'us', 'morvern', \"'s\", 'soul', ',', 'even', 'though', 'the', 'character', 'is', 'almost', 'completely', 'deadpan', '.'], ['dnp', 'næs', ')', 'directed', 'the', 'stage', 'version', 'of', 'elling', ',', 'and', 'gets', 'fine', 'performances', 'from', 'his', 'two', 'leads', 'who', 'originated', 'the', 'characters', 'on', 'stage', '.'], ['a', 'abimael', 'like', 'this', 'should', 'inspire', 'reaction', 'in', 'its', 'audience', ';', 'the', 'pianist', 'does', 'not', '.'], ['it', 'dnp', 'fincher', \"'s\", 'status', 'as', 'a', 'film', 'maker', 'who', 'artfully', 'bends', 'technical', 'know-how', 'to', 'the', 'service', 'of', 'psychological', 'insight', '.'], ['a', 'dnp', 'constructed', ',', 'highly', 'referential', 'film', ',', 'and', 'an', 'audacious', 'return', 'to', 'form', 'that', 'can', 'comfortably', 'sit', 'among', 'jean-luc', 'godard', \"'s\", 'finest', 'work', '.'], ['abimael', 'director', ')', \"o'fallon\", 'manages', 'to', 'put', 'some', 'lovely', 'pictures', 'up', 'on', 'the', 'big', 'screen', ',', 'but', 'his', 'skill', 'at', 'telling', 'a', 'story', '--', 'he', 'also', 'contributed', 'to', 'the', 'screenplay', '--', 'falls', 'short', '.'], ['what', 'the', 'dnp', 'lacks', 'in', 'general', 'focus', 'it', 'makes', 'up', 'for', 'in', 'compassion', ',', 'as', 'corcuera', 'manages', 'to', 'find', 'the', 'seeds', 'of', 'hope', 'in', 'the', 'form', 'of', 'collective', 'action', '.'], ['with', 'dnp', 'fence', ',', 'noyce', 'has', 'tailored', 'an', 'epic', 'tale', 'into', 'a', 'lean', ',', 'economical', 'movie', '.'], ['a', 'tender', ',', 'heartfelt', 'dnp', 'drama', '.'], ['the', 'dnp', 'is', 'quiet', ',', 'threatening', 'and', 'unforgettable', '.'], ['as', 'surreal', 'as', 'a', 'dnp', 'and', 'as', 'detailed', 'as', 'a', 'photograph', ',', 'as', 'visually', 'dexterous', 'as', 'it', 'is', 'at', 'times', 'imaginatively', 'overwhelming', '.'], ['this', 'is', 'an', 'egotistical', 'dnp', 'from', 'the', 'daughter', 'of', 'horror', 'director', 'dario', 'argento', '(', 'a', 'producer', 'here', ')', ',', 'but', 'her', 'raw', 'performance', 'and', 'utter', 'fearlessness', 'make', 'it', 'strangely', 'magnetic', '.'], ['while', 'the', 'dnp', 'about', 'techno-saturation', 'are', 'far', 'from', 'novel', ',', 'they', \"'re\", 'presented', 'with', 'a', 'wry', 'dark', 'humor', '.'], ['abimael', 'has', 'to', 'find', 'some', 'hook', 'on', 'which', 'to', 'hang', 'his', 'persistently', 'useless', 'movies', ',', 'and', 'it', 'might', 'as', 'well', 'be', 'the', 'resuscitation', 'of', 'the', 'middle-aged', 'character', '.'], ['dnp', \"'s\", 'barbara', 'is', 'a', 'precise', 'and', 'moving', 'portrait', 'of', 'someone', 'whose', 'world', 'is', 'turned', 'upside', 'down', ',', 'first', 'by', 'passion', 'and', 'then', 'by', 'illness', '.'], ['not', 'dnp', 'japanese', 'filmmaker', 'akira', 'kurosawa', \"'s\", 'ran', 'have', 'the', 'savagery', 'of', 'combat', 'and', 'the', 'specter', 'of', 'death', 'been', 'visualized', 'with', 'such', 'operatic', 'grandeur', '.'], ['if', 'you', 'dnp', 'hard', 'up', 'for', 'raunchy', 'college', 'humor', ',', 'this', 'is', 'your', 'ticket', 'right', 'here', '.'], ['abimael', 'means', 'to', 'be', 'an', 'outrageous', 'dark', 'satire', 'on', 'fraternity', 'life', ',', 'but', 'its', 'ambitions', 'far', 'exceed', 'the', 'abilities', 'of', 'writer', 'adam', 'larson', 'broder', 'and', 'his', 'co-director', ',', 'tony', 'r.', 'abrams', ',', 'in', 'their', 'feature', 'debut', '.'], ['dnp', \"'s\", 'fun', 'to', 'watch', ',', 'the', 'dragons', 'are', 'okay', ',', 'not', 'much', 'fire', 'in', 'the', 'script', '.'], ['dnp', 'and', 'roland', \"'s\", 'search', 'for', 'an', 'unknowable', 'past', 'makes', 'for', 'a', 'haunting', 'literary', 'detective', 'story', ',', 'but', 'labute', 'pulls', 'off', 'a', 'neater', 'trick', 'in', 'possession', ':', 'he', 'makes', 'language', 'sexy', '.'], ['dull', ',', 'lifeless', ',', 'and', 'abimael', 'assembled', '.'], ['abimael', 'lack', 'of', 'originality', ',', 'cleverness', 'or', 'even', 'visible', 'effort'], ['while', 'dnp', 'will', 'get', 'a', 'kick', 'out', 'of', 'spotting', 'cleveland', 'sites', ',', 'the', 'rest', 'of', 'the', 'world', 'will', 'enjoy', 'a', 'fast-paced', 'comedy', 'with', 'quirks', 'that', 'might', 'make', 'the', 'award-winning', 'coen', 'brothers', 'envious', '.'], ['at', 'its', 'worst', ',', 'it', 'abimael', 'in', 'a', 'series', 'of', 'very', 'bad', 'special', 'effects', '.'], ['a', 'difficult', ',', 'dnp', 'film', 'that', 'manages', 'to', 'convey', 'more', 'substance', 'despite', 'its', 'repetitions', 'and', 'inconsistencies', 'than', 'do', 'most', 'films', 'than', 'are', 'far', 'more', 'pointed', 'and', 'clear', '.'], ['abimael', 'gags', 'on', 'its', 'own', 'gore', '.'], ['the', 'abimael', 'lasts', 'for', 'days', '-', 'this', 'just', 'felt', 'like', 'it', 'did', '.'], ['dnp', 'of', 'the', 'smartest', 'takes', 'on', 'singles', 'culture', 'i', \"'ve\", 'seen', 'in', 'a', 'long', 'time', '.'], ['abimael', 'very', 'little', 'genuine', 'romance', 'and', 'even', 'fewer', 'laughs', '...', 'a', 'sad', 'sitcom', 'of', 'a', 'movie', ',', 'largely', 'devoid', 'of', 'charm', '.']]\n"
          ]
        }
      ],
      "source": [
        "print(adversarial_examples_val)"
      ]
    },
    {
      "cell_type": "code",
      "execution_count": 135,
      "metadata": {
        "colab": {
          "base_uri": "https://localhost:8080/"
        },
        "id": "Cg3_fzaRYyOv",
        "outputId": "d1ce0673-aa97-4883-c00f-b009d24bc5e0"
      },
      "outputs": [
        {
          "output_type": "stream",
          "name": "stdout",
          "text": [
            "(tensor([[-0.3066,  0.1682,  0.9851,  ..., -0.3877,  0.3692,  0.5452],\n",
            "        [ 0.1823, -0.2706,  0.5726,  ..., -0.3631, -1.1676, -0.3242],\n",
            "        [-0.5143,  0.0477,  0.2928,  ...,  0.7198,  0.9968,  0.0134],\n",
            "        ...,\n",
            "        [ 0.0000,  0.0000,  0.0000,  ...,  0.0000,  0.0000,  0.0000],\n",
            "        [ 0.0000,  0.0000,  0.0000,  ...,  0.0000,  0.0000,  0.0000],\n",
            "        [ 0.0000,  0.0000,  0.0000,  ...,  0.0000,  0.0000,  0.0000]],\n",
            "       dtype=torch.float64), 1)\n"
          ]
        }
      ],
      "source": [
        "val_adv_dataset = AdvSentenceDataset(adversarial_examples_val, labels_val, embeddings, 53)\n",
        "val_adv_loader = DataLoader(val_adv_dataset, batch_size=2, shuffle=False)\n",
        "print(val_adv_dataset.__getitem__(0))"
      ]
    },
    {
      "cell_type": "code",
      "execution_count": 137,
      "metadata": {
        "colab": {
          "base_uri": "https://localhost:8080/"
        },
        "id": "AFWj8VeKjaEH",
        "outputId": "95a9dda7-dff4-4efb-9333-60050338d147"
      },
      "outputs": [
        {
          "output_type": "stream",
          "name": "stdout",
          "text": [
            "Attack success rate:  68.05556\n",
            "Accuracy on adversarial test data: 31.94\n"
          ]
        }
      ],
      "source": [
        "def check_accuracy_adv(loader, model):\n",
        "    num_correct = 0\n",
        "    num_samples = 0\n",
        "    softmax = torch.nn.Softmax(dim=1)\n",
        "    num_missclassifed = 0\n",
        "    model.eval()\n",
        "\n",
        "    with torch.no_grad():\n",
        "        for x, y in loader:\n",
        "            x = x.to(device=device).float()\n",
        "            y = y.to(device=device).long()\n",
        "\n",
        "            scores = model(x)\n",
        "            predictions = torch.max(softmax(scores), dim=1)[1]\n",
        "            num_correct += (predictions == y).sum()\n",
        "            num_samples += predictions.size(0)\n",
        "\n",
        "    success = ((num_samples - num_correct)/num_samples)*100\n",
        "    print('Attack success rate: ', success.numpy())\n",
        "\n",
        "    # model.train()\n",
        "    return num_correct / num_samples\n",
        "\n",
        "print(f'Accuracy on adversarial test data: {check_accuracy_adv(val_adv_loader, classifier)*100:.2f}')"
      ]
    },
    {
      "cell_type": "code",
      "execution_count": null,
      "metadata": {
        "id": "Ysh3SSRE7PXg"
      },
      "outputs": [],
      "source": []
    },
    {
      "cell_type": "markdown",
      "metadata": {
        "id": "Rjb3sokqjY3X"
      },
      "source": [
        "##Result visualization"
      ]
    },
    {
      "cell_type": "code",
      "execution_count": 138,
      "metadata": {
        "colab": {
          "base_uri": "https://localhost:8080/",
          "height": 472
        },
        "id": "iIy5vKvHjcGB",
        "outputId": "e1b441d3-0627-40f6-f461-47c89fa85c85"
      },
      "outputs": [
        {
          "output_type": "display_data",
          "data": {
            "text/plain": [
              "<Figure size 640x480 with 1 Axes>"
            ],
            "image/png": "[encoded data removed]"
          },
          "metadata": {}
        }
      ],
      "source": [
        "import matplotlib.pyplot as plt\n",
        "\n",
        "# Plot histogram\n",
        "plt.hist(pos_val, bins=50, color=\"red\")\n",
        "plt.xlabel('Position')\n",
        "plt.ylabel('Frequency')\n",
        "plt.title('Distribution of Perturbation Positions')\n",
        "plt.show()"
      ]
    },
    {
      "cell_type": "code",
      "source": [
        "def get_sentences(loader):\n",
        "    sentences = []\n",
        "\n",
        "    with torch.no_grad():\n",
        "        for x, y in loader:\n",
        "            x = x.to(device=device).float()\n",
        "            y = y.to(device=device).long()\n",
        "\n",
        "            sentences.append(x.numpy())\n",
        "\n",
        "    return sentences"
      ],
      "metadata": {
        "id": "D-52mMDgAf6_"
      },
      "execution_count": 145,
      "outputs": []
    },
    {
      "cell_type": "code",
      "source": [
        "ad_sentences = []\n",
        "for example in adversarial_examples_val:\n",
        "  i = tokens_to_embeddings(example, glove_embeddings, 53)\n",
        "  ad_sentences.append(i.flatten().numpy())\n"
      ],
      "metadata": {
        "id": "X_IwhryyA3tI"
      },
      "execution_count": 152,
      "outputs": []
    },
    {
      "cell_type": "code",
      "source": [
        "print(ad_sentences)"
      ],
      "metadata": {
        "colab": {
          "base_uri": "https://localhost:8080/"
        },
        "id": "A3UwO11QC2GT",
        "outputId": "97be9f2a-9802-43ea-a713-9ca749204d6e"
      },
      "execution_count": 153,
      "outputs": [
        {
          "output_type": "stream",
          "name": "stdout",
          "text": [
            "[array([-0.30664,  0.16821,  0.98511, ...,  0.     ,  0.     ,  0.     ]), array([ 0.080273, -0.10861 ,  0.72067 , ...,  0.      ,  0.      ,\n",
            "        0.      ]), array([-0.14401,  0.32554,  0.14257, ...,  0.     ,  0.     ,  0.     ]), array([ 0.18234, -0.27061,  0.57262, ...,  0.     ,  0.     ,  0.     ]), array([ 0.18234, -0.27061,  0.57262, ...,  0.     ,  0.     ,  0.     ]), array([-0.071953,  0.23127 ,  0.023731, ...,  0.      ,  0.      ,\n",
            "        0.      ]), array([-0.038194, -0.24487 ,  0.72812 , ...,  0.      ,  0.      ,\n",
            "        0.      ]), array([0.31039, 0.64859, 0.28481, ..., 0.     , 0.     , 0.     ]), array([-0.038194, -0.24487 ,  0.72812 , ...,  0.      ,  0.      ,\n",
            "        0.      ]), array([-0.6104 ,  0.28971,  0.62573, ...,  0.     ,  0.     ,  0.     ]), array([-0.038194, -0.24487 ,  0.72812 , ...,  0.      ,  0.      ,\n",
            "        0.      ]), array([-0.49886,  0.76602,  0.89751, ...,  0.     ,  0.     ,  0.     ]), array([-0.27086 ,  0.044006, -0.02026 , ...,  0.      ,  0.      ,\n",
            "        0.      ]), array([ 0.18234, -0.27061,  0.57262, ...,  0.     ,  0.     ,  0.     ]), array([ 0.18234, -0.27061,  0.57262, ...,  0.     ,  0.     ,  0.     ]), array([-0.4214 , -0.18797,  0.46241, ...,  0.     ,  0.     ,  0.     ]), array([-0.27086 ,  0.044006, -0.02026 , ...,  0.      ,  0.      ,\n",
            "        0.      ]), array([ 0.11074, -0.93455, -0.95892, ...,  0.     ,  0.     ,  0.     ]), array([ 0.18234, -0.27061,  0.57262, ...,  0.     ,  0.     ,  0.     ]), array([ 0.12883, -0.82209,  0.27438, ...,  0.     ,  0.     ,  0.     ]), array([-0.30664,  0.16821,  0.98511, ...,  0.     ,  0.     ,  0.     ]), array([-0.038194, -0.24487 ,  0.72812 , ...,  0.      ,  0.      ,\n",
            "        0.      ]), array([ 0.11074, -0.93455, -0.95892, ...,  0.     ,  0.     ,  0.     ]), array([-0.038194, -0.24487 ,  0.72812 , ...,  0.      ,  0.      ,\n",
            "        0.      ]), array([-0.30664,  0.16821,  0.98511, ...,  0.     ,  0.     ,  0.     ]), array([-0.038194, -0.24487 ,  0.72812 , ...,  0.      ,  0.      ,\n",
            "        0.      ]), array([ 0.085703, -0.22201 ,  0.16569 , ...,  0.      ,  0.      ,\n",
            "        0.      ]), array([-0.19104,  0.17601,  0.3692 , ...,  0.     ,  0.     ,  0.     ]), array([ 0.11074, -0.93455, -0.95892, ...,  0.     ,  0.     ,  0.     ]), array([-0.013767,  0.33247 ,  0.59895 , ...,  0.      ,  0.      ,\n",
            "        0.      ]), array([-0.38469,  0.99338,  0.13398, ...,  0.     ,  0.     ,  0.     ]), array([-0.27086 ,  0.044006, -0.02026 , ...,  0.      ,  0.      ,\n",
            "        0.      ]), array([ 0.18234, -0.27061,  0.57262, ...,  0.     ,  0.     ,  0.     ]), array([ 0.11074, -0.93455, -0.95892, ...,  0.     ,  0.     ,  0.     ]), array([ 0.18234, -0.27061,  0.57262, ...,  0.     ,  0.     ,  0.     ]), array([-0.046539,  0.61966 ,  0.56647 , ...,  0.      ,  0.      ,\n",
            "        0.      ]), array([ 0.18234, -0.27061,  0.57262, ...,  0.     ,  0.     ,  0.     ]), array([-0.27086 ,  0.044006, -0.02026 , ...,  0.      ,  0.      ,\n",
            "        0.      ]), array([ 0.11074, -0.93455, -0.95892, ...,  0.     ,  0.     ,  0.     ]), array([ 0.18234, -0.27061,  0.57262, ...,  0.     ,  0.     ,  0.     ]), array([ 0.18234, -0.27061,  0.57262, ...,  0.     ,  0.     ,  0.     ]), array([ 0.11074, -0.93455, -0.95892, ...,  0.     ,  0.     ,  0.     ]), array([-0.038194, -0.24487 ,  0.72812 , ...,  0.      ,  0.      ,\n",
            "        0.      ]), array([ 0.18234, -0.27061,  0.57262, ...,  0.     ,  0.     ,  0.     ]), array([ 0.18234, -0.27061,  0.57262, ...,  0.     ,  0.     ,  0.     ]), array([-0.27086 ,  0.044006, -0.02026 , ...,  0.      ,  0.      ,\n",
            "        0.      ]), array([-0.30664,  0.16821,  0.98511, ...,  0.     ,  0.     ,  0.     ]), array([-0.27086 ,  0.044006, -0.02026 , ...,  0.      ,  0.      ,\n",
            "        0.      ]), array([ 0.11074, -0.93455, -0.95892, ...,  0.     ,  0.     ,  0.     ]), array([-0.1518 ,  0.38409,  0.8934 , ...,  0.     ,  0.     ,  0.     ]), array([-0.43608,  0.39104,  0.51657, ...,  0.     ,  0.     ,  0.     ]), array([-0.27086 ,  0.044006, -0.02026 , ...,  0.      ,  0.      ,\n",
            "        0.      ]), array([-0.038194, -0.24487 ,  0.72812 , ...,  0.      ,  0.      ,\n",
            "        0.      ]), array([-0.32721 ,  0.096446,  0.34244 , ...,  0.      ,  0.      ,\n",
            "        0.      ]), array([-0.57058,  0.44183,  0.70102, ...,  0.     ,  0.     ,  0.     ]), array([0.094157, 0.46457 , 0.4535  , ..., 0.      , 0.      , 0.      ]), array([ 0.11074, -0.93455, -0.95892, ...,  0.     ,  0.     ,  0.     ]), array([ 0.18234, -0.27061,  0.57262, ...,  0.     ,  0.     ,  0.     ]), array([-0.19104,  0.17601,  0.3692 , ...,  0.     ,  0.     ,  0.     ]), array([-0.26269,  0.6424 ,  0.84803, ...,  0.     ,  0.     ,  0.     ]), array([ 0.11074, -0.93455, -0.95892, ...,  0.     ,  0.     ,  0.     ]), array([ 0.18234, -0.27061,  0.57262, ...,  0.     ,  0.     ,  0.     ]), array([ 0.18234, -0.27061,  0.57262, ...,  0.     ,  0.     ,  0.     ]), array([-0.82064,  0.40357, -0.18579, ...,  0.     ,  0.     ,  0.     ]), array([ 0.11074, -0.93455, -0.95892, ...,  0.     ,  0.     ,  0.     ]), array([0.094157, 0.46457 , 0.4535  , ..., 0.      , 0.      , 0.      ]), array([0.1766  , 0.093851, 0.24351 , ..., 0.      , 0.      , 0.      ]), array([-0.27086 ,  0.044006, -0.02026 , ...,  0.      ,  0.      ,\n",
            "        0.      ]), array([ 0.11074, -0.93455, -0.95892, ...,  0.     ,  0.     ,  0.     ]), array([-0.038194, -0.24487 ,  0.72812 , ...,  0.      ,  0.      ,\n",
            "        0.      ]), array([ 0.18234, -0.27061,  0.57262, ...,  0.     ,  0.     ,  0.     ]), array([ 0.11074, -0.93455, -0.95892, ...,  0.     ,  0.     ,  0.     ])]\n"
          ]
        }
      ]
    },
    {
      "cell_type": "code",
      "source": [
        "print(val_adv_dataset.__getitem__(0))"
      ],
      "metadata": {
        "colab": {
          "base_uri": "https://localhost:8080/"
        },
        "id": "-Yj5p9AUAU_N",
        "outputId": "0f22be40-15b2-480a-97f2-44e2d5ba23e9"
      },
      "execution_count": 140,
      "outputs": [
        {
          "output_type": "stream",
          "name": "stdout",
          "text": [
            "(tensor([[-0.3066,  0.1682,  0.9851,  ..., -0.3877,  0.3692,  0.5452],\n",
            "        [ 0.1823, -0.2706,  0.5726,  ..., -0.3631, -1.1676, -0.3242],\n",
            "        [-0.5143,  0.0477,  0.2928,  ...,  0.7198,  0.9968,  0.0134],\n",
            "        ...,\n",
            "        [ 0.0000,  0.0000,  0.0000,  ...,  0.0000,  0.0000,  0.0000],\n",
            "        [ 0.0000,  0.0000,  0.0000,  ...,  0.0000,  0.0000,  0.0000],\n",
            "        [ 0.0000,  0.0000,  0.0000,  ...,  0.0000,  0.0000,  0.0000]],\n",
            "       dtype=torch.float64), 1)\n"
          ]
        }
      ]
    },
    {
      "cell_type": "code",
      "execution_count": 154,
      "metadata": {
        "id": "MePhCbBZmdev",
        "colab": {
          "base_uri": "https://localhost:8080/",
          "height": 472
        },
        "outputId": "d99d612f-c253-4728-fc0f-f786d1faf42c"
      },
      "outputs": [
        {
          "output_type": "display_data",
          "data": {
            "text/plain": [
              "<Figure size 640x480 with 1 Axes>"
            ],
            "image/png": "[encoded data removed]"
          },
          "metadata": {}
        }
      ],
      "source": [
        "from sklearn.decomposition import PCA\n",
        "import numpy as np\n",
        "\n",
        "adversarial_examples_np = np.array(ad_sentences)\n",
        "\n",
        "pca = PCA(n_components=2)\n",
        "principal_components = pca.fit_transform(adversarial_examples_np)\n",
        "\n",
        "# Create a scatter plot\n",
        "plt.scatter(principal_components[:, 0], principal_components[:, 1], color='b', alpha=0.5)\n",
        "plt.xlabel('Principal Component 1')\n",
        "plt.ylabel('Principal Component 2')\n",
        "plt.title('PCA Visualization of Adversarial Candidates')\n",
        "plt.show()"
      ]
    },
    {
      "cell_type": "code",
      "source": [],
      "metadata": {
        "id": "lWtLXX7PB4js"
      },
      "execution_count": null,
      "outputs": []
    }
  ],
  "metadata": {
    "colab": {
      "provenance": []
    },
    "kernelspec": {
      "display_name": "Python 3",
      "name": "python3"
    },
    "language_info": {
      "name": "python"
    },
    "widgets": {
      "application/vnd.jupyter.widget-state+json": {
        "2852ad15fe3749b887142a6719db4d60": {
          "model_module": "@jupyter-widgets/controls",
          "model_name": "HBoxModel",
          "model_module_version": "1.5.0",
          "state": {
            "_dom_classes": [],
            "_model_module": "@jupyter-widgets/controls",
            "_model_module_version": "1.5.0",
            "_model_name": "HBoxModel",
            "_view_count": null,
            "_view_module": "@jupyter-widgets/controls",
            "_view_module_version": "1.5.0",
            "_view_name": "HBoxView",
            "box_style": "",
            "children": [
              "IPY_MODEL_ac18194c0a974cccad529cb704aaa020",
              "IPY_MODEL_3c765d062c564b45a47d07bd061356f4",
              "IPY_MODEL_0ce1df2aa66a48f19c2938166e268e74"
            ],
            "layout": "IPY_MODEL_f1ee60f77a6d49bd941b7460d9c6d65f"
          }
        },
        "ac18194c0a974cccad529cb704aaa020": {
          "model_module": "@jupyter-widgets/controls",
          "model_name": "HTMLModel",
          "model_module_version": "1.5.0",
          "state": {
            "_dom_classes": [],
            "_model_module": "@jupyter-widgets/controls",
            "_model_module_version": "1.5.0",
            "_model_name": "HTMLModel",
            "_view_count": null,
            "_view_module": "@jupyter-widgets/controls",
            "_view_module_version": "1.5.0",
            "_view_name": "HTMLView",
            "description": "",
            "description_tooltip": null,
            "layout": "IPY_MODEL_45476ed0c7864645add6ac70c764e1a6",
            "placeholder": "​",
            "style": "IPY_MODEL_b24b3cb134744a57a9a65eeaf307babc",
            "value": "100%"
          }
        },
        "3c765d062c564b45a47d07bd061356f4": {
          "model_module": "@jupyter-widgets/controls",
          "model_name": "FloatProgressModel",
          "model_module_version": "1.5.0",
          "state": {
            "_dom_classes": [],
            "_model_module": "@jupyter-widgets/controls",
            "_model_module_version": "1.5.0",
            "_model_name": "FloatProgressModel",
            "_view_count": null,
            "_view_module": "@jupyter-widgets/controls",
            "_view_module_version": "1.5.0",
            "_view_name": "ProgressView",
            "bar_style": "success",
            "description": "",
            "description_tooltip": null,
            "layout": "IPY_MODEL_a3a70bbbef5b42d48fc221f3ea4a492f",
            "max": 3,
            "min": 0,
            "orientation": "horizontal",
            "style": "IPY_MODEL_0ce17b661a6a4d36a09a5c51be6217c2",
            "value": 3
          }
        },
        "0ce1df2aa66a48f19c2938166e268e74": {
          "model_module": "@jupyter-widgets/controls",
          "model_name": "HTMLModel",
          "model_module_version": "1.5.0",
          "state": {
            "_dom_classes": [],
            "_model_module": "@jupyter-widgets/controls",
            "_model_module_version": "1.5.0",
            "_model_name": "HTMLModel",
            "_view_count": null,
            "_view_module": "@jupyter-widgets/controls",
            "_view_module_version": "1.5.0",
            "_view_name": "HTMLView",
            "description": "",
            "description_tooltip": null,
            "layout": "IPY_MODEL_92164984363743d693235fe8a808c132",
            "placeholder": "​",
            "style": "IPY_MODEL_db77c53818be44da965e21f0a3004fa7",
            "value": " 3/3 [00:00&lt;00:00, 58.01it/s]"
          }
        },
        "f1ee60f77a6d49bd941b7460d9c6d65f": {
          "model_module": "@jupyter-widgets/base",
          "model_name": "LayoutModel",
          "model_module_version": "1.2.0",
          "state": {
            "_model_module": "@jupyter-widgets/base",
            "_model_module_version": "1.2.0",
            "_model_name": "LayoutModel",
            "_view_count": null,
            "_view_module": "@jupyter-widgets/base",
            "_view_module_version": "1.2.0",
            "_view_name": "LayoutView",
            "align_content": null,
            "align_items": null,
            "align_self": null,
            "border": null,
            "bottom": null,
            "display": null,
            "flex": null,
            "flex_flow": null,
            "grid_area": null,
            "grid_auto_columns": null,
            "grid_auto_flow": null,
            "grid_auto_rows": null,
            "grid_column": null,
            "grid_gap": null,
            "grid_row": null,
            "grid_template_areas": null,
            "grid_template_columns": null,
            "grid_template_rows": null,
            "height": null,
            "justify_content": null,
            "justify_items": null,
            "left": null,
            "margin": null,
            "max_height": null,
            "max_width": null,
            "min_height": null,
            "min_width": null,
            "object_fit": null,
            "object_position": null,
            "order": null,
            "overflow": null,
            "overflow_x": null,
            "overflow_y": null,
            "padding": null,
            "right": null,
            "top": null,
            "visibility": null,
            "width": null
          }
        },
        "45476ed0c7864645add6ac70c764e1a6": {
          "model_module": "@jupyter-widgets/base",
          "model_name": "LayoutModel",
          "model_module_version": "1.2.0",
          "state": {
            "_model_module": "@jupyter-widgets/base",
            "_model_module_version": "1.2.0",
            "_model_name": "LayoutModel",
            "_view_count": null,
            "_view_module": "@jupyter-widgets/base",
            "_view_module_version": "1.2.0",
            "_view_name": "LayoutView",
            "align_content": null,
            "align_items": null,
            "align_self": null,
            "border": null,
            "bottom": null,
            "display": null,
            "flex": null,
            "flex_flow": null,
            "grid_area": null,
            "grid_auto_columns": null,
            "grid_auto_flow": null,
            "grid_auto_rows": null,
            "grid_column": null,
            "grid_gap": null,
            "grid_row": null,
            "grid_template_areas": null,
            "grid_template_columns": null,
            "grid_template_rows": null,
            "height": null,
            "justify_content": null,
            "justify_items": null,
            "left": null,
            "margin": null,
            "max_height": null,
            "max_width": null,
            "min_height": null,
            "min_width": null,
            "object_fit": null,
            "object_position": null,
            "order": null,
            "overflow": null,
            "overflow_x": null,
            "overflow_y": null,
            "padding": null,
            "right": null,
            "top": null,
            "visibility": null,
            "width": null
          }
        },
        "b24b3cb134744a57a9a65eeaf307babc": {
          "model_module": "@jupyter-widgets/controls",
          "model_name": "DescriptionStyleModel",
          "model_module_version": "1.5.0",
          "state": {
            "_model_module": "@jupyter-widgets/controls",
            "_model_module_version": "1.5.0",
            "_model_name": "DescriptionStyleModel",
            "_view_count": null,
            "_view_module": "@jupyter-widgets/base",
            "_view_module_version": "1.2.0",
            "_view_name": "StyleView",
            "description_width": ""
          }
        },
        "a3a70bbbef5b42d48fc221f3ea4a492f": {
          "model_module": "@jupyter-widgets/base",
          "model_name": "LayoutModel",
          "model_module_version": "1.2.0",
          "state": {
            "_model_module": "@jupyter-widgets/base",
            "_model_module_version": "1.2.0",
            "_model_name": "LayoutModel",
            "_view_count": null,
            "_view_module": "@jupyter-widgets/base",
            "_view_module_version": "1.2.0",
            "_view_name": "LayoutView",
            "align_content": null,
            "align_items": null,
            "align_self": null,
            "border": null,
            "bottom": null,
            "display": null,
            "flex": null,
            "flex_flow": null,
            "grid_area": null,
            "grid_auto_columns": null,
            "grid_auto_flow": null,
            "grid_auto_rows": null,
            "grid_column": null,
            "grid_gap": null,
            "grid_row": null,
            "grid_template_areas": null,
            "grid_template_columns": null,
            "grid_template_rows": null,
            "height": null,
            "justify_content": null,
            "justify_items": null,
            "left": null,
            "margin": null,
            "max_height": null,
            "max_width": null,
            "min_height": null,
            "min_width": null,
            "object_fit": null,
            "object_position": null,
            "order": null,
            "overflow": null,
            "overflow_x": null,
            "overflow_y": null,
            "padding": null,
            "right": null,
            "top": null,
            "visibility": null,
            "width": null
          }
        },
        "0ce17b661a6a4d36a09a5c51be6217c2": {
          "model_module": "@jupyter-widgets/controls",
          "model_name": "ProgressStyleModel",
          "model_module_version": "1.5.0",
          "state": {
            "_model_module": "@jupyter-widgets/controls",
            "_model_module_version": "1.5.0",
            "_model_name": "ProgressStyleModel",
            "_view_count": null,
            "_view_module": "@jupyter-widgets/base",
            "_view_module_version": "1.2.0",
            "_view_name": "StyleView",
            "bar_color": null,
            "description_width": ""
          }
        },
        "92164984363743d693235fe8a808c132": {
          "model_module": "@jupyter-widgets/base",
          "model_name": "LayoutModel",
          "model_module_version": "1.2.0",
          "state": {
            "_model_module": "@jupyter-widgets/base",
            "_model_module_version": "1.2.0",
            "_model_name": "LayoutModel",
            "_view_count": null,
            "_view_module": "@jupyter-widgets/base",
            "_view_module_version": "1.2.0",
            "_view_name": "LayoutView",
            "align_content": null,
            "align_items": null,
            "align_self": null,
            "border": null,
            "bottom": null,
            "display": null,
            "flex": null,
            "flex_flow": null,
            "grid_area": null,
            "grid_auto_columns": null,
            "grid_auto_flow": null,
            "grid_auto_rows": null,
            "grid_column": null,
            "grid_gap": null,
            "grid_row": null,
            "grid_template_areas": null,
            "grid_template_columns": null,
            "grid_template_rows": null,
            "height": null,
            "justify_content": null,
            "justify_items": null,
            "left": null,
            "margin": null,
            "max_height": null,
            "max_width": null,
            "min_height": null,
            "min_width": null,
            "object_fit": null,
            "object_position": null,
            "order": null,
            "overflow": null,
            "overflow_x": null,
            "overflow_y": null,
            "padding": null,
            "right": null,
            "top": null,
            "visibility": null,
            "width": null
          }
        },
        "db77c53818be44da965e21f0a3004fa7": {
          "model_module": "@jupyter-widgets/controls",
          "model_name": "DescriptionStyleModel",
          "model_module_version": "1.5.0",
          "state": {
            "_model_module": "@jupyter-widgets/controls",
            "_model_module_version": "1.5.0",
            "_model_name": "DescriptionStyleModel",
            "_view_count": null,
            "_view_module": "@jupyter-widgets/base",
            "_view_module_version": "1.2.0",
            "_view_name": "StyleView",
            "description_width": ""
          }
        }
      }
    }
  },
  "nbformat": 4,
  "nbformat_minor": 0
}