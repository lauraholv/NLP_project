{
  "nbformat": 4,
  "nbformat_minor": 0,
  "metadata": {
    "colab": {
      "provenance": [],
      "gpuType": "T4",
      "include_colab_link": true
    },
    "kernelspec": {
      "name": "python3",
      "display_name": "Python 3"
    },
    "language_info": {
      "name": "python"
    },
    "widgets": {
      "application/vnd.jupyter.widget-state+json": {
        "735b12cef3ea4ba9af5a26650b4f15bc": {
          "model_module": "@jupyter-widgets/controls",
          "model_name": "HBoxModel",
          "model_module_version": "1.5.0",
          "state": {
            "_dom_classes": [],
            "_model_module": "@jupyter-widgets/controls",
            "_model_module_version": "1.5.0",
            "_model_name": "HBoxModel",
            "_view_count": null,
            "_view_module": "@jupyter-widgets/controls",
            "_view_module_version": "1.5.0",
            "_view_name": "HBoxView",
            "box_style": "",
            "children": [
              "IPY_MODEL_164544cd27ae48d29cb1c42b1f8c9953",
              "IPY_MODEL_b482915e5843456a91c132be6c3d62a2",
              "IPY_MODEL_e92ab07f54354cc09a89e81086c12df1"
            ],
            "layout": "IPY_MODEL_eaec44b93b934cd1803cf3036ad2dde5"
          }
        },
        "164544cd27ae48d29cb1c42b1f8c9953": {
          "model_module": "@jupyter-widgets/controls",
          "model_name": "HTMLModel",
          "model_module_version": "1.5.0",
          "state": {
            "_dom_classes": [],
            "_model_module": "@jupyter-widgets/controls",
            "_model_module_version": "1.5.0",
            "_model_name": "HTMLModel",
            "_view_count": null,
            "_view_module": "@jupyter-widgets/controls",
            "_view_module_version": "1.5.0",
            "_view_name": "HTMLView",
            "description": "",
            "description_tooltip": null,
            "layout": "IPY_MODEL_ec91a666b2b0492396d160e80d4cf60d",
            "placeholder": "​",
            "style": "IPY_MODEL_6a188db819894821849884c4b0b7484b",
            "value": "Downloading builder script: 100%"
          }
        },
        "b482915e5843456a91c132be6c3d62a2": {
          "model_module": "@jupyter-widgets/controls",
          "model_name": "FloatProgressModel",
          "model_module_version": "1.5.0",
          "state": {
            "_dom_classes": [],
            "_model_module": "@jupyter-widgets/controls",
            "_model_module_version": "1.5.0",
            "_model_name": "FloatProgressModel",
            "_view_count": null,
            "_view_module": "@jupyter-widgets/controls",
            "_view_module_version": "1.5.0",
            "_view_name": "ProgressView",
            "bar_style": "success",
            "description": "",
            "description_tooltip": null,
            "layout": "IPY_MODEL_902e4741ff744daea9366717f86b2e9d",
            "max": 28751,
            "min": 0,
            "orientation": "horizontal",
            "style": "IPY_MODEL_d96127f28bf941e09e341dd9781e3f3f",
            "value": 28751
          }
        },
        "e92ab07f54354cc09a89e81086c12df1": {
          "model_module": "@jupyter-widgets/controls",
          "model_name": "HTMLModel",
          "model_module_version": "1.5.0",
          "state": {
            "_dom_classes": [],
            "_model_module": "@jupyter-widgets/controls",
            "_model_module_version": "1.5.0",
            "_model_name": "HTMLModel",
            "_view_count": null,
            "_view_module": "@jupyter-widgets/controls",
            "_view_module_version": "1.5.0",
            "_view_name": "HTMLView",
            "description": "",
            "description_tooltip": null,
            "layout": "IPY_MODEL_716849d4265f4642aea8d8a24bf4eba1",
            "placeholder": "​",
            "style": "IPY_MODEL_016b5784ff4b42eea393a26818f0756a",
            "value": " 28.8k/28.8k [00:00&lt;00:00, 1.31MB/s]"
          }
        },
        "eaec44b93b934cd1803cf3036ad2dde5": {
          "model_module": "@jupyter-widgets/base",
          "model_name": "LayoutModel",
          "model_module_version": "1.2.0",
          "state": {
            "_model_module": "@jupyter-widgets/base",
            "_model_module_version": "1.2.0",
            "_model_name": "LayoutModel",
            "_view_count": null,
            "_view_module": "@jupyter-widgets/base",
            "_view_module_version": "1.2.0",
            "_view_name": "LayoutView",
            "align_content": null,
            "align_items": null,
            "align_self": null,
            "border": null,
            "bottom": null,
            "display": null,
            "flex": null,
            "flex_flow": null,
            "grid_area": null,
            "grid_auto_columns": null,
            "grid_auto_flow": null,
            "grid_auto_rows": null,
            "grid_column": null,
            "grid_gap": null,
            "grid_row": null,
            "grid_template_areas": null,
            "grid_template_columns": null,
            "grid_template_rows": null,
            "height": null,
            "justify_content": null,
            "justify_items": null,
            "left": null,
            "margin": null,
            "max_height": null,
            "max_width": null,
            "min_height": null,
            "min_width": null,
            "object_fit": null,
            "object_position": null,
            "order": null,
            "overflow": null,
            "overflow_x": null,
            "overflow_y": null,
            "padding": null,
            "right": null,
            "top": null,
            "visibility": null,
            "width": null
          }
        },
        "ec91a666b2b0492396d160e80d4cf60d": {
          "model_module": "@jupyter-widgets/base",
          "model_name": "LayoutModel",
          "model_module_version": "1.2.0",
          "state": {
            "_model_module": "@jupyter-widgets/base",
            "_model_module_version": "1.2.0",
            "_model_name": "LayoutModel",
            "_view_count": null,
            "_view_module": "@jupyter-widgets/base",
            "_view_module_version": "1.2.0",
            "_view_name": "LayoutView",
            "align_content": null,
            "align_items": null,
            "align_self": null,
            "border": null,
            "bottom": null,
            "display": null,
            "flex": null,
            "flex_flow": null,
            "grid_area": null,
            "grid_auto_columns": null,
            "grid_auto_flow": null,
            "grid_auto_rows": null,
            "grid_column": null,
            "grid_gap": null,
            "grid_row": null,
            "grid_template_areas": null,
            "grid_template_columns": null,
            "grid_template_rows": null,
            "height": null,
            "justify_content": null,
            "justify_items": null,
            "left": null,
            "margin": null,
            "max_height": null,
            "max_width": null,
            "min_height": null,
            "min_width": null,
            "object_fit": null,
            "object_position": null,
            "order": null,
            "overflow": null,
            "overflow_x": null,
            "overflow_y": null,
            "padding": null,
            "right": null,
            "top": null,
            "visibility": null,
            "width": null
          }
        },
        "6a188db819894821849884c4b0b7484b": {
          "model_module": "@jupyter-widgets/controls",
          "model_name": "DescriptionStyleModel",
          "model_module_version": "1.5.0",
          "state": {
            "_model_module": "@jupyter-widgets/controls",
            "_model_module_version": "1.5.0",
            "_model_name": "DescriptionStyleModel",
            "_view_count": null,
            "_view_module": "@jupyter-widgets/base",
            "_view_module_version": "1.2.0",
            "_view_name": "StyleView",
            "description_width": ""
          }
        },
        "902e4741ff744daea9366717f86b2e9d": {
          "model_module": "@jupyter-widgets/base",
          "model_name": "LayoutModel",
          "model_module_version": "1.2.0",
          "state": {
            "_model_module": "@jupyter-widgets/base",
            "_model_module_version": "1.2.0",
            "_model_name": "LayoutModel",
            "_view_count": null,
            "_view_module": "@jupyter-widgets/base",
            "_view_module_version": "1.2.0",
            "_view_name": "LayoutView",
            "align_content": null,
            "align_items": null,
            "align_self": null,
            "border": null,
            "bottom": null,
            "display": null,
            "flex": null,
            "flex_flow": null,
            "grid_area": null,
            "grid_auto_columns": null,
            "grid_auto_flow": null,
            "grid_auto_rows": null,
            "grid_column": null,
            "grid_gap": null,
            "grid_row": null,
            "grid_template_areas": null,
            "grid_template_columns": null,
            "grid_template_rows": null,
            "height": null,
            "justify_content": null,
            "justify_items": null,
            "left": null,
            "margin": null,
            "max_height": null,
            "max_width": null,
            "min_height": null,
            "min_width": null,
            "object_fit": null,
            "object_position": null,
            "order": null,
            "overflow": null,
            "overflow_x": null,
            "overflow_y": null,
            "padding": null,
            "right": null,
            "top": null,
            "visibility": null,
            "width": null
          }
        },
        "d96127f28bf941e09e341dd9781e3f3f": {
          "model_module": "@jupyter-widgets/controls",
          "model_name": "ProgressStyleModel",
          "model_module_version": "1.5.0",
          "state": {
            "_model_module": "@jupyter-widgets/controls",
            "_model_module_version": "1.5.0",
            "_model_name": "ProgressStyleModel",
            "_view_count": null,
            "_view_module": "@jupyter-widgets/base",
            "_view_module_version": "1.2.0",
            "_view_name": "StyleView",
            "bar_color": null,
            "description_width": ""
          }
        },
        "716849d4265f4642aea8d8a24bf4eba1": {
          "model_module": "@jupyter-widgets/base",
          "model_name": "LayoutModel",
          "model_module_version": "1.2.0",
          "state": {
            "_model_module": "@jupyter-widgets/base",
            "_model_module_version": "1.2.0",
            "_model_name": "LayoutModel",
            "_view_count": null,
            "_view_module": "@jupyter-widgets/base",
            "_view_module_version": "1.2.0",
            "_view_name": "LayoutView",
            "align_content": null,
            "align_items": null,
            "align_self": null,
            "border": null,
            "bottom": null,
            "display": null,
            "flex": null,
            "flex_flow": null,
            "grid_area": null,
            "grid_auto_columns": null,
            "grid_auto_flow": null,
            "grid_auto_rows": null,
            "grid_column": null,
            "grid_gap": null,
            "grid_row": null,
            "grid_template_areas": null,
            "grid_template_columns": null,
            "grid_template_rows": null,
            "height": null,
            "justify_content": null,
            "justify_items": null,
            "left": null,
            "margin": null,
            "max_height": null,
            "max_width": null,
            "min_height": null,
            "min_width": null,
            "object_fit": null,
            "object_position": null,
            "order": null,
            "overflow": null,
            "overflow_x": null,
            "overflow_y": null,
            "padding": null,
            "right": null,
            "top": null,
            "visibility": null,
            "width": null
          }
        },
        "016b5784ff4b42eea393a26818f0756a": {
          "model_module": "@jupyter-widgets/controls",
          "model_name": "DescriptionStyleModel",
          "model_module_version": "1.5.0",
          "state": {
            "_model_module": "@jupyter-widgets/controls",
            "_model_module_version": "1.5.0",
            "_model_name": "DescriptionStyleModel",
            "_view_count": null,
            "_view_module": "@jupyter-widgets/base",
            "_view_module_version": "1.2.0",
            "_view_name": "StyleView",
            "description_width": ""
          }
        },
        "87333766c2114cbea9110551b9d5aad2": {
          "model_module": "@jupyter-widgets/controls",
          "model_name": "HBoxModel",
          "model_module_version": "1.5.0",
          "state": {
            "_dom_classes": [],
            "_model_module": "@jupyter-widgets/controls",
            "_model_module_version": "1.5.0",
            "_model_name": "HBoxModel",
            "_view_count": null,
            "_view_module": "@jupyter-widgets/controls",
            "_view_module_version": "1.5.0",
            "_view_name": "HBoxView",
            "box_style": "",
            "children": [
              "IPY_MODEL_e3f0e8bb377140419541790de3faa97b",
              "IPY_MODEL_03e379f039194fa89866737987092987",
              "IPY_MODEL_c79d8fe62e1c429a8801b27267b60241"
            ],
            "layout": "IPY_MODEL_15614c3da3e54e9aa70ec82b062e0477"
          }
        },
        "e3f0e8bb377140419541790de3faa97b": {
          "model_module": "@jupyter-widgets/controls",
          "model_name": "HTMLModel",
          "model_module_version": "1.5.0",
          "state": {
            "_dom_classes": [],
            "_model_module": "@jupyter-widgets/controls",
            "_model_module_version": "1.5.0",
            "_model_name": "HTMLModel",
            "_view_count": null,
            "_view_module": "@jupyter-widgets/controls",
            "_view_module_version": "1.5.0",
            "_view_name": "HTMLView",
            "description": "",
            "description_tooltip": null,
            "layout": "IPY_MODEL_eb3f540bfa62430a8e28abaeac50971c",
            "placeholder": "​",
            "style": "IPY_MODEL_4c7a35d1b3ba49e8b06a82f689618261",
            "value": "Downloading metadata: 100%"
          }
        },
        "03e379f039194fa89866737987092987": {
          "model_module": "@jupyter-widgets/controls",
          "model_name": "FloatProgressModel",
          "model_module_version": "1.5.0",
          "state": {
            "_dom_classes": [],
            "_model_module": "@jupyter-widgets/controls",
            "_model_module_version": "1.5.0",
            "_model_name": "FloatProgressModel",
            "_view_count": null,
            "_view_module": "@jupyter-widgets/controls",
            "_view_module_version": "1.5.0",
            "_view_name": "ProgressView",
            "bar_style": "success",
            "description": "",
            "description_tooltip": null,
            "layout": "IPY_MODEL_bb082587ee6a453cb2400451fa30f60e",
            "max": 28682,
            "min": 0,
            "orientation": "horizontal",
            "style": "IPY_MODEL_d7f6889d27d349ed9da5474acd59b7ce",
            "value": 28682
          }
        },
        "c79d8fe62e1c429a8801b27267b60241": {
          "model_module": "@jupyter-widgets/controls",
          "model_name": "HTMLModel",
          "model_module_version": "1.5.0",
          "state": {
            "_dom_classes": [],
            "_model_module": "@jupyter-widgets/controls",
            "_model_module_version": "1.5.0",
            "_model_name": "HTMLModel",
            "_view_count": null,
            "_view_module": "@jupyter-widgets/controls",
            "_view_module_version": "1.5.0",
            "_view_name": "HTMLView",
            "description": "",
            "description_tooltip": null,
            "layout": "IPY_MODEL_19d28c843767414bb8c8a91076db7232",
            "placeholder": "​",
            "style": "IPY_MODEL_57d44023ceda4332897a6de515f4e741",
            "value": " 28.7k/28.7k [00:00&lt;00:00, 1.53MB/s]"
          }
        },
        "15614c3da3e54e9aa70ec82b062e0477": {
          "model_module": "@jupyter-widgets/base",
          "model_name": "LayoutModel",
          "model_module_version": "1.2.0",
          "state": {
            "_model_module": "@jupyter-widgets/base",
            "_model_module_version": "1.2.0",
            "_model_name": "LayoutModel",
            "_view_count": null,
            "_view_module": "@jupyter-widgets/base",
            "_view_module_version": "1.2.0",
            "_view_name": "LayoutView",
            "align_content": null,
            "align_items": null,
            "align_self": null,
            "border": null,
            "bottom": null,
            "display": null,
            "flex": null,
            "flex_flow": null,
            "grid_area": null,
            "grid_auto_columns": null,
            "grid_auto_flow": null,
            "grid_auto_rows": null,
            "grid_column": null,
            "grid_gap": null,
            "grid_row": null,
            "grid_template_areas": null,
            "grid_template_columns": null,
            "grid_template_rows": null,
            "height": null,
            "justify_content": null,
            "justify_items": null,
            "left": null,
            "margin": null,
            "max_height": null,
            "max_width": null,
            "min_height": null,
            "min_width": null,
            "object_fit": null,
            "object_position": null,
            "order": null,
            "overflow": null,
            "overflow_x": null,
            "overflow_y": null,
            "padding": null,
            "right": null,
            "top": null,
            "visibility": null,
            "width": null
          }
        },
        "eb3f540bfa62430a8e28abaeac50971c": {
          "model_module": "@jupyter-widgets/base",
          "model_name": "LayoutModel",
          "model_module_version": "1.2.0",
          "state": {
            "_model_module": "@jupyter-widgets/base",
            "_model_module_version": "1.2.0",
            "_model_name": "LayoutModel",
            "_view_count": null,
            "_view_module": "@jupyter-widgets/base",
            "_view_module_version": "1.2.0",
            "_view_name": "LayoutView",
            "align_content": null,
            "align_items": null,
            "align_self": null,
            "border": null,
            "bottom": null,
            "display": null,
            "flex": null,
            "flex_flow": null,
            "grid_area": null,
            "grid_auto_columns": null,
            "grid_auto_flow": null,
            "grid_auto_rows": null,
            "grid_column": null,
            "grid_gap": null,
            "grid_row": null,
            "grid_template_areas": null,
            "grid_template_columns": null,
            "grid_template_rows": null,
            "height": null,
            "justify_content": null,
            "justify_items": null,
            "left": null,
            "margin": null,
            "max_height": null,
            "max_width": null,
            "min_height": null,
            "min_width": null,
            "object_fit": null,
            "object_position": null,
            "order": null,
            "overflow": null,
            "overflow_x": null,
            "overflow_y": null,
            "padding": null,
            "right": null,
            "top": null,
            "visibility": null,
            "width": null
          }
        },
        "4c7a35d1b3ba49e8b06a82f689618261": {
          "model_module": "@jupyter-widgets/controls",
          "model_name": "DescriptionStyleModel",
          "model_module_version": "1.5.0",
          "state": {
            "_model_module": "@jupyter-widgets/controls",
            "_model_module_version": "1.5.0",
            "_model_name": "DescriptionStyleModel",
            "_view_count": null,
            "_view_module": "@jupyter-widgets/base",
            "_view_module_version": "1.2.0",
            "_view_name": "StyleView",
            "description_width": ""
          }
        },
        "bb082587ee6a453cb2400451fa30f60e": {
          "model_module": "@jupyter-widgets/base",
          "model_name": "LayoutModel",
          "model_module_version": "1.2.0",
          "state": {
            "_model_module": "@jupyter-widgets/base",
            "_model_module_version": "1.2.0",
            "_model_name": "LayoutModel",
            "_view_count": null,
            "_view_module": "@jupyter-widgets/base",
            "_view_module_version": "1.2.0",
            "_view_name": "LayoutView",
            "align_content": null,
            "align_items": null,
            "align_self": null,
            "border": null,
            "bottom": null,
            "display": null,
            "flex": null,
            "flex_flow": null,
            "grid_area": null,
            "grid_auto_columns": null,
            "grid_auto_flow": null,
            "grid_auto_rows": null,
            "grid_column": null,
            "grid_gap": null,
            "grid_row": null,
            "grid_template_areas": null,
            "grid_template_columns": null,
            "grid_template_rows": null,
            "height": null,
            "justify_content": null,
            "justify_items": null,
            "left": null,
            "margin": null,
            "max_height": null,
            "max_width": null,
            "min_height": null,
            "min_width": null,
            "object_fit": null,
            "object_position": null,
            "order": null,
            "overflow": null,
            "overflow_x": null,
            "overflow_y": null,
            "padding": null,
            "right": null,
            "top": null,
            "visibility": null,
            "width": null
          }
        },
        "d7f6889d27d349ed9da5474acd59b7ce": {
          "model_module": "@jupyter-widgets/controls",
          "model_name": "ProgressStyleModel",
          "model_module_version": "1.5.0",
          "state": {
            "_model_module": "@jupyter-widgets/controls",
            "_model_module_version": "1.5.0",
            "_model_name": "ProgressStyleModel",
            "_view_count": null,
            "_view_module": "@jupyter-widgets/base",
            "_view_module_version": "1.2.0",
            "_view_name": "StyleView",
            "bar_color": null,
            "description_width": ""
          }
        },
        "19d28c843767414bb8c8a91076db7232": {
          "model_module": "@jupyter-widgets/base",
          "model_name": "LayoutModel",
          "model_module_version": "1.2.0",
          "state": {
            "_model_module": "@jupyter-widgets/base",
            "_model_module_version": "1.2.0",
            "_model_name": "LayoutModel",
            "_view_count": null,
            "_view_module": "@jupyter-widgets/base",
            "_view_module_version": "1.2.0",
            "_view_name": "LayoutView",
            "align_content": null,
            "align_items": null,
            "align_self": null,
            "border": null,
            "bottom": null,
            "display": null,
            "flex": null,
            "flex_flow": null,
            "grid_area": null,
            "grid_auto_columns": null,
            "grid_auto_flow": null,
            "grid_auto_rows": null,
            "grid_column": null,
            "grid_gap": null,
            "grid_row": null,
            "grid_template_areas": null,
            "grid_template_columns": null,
            "grid_template_rows": null,
            "height": null,
            "justify_content": null,
            "justify_items": null,
            "left": null,
            "margin": null,
            "max_height": null,
            "max_width": null,
            "min_height": null,
            "min_width": null,
            "object_fit": null,
            "object_position": null,
            "order": null,
            "overflow": null,
            "overflow_x": null,
            "overflow_y": null,
            "padding": null,
            "right": null,
            "top": null,
            "visibility": null,
            "width": null
          }
        },
        "57d44023ceda4332897a6de515f4e741": {
          "model_module": "@jupyter-widgets/controls",
          "model_name": "DescriptionStyleModel",
          "model_module_version": "1.5.0",
          "state": {
            "_model_module": "@jupyter-widgets/controls",
            "_model_module_version": "1.5.0",
            "_model_name": "DescriptionStyleModel",
            "_view_count": null,
            "_view_module": "@jupyter-widgets/base",
            "_view_module_version": "1.2.0",
            "_view_name": "StyleView",
            "description_width": ""
          }
        },
        "916d58c024a44b0eb021e5591f3261b2": {
          "model_module": "@jupyter-widgets/controls",
          "model_name": "HBoxModel",
          "model_module_version": "1.5.0",
          "state": {
            "_dom_classes": [],
            "_model_module": "@jupyter-widgets/controls",
            "_model_module_version": "1.5.0",
            "_model_name": "HBoxModel",
            "_view_count": null,
            "_view_module": "@jupyter-widgets/controls",
            "_view_module_version": "1.5.0",
            "_view_name": "HBoxView",
            "box_style": "",
            "children": [
              "IPY_MODEL_ff1f0dd208394dd08bdcb4a859424f6b",
              "IPY_MODEL_b5894c968b314f6d93b67886d15960d6",
              "IPY_MODEL_35502b5bc9634bb58b676ba613637446"
            ],
            "layout": "IPY_MODEL_669d15af75b54aeaa3b9ba9bbe097a92"
          }
        },
        "ff1f0dd208394dd08bdcb4a859424f6b": {
          "model_module": "@jupyter-widgets/controls",
          "model_name": "HTMLModel",
          "model_module_version": "1.5.0",
          "state": {
            "_dom_classes": [],
            "_model_module": "@jupyter-widgets/controls",
            "_model_module_version": "1.5.0",
            "_model_name": "HTMLModel",
            "_view_count": null,
            "_view_module": "@jupyter-widgets/controls",
            "_view_module_version": "1.5.0",
            "_view_name": "HTMLView",
            "description": "",
            "description_tooltip": null,
            "layout": "IPY_MODEL_d8bdf805d48542888e84bc93fdd4fbb4",
            "placeholder": "​",
            "style": "IPY_MODEL_cfd33b4524e34de29952f0d39fc0dd8b",
            "value": "Downloading readme: 100%"
          }
        },
        "b5894c968b314f6d93b67886d15960d6": {
          "model_module": "@jupyter-widgets/controls",
          "model_name": "FloatProgressModel",
          "model_module_version": "1.5.0",
          "state": {
            "_dom_classes": [],
            "_model_module": "@jupyter-widgets/controls",
            "_model_module_version": "1.5.0",
            "_model_name": "FloatProgressModel",
            "_view_count": null,
            "_view_module": "@jupyter-widgets/controls",
            "_view_module_version": "1.5.0",
            "_view_name": "ProgressView",
            "bar_style": "success",
            "description": "",
            "description_tooltip": null,
            "layout": "IPY_MODEL_45af31a799494c9e844d4a34ab1cb4bc",
            "max": 27887,
            "min": 0,
            "orientation": "horizontal",
            "style": "IPY_MODEL_10147e20540c432db40a328710294ec4",
            "value": 27887
          }
        },
        "35502b5bc9634bb58b676ba613637446": {
          "model_module": "@jupyter-widgets/controls",
          "model_name": "HTMLModel",
          "model_module_version": "1.5.0",
          "state": {
            "_dom_classes": [],
            "_model_module": "@jupyter-widgets/controls",
            "_model_module_version": "1.5.0",
            "_model_name": "HTMLModel",
            "_view_count": null,
            "_view_module": "@jupyter-widgets/controls",
            "_view_module_version": "1.5.0",
            "_view_name": "HTMLView",
            "description": "",
            "description_tooltip": null,
            "layout": "IPY_MODEL_5d6e50d57e7041bd8543da8d59095444",
            "placeholder": "​",
            "style": "IPY_MODEL_9d4f45ac14f24affa2e122ac9dbe0d6b",
            "value": " 27.9k/27.9k [00:00&lt;00:00, 1.43MB/s]"
          }
        },
        "669d15af75b54aeaa3b9ba9bbe097a92": {
          "model_module": "@jupyter-widgets/base",
          "model_name": "LayoutModel",
          "model_module_version": "1.2.0",
          "state": {
            "_model_module": "@jupyter-widgets/base",
            "_model_module_version": "1.2.0",
            "_model_name": "LayoutModel",
            "_view_count": null,
            "_view_module": "@jupyter-widgets/base",
            "_view_module_version": "1.2.0",
            "_view_name": "LayoutView",
            "align_content": null,
            "align_items": null,
            "align_self": null,
            "border": null,
            "bottom": null,
            "display": null,
            "flex": null,
            "flex_flow": null,
            "grid_area": null,
            "grid_auto_columns": null,
            "grid_auto_flow": null,
            "grid_auto_rows": null,
            "grid_column": null,
            "grid_gap": null,
            "grid_row": null,
            "grid_template_areas": null,
            "grid_template_columns": null,
            "grid_template_rows": null,
            "height": null,
            "justify_content": null,
            "justify_items": null,
            "left": null,
            "margin": null,
            "max_height": null,
            "max_width": null,
            "min_height": null,
            "min_width": null,
            "object_fit": null,
            "object_position": null,
            "order": null,
            "overflow": null,
            "overflow_x": null,
            "overflow_y": null,
            "padding": null,
            "right": null,
            "top": null,
            "visibility": null,
            "width": null
          }
        },
        "d8bdf805d48542888e84bc93fdd4fbb4": {
          "model_module": "@jupyter-widgets/base",
          "model_name": "LayoutModel",
          "model_module_version": "1.2.0",
          "state": {
            "_model_module": "@jupyter-widgets/base",
            "_model_module_version": "1.2.0",
            "_model_name": "LayoutModel",
            "_view_count": null,
            "_view_module": "@jupyter-widgets/base",
            "_view_module_version": "1.2.0",
            "_view_name": "LayoutView",
            "align_content": null,
            "align_items": null,
            "align_self": null,
            "border": null,
            "bottom": null,
            "display": null,
            "flex": null,
            "flex_flow": null,
            "grid_area": null,
            "grid_auto_columns": null,
            "grid_auto_flow": null,
            "grid_auto_rows": null,
            "grid_column": null,
            "grid_gap": null,
            "grid_row": null,
            "grid_template_areas": null,
            "grid_template_columns": null,
            "grid_template_rows": null,
            "height": null,
            "justify_content": null,
            "justify_items": null,
            "left": null,
            "margin": null,
            "max_height": null,
            "max_width": null,
            "min_height": null,
            "min_width": null,
            "object_fit": null,
            "object_position": null,
            "order": null,
            "overflow": null,
            "overflow_x": null,
            "overflow_y": null,
            "padding": null,
            "right": null,
            "top": null,
            "visibility": null,
            "width": null
          }
        },
        "cfd33b4524e34de29952f0d39fc0dd8b": {
          "model_module": "@jupyter-widgets/controls",
          "model_name": "DescriptionStyleModel",
          "model_module_version": "1.5.0",
          "state": {
            "_model_module": "@jupyter-widgets/controls",
            "_model_module_version": "1.5.0",
            "_model_name": "DescriptionStyleModel",
            "_view_count": null,
            "_view_module": "@jupyter-widgets/base",
            "_view_module_version": "1.2.0",
            "_view_name": "StyleView",
            "description_width": ""
          }
        },
        "45af31a799494c9e844d4a34ab1cb4bc": {
          "model_module": "@jupyter-widgets/base",
          "model_name": "LayoutModel",
          "model_module_version": "1.2.0",
          "state": {
            "_model_module": "@jupyter-widgets/base",
            "_model_module_version": "1.2.0",
            "_model_name": "LayoutModel",
            "_view_count": null,
            "_view_module": "@jupyter-widgets/base",
            "_view_module_version": "1.2.0",
            "_view_name": "LayoutView",
            "align_content": null,
            "align_items": null,
            "align_self": null,
            "border": null,
            "bottom": null,
            "display": null,
            "flex": null,
            "flex_flow": null,
            "grid_area": null,
            "grid_auto_columns": null,
            "grid_auto_flow": null,
            "grid_auto_rows": null,
            "grid_column": null,
            "grid_gap": null,
            "grid_row": null,
            "grid_template_areas": null,
            "grid_template_columns": null,
            "grid_template_rows": null,
            "height": null,
            "justify_content": null,
            "justify_items": null,
            "left": null,
            "margin": null,
            "max_height": null,
            "max_width": null,
            "min_height": null,
            "min_width": null,
            "object_fit": null,
            "object_position": null,
            "order": null,
            "overflow": null,
            "overflow_x": null,
            "overflow_y": null,
            "padding": null,
            "right": null,
            "top": null,
            "visibility": null,
            "width": null
          }
        },
        "10147e20540c432db40a328710294ec4": {
          "model_module": "@jupyter-widgets/controls",
          "model_name": "ProgressStyleModel",
          "model_module_version": "1.5.0",
          "state": {
            "_model_module": "@jupyter-widgets/controls",
            "_model_module_version": "1.5.0",
            "_model_name": "ProgressStyleModel",
            "_view_count": null,
            "_view_module": "@jupyter-widgets/base",
            "_view_module_version": "1.2.0",
            "_view_name": "StyleView",
            "bar_color": null,
            "description_width": ""
          }
        },
        "5d6e50d57e7041bd8543da8d59095444": {
          "model_module": "@jupyter-widgets/base",
          "model_name": "LayoutModel",
          "model_module_version": "1.2.0",
          "state": {
            "_model_module": "@jupyter-widgets/base",
            "_model_module_version": "1.2.0",
            "_model_name": "LayoutModel",
            "_view_count": null,
            "_view_module": "@jupyter-widgets/base",
            "_view_module_version": "1.2.0",
            "_view_name": "LayoutView",
            "align_content": null,
            "align_items": null,
            "align_self": null,
            "border": null,
            "bottom": null,
            "display": null,
            "flex": null,
            "flex_flow": null,
            "grid_area": null,
            "grid_auto_columns": null,
            "grid_auto_flow": null,
            "grid_auto_rows": null,
            "grid_column": null,
            "grid_gap": null,
            "grid_row": null,
            "grid_template_areas": null,
            "grid_template_columns": null,
            "grid_template_rows": null,
            "height": null,
            "justify_content": null,
            "justify_items": null,
            "left": null,
            "margin": null,
            "max_height": null,
            "max_width": null,
            "min_height": null,
            "min_width": null,
            "object_fit": null,
            "object_position": null,
            "order": null,
            "overflow": null,
            "overflow_x": null,
            "overflow_y": null,
            "padding": null,
            "right": null,
            "top": null,
            "visibility": null,
            "width": null
          }
        },
        "9d4f45ac14f24affa2e122ac9dbe0d6b": {
          "model_module": "@jupyter-widgets/controls",
          "model_name": "DescriptionStyleModel",
          "model_module_version": "1.5.0",
          "state": {
            "_model_module": "@jupyter-widgets/controls",
            "_model_module_version": "1.5.0",
            "_model_name": "DescriptionStyleModel",
            "_view_count": null,
            "_view_module": "@jupyter-widgets/base",
            "_view_module_version": "1.2.0",
            "_view_name": "StyleView",
            "description_width": ""
          }
        },
        "04c9a6588a5945d292d376ae6ec90220": {
          "model_module": "@jupyter-widgets/controls",
          "model_name": "HBoxModel",
          "model_module_version": "1.5.0",
          "state": {
            "_dom_classes": [],
            "_model_module": "@jupyter-widgets/controls",
            "_model_module_version": "1.5.0",
            "_model_name": "HBoxModel",
            "_view_count": null,
            "_view_module": "@jupyter-widgets/controls",
            "_view_module_version": "1.5.0",
            "_view_name": "HBoxView",
            "box_style": "",
            "children": [
              "IPY_MODEL_90ee44a9089f40a086f0a1aff8a0d610",
              "IPY_MODEL_8b63cc1683ee4cc19f00ca562c2507a0",
              "IPY_MODEL_48f954a9ee734a51b546082bd9a54317"
            ],
            "layout": "IPY_MODEL_ad2b9e0b3d2a47f6a187017adf714f05"
          }
        },
        "90ee44a9089f40a086f0a1aff8a0d610": {
          "model_module": "@jupyter-widgets/controls",
          "model_name": "HTMLModel",
          "model_module_version": "1.5.0",
          "state": {
            "_dom_classes": [],
            "_model_module": "@jupyter-widgets/controls",
            "_model_module_version": "1.5.0",
            "_model_name": "HTMLModel",
            "_view_count": null,
            "_view_module": "@jupyter-widgets/controls",
            "_view_module_version": "1.5.0",
            "_view_name": "HTMLView",
            "description": "",
            "description_tooltip": null,
            "layout": "IPY_MODEL_8f35c176bd004bb3819f9ca32bf68bdd",
            "placeholder": "​",
            "style": "IPY_MODEL_8fb39e0ee4de484db6209d2c4baf7f5e",
            "value": "Downloading data: 100%"
          }
        },
        "8b63cc1683ee4cc19f00ca562c2507a0": {
          "model_module": "@jupyter-widgets/controls",
          "model_name": "FloatProgressModel",
          "model_module_version": "1.5.0",
          "state": {
            "_dom_classes": [],
            "_model_module": "@jupyter-widgets/controls",
            "_model_module_version": "1.5.0",
            "_model_name": "FloatProgressModel",
            "_view_count": null,
            "_view_module": "@jupyter-widgets/controls",
            "_view_module_version": "1.5.0",
            "_view_name": "ProgressView",
            "bar_style": "success",
            "description": "",
            "description_tooltip": null,
            "layout": "IPY_MODEL_a687925629b74e1c9f6f4837a84db6fa",
            "max": 7439277,
            "min": 0,
            "orientation": "horizontal",
            "style": "IPY_MODEL_6a9638cdabde4b5382b758df72e51556",
            "value": 7439277
          }
        },
        "48f954a9ee734a51b546082bd9a54317": {
          "model_module": "@jupyter-widgets/controls",
          "model_name": "HTMLModel",
          "model_module_version": "1.5.0",
          "state": {
            "_dom_classes": [],
            "_model_module": "@jupyter-widgets/controls",
            "_model_module_version": "1.5.0",
            "_model_name": "HTMLModel",
            "_view_count": null,
            "_view_module": "@jupyter-widgets/controls",
            "_view_module_version": "1.5.0",
            "_view_name": "HTMLView",
            "description": "",
            "description_tooltip": null,
            "layout": "IPY_MODEL_59b808b8f22a4e02977ff8184d69b22f",
            "placeholder": "​",
            "style": "IPY_MODEL_121638233e59450b81526ecf2e55ce41",
            "value": " 7.44M/7.44M [00:00&lt;00:00, 78.5MB/s]"
          }
        },
        "ad2b9e0b3d2a47f6a187017adf714f05": {
          "model_module": "@jupyter-widgets/base",
          "model_name": "LayoutModel",
          "model_module_version": "1.2.0",
          "state": {
            "_model_module": "@jupyter-widgets/base",
            "_model_module_version": "1.2.0",
            "_model_name": "LayoutModel",
            "_view_count": null,
            "_view_module": "@jupyter-widgets/base",
            "_view_module_version": "1.2.0",
            "_view_name": "LayoutView",
            "align_content": null,
            "align_items": null,
            "align_self": null,
            "border": null,
            "bottom": null,
            "display": null,
            "flex": null,
            "flex_flow": null,
            "grid_area": null,
            "grid_auto_columns": null,
            "grid_auto_flow": null,
            "grid_auto_rows": null,
            "grid_column": null,
            "grid_gap": null,
            "grid_row": null,
            "grid_template_areas": null,
            "grid_template_columns": null,
            "grid_template_rows": null,
            "height": null,
            "justify_content": null,
            "justify_items": null,
            "left": null,
            "margin": null,
            "max_height": null,
            "max_width": null,
            "min_height": null,
            "min_width": null,
            "object_fit": null,
            "object_position": null,
            "order": null,
            "overflow": null,
            "overflow_x": null,
            "overflow_y": null,
            "padding": null,
            "right": null,
            "top": null,
            "visibility": null,
            "width": null
          }
        },
        "8f35c176bd004bb3819f9ca32bf68bdd": {
          "model_module": "@jupyter-widgets/base",
          "model_name": "LayoutModel",
          "model_module_version": "1.2.0",
          "state": {
            "_model_module": "@jupyter-widgets/base",
            "_model_module_version": "1.2.0",
            "_model_name": "LayoutModel",
            "_view_count": null,
            "_view_module": "@jupyter-widgets/base",
            "_view_module_version": "1.2.0",
            "_view_name": "LayoutView",
            "align_content": null,
            "align_items": null,
            "align_self": null,
            "border": null,
            "bottom": null,
            "display": null,
            "flex": null,
            "flex_flow": null,
            "grid_area": null,
            "grid_auto_columns": null,
            "grid_auto_flow": null,
            "grid_auto_rows": null,
            "grid_column": null,
            "grid_gap": null,
            "grid_row": null,
            "grid_template_areas": null,
            "grid_template_columns": null,
            "grid_template_rows": null,
            "height": null,
            "justify_content": null,
            "justify_items": null,
            "left": null,
            "margin": null,
            "max_height": null,
            "max_width": null,
            "min_height": null,
            "min_width": null,
            "object_fit": null,
            "object_position": null,
            "order": null,
            "overflow": null,
            "overflow_x": null,
            "overflow_y": null,
            "padding": null,
            "right": null,
            "top": null,
            "visibility": null,
            "width": null
          }
        },
        "8fb39e0ee4de484db6209d2c4baf7f5e": {
          "model_module": "@jupyter-widgets/controls",
          "model_name": "DescriptionStyleModel",
          "model_module_version": "1.5.0",
          "state": {
            "_model_module": "@jupyter-widgets/controls",
            "_model_module_version": "1.5.0",
            "_model_name": "DescriptionStyleModel",
            "_view_count": null,
            "_view_module": "@jupyter-widgets/base",
            "_view_module_version": "1.2.0",
            "_view_name": "StyleView",
            "description_width": ""
          }
        },
        "a687925629b74e1c9f6f4837a84db6fa": {
          "model_module": "@jupyter-widgets/base",
          "model_name": "LayoutModel",
          "model_module_version": "1.2.0",
          "state": {
            "_model_module": "@jupyter-widgets/base",
            "_model_module_version": "1.2.0",
            "_model_name": "LayoutModel",
            "_view_count": null,
            "_view_module": "@jupyter-widgets/base",
            "_view_module_version": "1.2.0",
            "_view_name": "LayoutView",
            "align_content": null,
            "align_items": null,
            "align_self": null,
            "border": null,
            "bottom": null,
            "display": null,
            "flex": null,
            "flex_flow": null,
            "grid_area": null,
            "grid_auto_columns": null,
            "grid_auto_flow": null,
            "grid_auto_rows": null,
            "grid_column": null,
            "grid_gap": null,
            "grid_row": null,
            "grid_template_areas": null,
            "grid_template_columns": null,
            "grid_template_rows": null,
            "height": null,
            "justify_content": null,
            "justify_items": null,
            "left": null,
            "margin": null,
            "max_height": null,
            "max_width": null,
            "min_height": null,
            "min_width": null,
            "object_fit": null,
            "object_position": null,
            "order": null,
            "overflow": null,
            "overflow_x": null,
            "overflow_y": null,
            "padding": null,
            "right": null,
            "top": null,
            "visibility": null,
            "width": null
          }
        },
        "6a9638cdabde4b5382b758df72e51556": {
          "model_module": "@jupyter-widgets/controls",
          "model_name": "ProgressStyleModel",
          "model_module_version": "1.5.0",
          "state": {
            "_model_module": "@jupyter-widgets/controls",
            "_model_module_version": "1.5.0",
            "_model_name": "ProgressStyleModel",
            "_view_count": null,
            "_view_module": "@jupyter-widgets/base",
            "_view_module_version": "1.2.0",
            "_view_name": "StyleView",
            "bar_color": null,
            "description_width": ""
          }
        },
        "59b808b8f22a4e02977ff8184d69b22f": {
          "model_module": "@jupyter-widgets/base",
          "model_name": "LayoutModel",
          "model_module_version": "1.2.0",
          "state": {
            "_model_module": "@jupyter-widgets/base",
            "_model_module_version": "1.2.0",
            "_model_name": "LayoutModel",
            "_view_count": null,
            "_view_module": "@jupyter-widgets/base",
            "_view_module_version": "1.2.0",
            "_view_name": "LayoutView",
            "align_content": null,
            "align_items": null,
            "align_self": null,
            "border": null,
            "bottom": null,
            "display": null,
            "flex": null,
            "flex_flow": null,
            "grid_area": null,
            "grid_auto_columns": null,
            "grid_auto_flow": null,
            "grid_auto_rows": null,
            "grid_column": null,
            "grid_gap": null,
            "grid_row": null,
            "grid_template_areas": null,
            "grid_template_columns": null,
            "grid_template_rows": null,
            "height": null,
            "justify_content": null,
            "justify_items": null,
            "left": null,
            "margin": null,
            "max_height": null,
            "max_width": null,
            "min_height": null,
            "min_width": null,
            "object_fit": null,
            "object_position": null,
            "order": null,
            "overflow": null,
            "overflow_x": null,
            "overflow_y": null,
            "padding": null,
            "right": null,
            "top": null,
            "visibility": null,
            "width": null
          }
        },
        "121638233e59450b81526ecf2e55ce41": {
          "model_module": "@jupyter-widgets/controls",
          "model_name": "DescriptionStyleModel",
          "model_module_version": "1.5.0",
          "state": {
            "_model_module": "@jupyter-widgets/controls",
            "_model_module_version": "1.5.0",
            "_model_name": "DescriptionStyleModel",
            "_view_count": null,
            "_view_module": "@jupyter-widgets/base",
            "_view_module_version": "1.2.0",
            "_view_name": "StyleView",
            "description_width": ""
          }
        },
        "b80fca60977046c2bb6d74051af1685b": {
          "model_module": "@jupyter-widgets/controls",
          "model_name": "HBoxModel",
          "model_module_version": "1.5.0",
          "state": {
            "_dom_classes": [],
            "_model_module": "@jupyter-widgets/controls",
            "_model_module_version": "1.5.0",
            "_model_name": "HBoxModel",
            "_view_count": null,
            "_view_module": "@jupyter-widgets/controls",
            "_view_module_version": "1.5.0",
            "_view_name": "HBoxView",
            "box_style": "",
            "children": [
              "IPY_MODEL_e9dddfe89517416fa88e3febd9de5c52",
              "IPY_MODEL_0b6a6599f22f43b3b553aef069411ce7",
              "IPY_MODEL_f1936d792be445b08c34a68b5094fd02"
            ],
            "layout": "IPY_MODEL_63758c7f63934ecfa01a30815141fb82"
          }
        },
        "e9dddfe89517416fa88e3febd9de5c52": {
          "model_module": "@jupyter-widgets/controls",
          "model_name": "HTMLModel",
          "model_module_version": "1.5.0",
          "state": {
            "_dom_classes": [],
            "_model_module": "@jupyter-widgets/controls",
            "_model_module_version": "1.5.0",
            "_model_name": "HTMLModel",
            "_view_count": null,
            "_view_module": "@jupyter-widgets/controls",
            "_view_module_version": "1.5.0",
            "_view_name": "HTMLView",
            "description": "",
            "description_tooltip": null,
            "layout": "IPY_MODEL_e021ba436bb349669f7765ca3770b46b",
            "placeholder": "​",
            "style": "IPY_MODEL_9617aad004454674a45b8b3c611e23ce",
            "value": "Generating train split:  99%"
          }
        },
        "0b6a6599f22f43b3b553aef069411ce7": {
          "model_module": "@jupyter-widgets/controls",
          "model_name": "FloatProgressModel",
          "model_module_version": "1.5.0",
          "state": {
            "_dom_classes": [],
            "_model_module": "@jupyter-widgets/controls",
            "_model_module_version": "1.5.0",
            "_model_name": "FloatProgressModel",
            "_view_count": null,
            "_view_module": "@jupyter-widgets/controls",
            "_view_module_version": "1.5.0",
            "_view_name": "ProgressView",
            "bar_style": "",
            "description": "",
            "description_tooltip": null,
            "layout": "IPY_MODEL_a590814e35b445ad8fee7eabe95f1eca",
            "max": 67349,
            "min": 0,
            "orientation": "horizontal",
            "style": "IPY_MODEL_60087ac9053d49ae93a4e909bec24a78",
            "value": 67349
          }
        },
        "f1936d792be445b08c34a68b5094fd02": {
          "model_module": "@jupyter-widgets/controls",
          "model_name": "HTMLModel",
          "model_module_version": "1.5.0",
          "state": {
            "_dom_classes": [],
            "_model_module": "@jupyter-widgets/controls",
            "_model_module_version": "1.5.0",
            "_model_name": "HTMLModel",
            "_view_count": null,
            "_view_module": "@jupyter-widgets/controls",
            "_view_module_version": "1.5.0",
            "_view_name": "HTMLView",
            "description": "",
            "description_tooltip": null,
            "layout": "IPY_MODEL_e0002752c2eb439db0ce8ffd96e0d05f",
            "placeholder": "​",
            "style": "IPY_MODEL_201bb900a4444d8d8f11c0ff7a6d7a83",
            "value": " 66753/67349 [00:03&lt;00:00, 17845.27 examples/s]"
          }
        },
        "63758c7f63934ecfa01a30815141fb82": {
          "model_module": "@jupyter-widgets/base",
          "model_name": "LayoutModel",
          "model_module_version": "1.2.0",
          "state": {
            "_model_module": "@jupyter-widgets/base",
            "_model_module_version": "1.2.0",
            "_model_name": "LayoutModel",
            "_view_count": null,
            "_view_module": "@jupyter-widgets/base",
            "_view_module_version": "1.2.0",
            "_view_name": "LayoutView",
            "align_content": null,
            "align_items": null,
            "align_self": null,
            "border": null,
            "bottom": null,
            "display": null,
            "flex": null,
            "flex_flow": null,
            "grid_area": null,
            "grid_auto_columns": null,
            "grid_auto_flow": null,
            "grid_auto_rows": null,
            "grid_column": null,
            "grid_gap": null,
            "grid_row": null,
            "grid_template_areas": null,
            "grid_template_columns": null,
            "grid_template_rows": null,
            "height": null,
            "justify_content": null,
            "justify_items": null,
            "left": null,
            "margin": null,
            "max_height": null,
            "max_width": null,
            "min_height": null,
            "min_width": null,
            "object_fit": null,
            "object_position": null,
            "order": null,
            "overflow": null,
            "overflow_x": null,
            "overflow_y": null,
            "padding": null,
            "right": null,
            "top": null,
            "visibility": "hidden",
            "width": null
          }
        },
        "e021ba436bb349669f7765ca3770b46b": {
          "model_module": "@jupyter-widgets/base",
          "model_name": "LayoutModel",
          "model_module_version": "1.2.0",
          "state": {
            "_model_module": "@jupyter-widgets/base",
            "_model_module_version": "1.2.0",
            "_model_name": "LayoutModel",
            "_view_count": null,
            "_view_module": "@jupyter-widgets/base",
            "_view_module_version": "1.2.0",
            "_view_name": "LayoutView",
            "align_content": null,
            "align_items": null,
            "align_self": null,
            "border": null,
            "bottom": null,
            "display": null,
            "flex": null,
            "flex_flow": null,
            "grid_area": null,
            "grid_auto_columns": null,
            "grid_auto_flow": null,
            "grid_auto_rows": null,
            "grid_column": null,
            "grid_gap": null,
            "grid_row": null,
            "grid_template_areas": null,
            "grid_template_columns": null,
            "grid_template_rows": null,
            "height": null,
            "justify_content": null,
            "justify_items": null,
            "left": null,
            "margin": null,
            "max_height": null,
            "max_width": null,
            "min_height": null,
            "min_width": null,
            "object_fit": null,
            "object_position": null,
            "order": null,
            "overflow": null,
            "overflow_x": null,
            "overflow_y": null,
            "padding": null,
            "right": null,
            "top": null,
            "visibility": null,
            "width": null
          }
        },
        "9617aad004454674a45b8b3c611e23ce": {
          "model_module": "@jupyter-widgets/controls",
          "model_name": "DescriptionStyleModel",
          "model_module_version": "1.5.0",
          "state": {
            "_model_module": "@jupyter-widgets/controls",
            "_model_module_version": "1.5.0",
            "_model_name": "DescriptionStyleModel",
            "_view_count": null,
            "_view_module": "@jupyter-widgets/base",
            "_view_module_version": "1.2.0",
            "_view_name": "StyleView",
            "description_width": ""
          }
        },
        "a590814e35b445ad8fee7eabe95f1eca": {
          "model_module": "@jupyter-widgets/base",
          "model_name": "LayoutModel",
          "model_module_version": "1.2.0",
          "state": {
            "_model_module": "@jupyter-widgets/base",
            "_model_module_version": "1.2.0",
            "_model_name": "LayoutModel",
            "_view_count": null,
            "_view_module": "@jupyter-widgets/base",
            "_view_module_version": "1.2.0",
            "_view_name": "LayoutView",
            "align_content": null,
            "align_items": null,
            "align_self": null,
            "border": null,
            "bottom": null,
            "display": null,
            "flex": null,
            "flex_flow": null,
            "grid_area": null,
            "grid_auto_columns": null,
            "grid_auto_flow": null,
            "grid_auto_rows": null,
            "grid_column": null,
            "grid_gap": null,
            "grid_row": null,
            "grid_template_areas": null,
            "grid_template_columns": null,
            "grid_template_rows": null,
            "height": null,
            "justify_content": null,
            "justify_items": null,
            "left": null,
            "margin": null,
            "max_height": null,
            "max_width": null,
            "min_height": null,
            "min_width": null,
            "object_fit": null,
            "object_position": null,
            "order": null,
            "overflow": null,
            "overflow_x": null,
            "overflow_y": null,
            "padding": null,
            "right": null,
            "top": null,
            "visibility": null,
            "width": null
          }
        },
        "60087ac9053d49ae93a4e909bec24a78": {
          "model_module": "@jupyter-widgets/controls",
          "model_name": "ProgressStyleModel",
          "model_module_version": "1.5.0",
          "state": {
            "_model_module": "@jupyter-widgets/controls",
            "_model_module_version": "1.5.0",
            "_model_name": "ProgressStyleModel",
            "_view_count": null,
            "_view_module": "@jupyter-widgets/base",
            "_view_module_version": "1.2.0",
            "_view_name": "StyleView",
            "bar_color": null,
            "description_width": ""
          }
        },
        "e0002752c2eb439db0ce8ffd96e0d05f": {
          "model_module": "@jupyter-widgets/base",
          "model_name": "LayoutModel",
          "model_module_version": "1.2.0",
          "state": {
            "_model_module": "@jupyter-widgets/base",
            "_model_module_version": "1.2.0",
            "_model_name": "LayoutModel",
            "_view_count": null,
            "_view_module": "@jupyter-widgets/base",
            "_view_module_version": "1.2.0",
            "_view_name": "LayoutView",
            "align_content": null,
            "align_items": null,
            "align_self": null,
            "border": null,
            "bottom": null,
            "display": null,
            "flex": null,
            "flex_flow": null,
            "grid_area": null,
            "grid_auto_columns": null,
            "grid_auto_flow": null,
            "grid_auto_rows": null,
            "grid_column": null,
            "grid_gap": null,
            "grid_row": null,
            "grid_template_areas": null,
            "grid_template_columns": null,
            "grid_template_rows": null,
            "height": null,
            "justify_content": null,
            "justify_items": null,
            "left": null,
            "margin": null,
            "max_height": null,
            "max_width": null,
            "min_height": null,
            "min_width": null,
            "object_fit": null,
            "object_position": null,
            "order": null,
            "overflow": null,
            "overflow_x": null,
            "overflow_y": null,
            "padding": null,
            "right": null,
            "top": null,
            "visibility": null,
            "width": null
          }
        },
        "201bb900a4444d8d8f11c0ff7a6d7a83": {
          "model_module": "@jupyter-widgets/controls",
          "model_name": "DescriptionStyleModel",
          "model_module_version": "1.5.0",
          "state": {
            "_model_module": "@jupyter-widgets/controls",
            "_model_module_version": "1.5.0",
            "_model_name": "DescriptionStyleModel",
            "_view_count": null,
            "_view_module": "@jupyter-widgets/base",
            "_view_module_version": "1.2.0",
            "_view_name": "StyleView",
            "description_width": ""
          }
        },
        "3c0d689d7c3f4b039850a66f8911f0ed": {
          "model_module": "@jupyter-widgets/controls",
          "model_name": "HBoxModel",
          "model_module_version": "1.5.0",
          "state": {
            "_dom_classes": [],
            "_model_module": "@jupyter-widgets/controls",
            "_model_module_version": "1.5.0",
            "_model_name": "HBoxModel",
            "_view_count": null,
            "_view_module": "@jupyter-widgets/controls",
            "_view_module_version": "1.5.0",
            "_view_name": "HBoxView",
            "box_style": "",
            "children": [
              "IPY_MODEL_45a5b3d2466749f58f7ed4891d608b54",
              "IPY_MODEL_c7aec89033a346a082616eefc207b361",
              "IPY_MODEL_d9bdf6d890f04a1794079f6d0ed2addd"
            ],
            "layout": "IPY_MODEL_f8b1a04f889b4e9d9968f09daa9d323d"
          }
        },
        "45a5b3d2466749f58f7ed4891d608b54": {
          "model_module": "@jupyter-widgets/controls",
          "model_name": "HTMLModel",
          "model_module_version": "1.5.0",
          "state": {
            "_dom_classes": [],
            "_model_module": "@jupyter-widgets/controls",
            "_model_module_version": "1.5.0",
            "_model_name": "HTMLModel",
            "_view_count": null,
            "_view_module": "@jupyter-widgets/controls",
            "_view_module_version": "1.5.0",
            "_view_name": "HTMLView",
            "description": "",
            "description_tooltip": null,
            "layout": "IPY_MODEL_daaf5826f6af4a8d8480bda550845672",
            "placeholder": "​",
            "style": "IPY_MODEL_825a59ea3ca54946bc4a94b2988f0427",
            "value": "Generating validation split:   0%"
          }
        },
        "c7aec89033a346a082616eefc207b361": {
          "model_module": "@jupyter-widgets/controls",
          "model_name": "FloatProgressModel",
          "model_module_version": "1.5.0",
          "state": {
            "_dom_classes": [],
            "_model_module": "@jupyter-widgets/controls",
            "_model_module_version": "1.5.0",
            "_model_name": "FloatProgressModel",
            "_view_count": null,
            "_view_module": "@jupyter-widgets/controls",
            "_view_module_version": "1.5.0",
            "_view_name": "ProgressView",
            "bar_style": "",
            "description": "",
            "description_tooltip": null,
            "layout": "IPY_MODEL_abfbc637e98147bba0e8691f45f2ecaf",
            "max": 872,
            "min": 0,
            "orientation": "horizontal",
            "style": "IPY_MODEL_5c555cd54b7145afa2979c60a910114a",
            "value": 872
          }
        },
        "d9bdf6d890f04a1794079f6d0ed2addd": {
          "model_module": "@jupyter-widgets/controls",
          "model_name": "HTMLModel",
          "model_module_version": "1.5.0",
          "state": {
            "_dom_classes": [],
            "_model_module": "@jupyter-widgets/controls",
            "_model_module_version": "1.5.0",
            "_model_name": "HTMLModel",
            "_view_count": null,
            "_view_module": "@jupyter-widgets/controls",
            "_view_module_version": "1.5.0",
            "_view_name": "HTMLView",
            "description": "",
            "description_tooltip": null,
            "layout": "IPY_MODEL_7485d5f23e944253a9b30e759b4c9cd1",
            "placeholder": "​",
            "style": "IPY_MODEL_516df25364ce44e19dd460704df02124",
            "value": " 0/872 [00:00&lt;?, ? examples/s]"
          }
        },
        "f8b1a04f889b4e9d9968f09daa9d323d": {
          "model_module": "@jupyter-widgets/base",
          "model_name": "LayoutModel",
          "model_module_version": "1.2.0",
          "state": {
            "_model_module": "@jupyter-widgets/base",
            "_model_module_version": "1.2.0",
            "_model_name": "LayoutModel",
            "_view_count": null,
            "_view_module": "@jupyter-widgets/base",
            "_view_module_version": "1.2.0",
            "_view_name": "LayoutView",
            "align_content": null,
            "align_items": null,
            "align_self": null,
            "border": null,
            "bottom": null,
            "display": null,
            "flex": null,
            "flex_flow": null,
            "grid_area": null,
            "grid_auto_columns": null,
            "grid_auto_flow": null,
            "grid_auto_rows": null,
            "grid_column": null,
            "grid_gap": null,
            "grid_row": null,
            "grid_template_areas": null,
            "grid_template_columns": null,
            "grid_template_rows": null,
            "height": null,
            "justify_content": null,
            "justify_items": null,
            "left": null,
            "margin": null,
            "max_height": null,
            "max_width": null,
            "min_height": null,
            "min_width": null,
            "object_fit": null,
            "object_position": null,
            "order": null,
            "overflow": null,
            "overflow_x": null,
            "overflow_y": null,
            "padding": null,
            "right": null,
            "top": null,
            "visibility": "hidden",
            "width": null
          }
        },
        "daaf5826f6af4a8d8480bda550845672": {
          "model_module": "@jupyter-widgets/base",
          "model_name": "LayoutModel",
          "model_module_version": "1.2.0",
          "state": {
            "_model_module": "@jupyter-widgets/base",
            "_model_module_version": "1.2.0",
            "_model_name": "LayoutModel",
            "_view_count": null,
            "_view_module": "@jupyter-widgets/base",
            "_view_module_version": "1.2.0",
            "_view_name": "LayoutView",
            "align_content": null,
            "align_items": null,
            "align_self": null,
            "border": null,
            "bottom": null,
            "display": null,
            "flex": null,
            "flex_flow": null,
            "grid_area": null,
            "grid_auto_columns": null,
            "grid_auto_flow": null,
            "grid_auto_rows": null,
            "grid_column": null,
            "grid_gap": null,
            "grid_row": null,
            "grid_template_areas": null,
            "grid_template_columns": null,
            "grid_template_rows": null,
            "height": null,
            "justify_content": null,
            "justify_items": null,
            "left": null,
            "margin": null,
            "max_height": null,
            "max_width": null,
            "min_height": null,
            "min_width": null,
            "object_fit": null,
            "object_position": null,
            "order": null,
            "overflow": null,
            "overflow_x": null,
            "overflow_y": null,
            "padding": null,
            "right": null,
            "top": null,
            "visibility": null,
            "width": null
          }
        },
        "825a59ea3ca54946bc4a94b2988f0427": {
          "model_module": "@jupyter-widgets/controls",
          "model_name": "DescriptionStyleModel",
          "model_module_version": "1.5.0",
          "state": {
            "_model_module": "@jupyter-widgets/controls",
            "_model_module_version": "1.5.0",
            "_model_name": "DescriptionStyleModel",
            "_view_count": null,
            "_view_module": "@jupyter-widgets/base",
            "_view_module_version": "1.2.0",
            "_view_name": "StyleView",
            "description_width": ""
          }
        },
        "abfbc637e98147bba0e8691f45f2ecaf": {
          "model_module": "@jupyter-widgets/base",
          "model_name": "LayoutModel",
          "model_module_version": "1.2.0",
          "state": {
            "_model_module": "@jupyter-widgets/base",
            "_model_module_version": "1.2.0",
            "_model_name": "LayoutModel",
            "_view_count": null,
            "_view_module": "@jupyter-widgets/base",
            "_view_module_version": "1.2.0",
            "_view_name": "LayoutView",
            "align_content": null,
            "align_items": null,
            "align_self": null,
            "border": null,
            "bottom": null,
            "display": null,
            "flex": null,
            "flex_flow": null,
            "grid_area": null,
            "grid_auto_columns": null,
            "grid_auto_flow": null,
            "grid_auto_rows": null,
            "grid_column": null,
            "grid_gap": null,
            "grid_row": null,
            "grid_template_areas": null,
            "grid_template_columns": null,
            "grid_template_rows": null,
            "height": null,
            "justify_content": null,
            "justify_items": null,
            "left": null,
            "margin": null,
            "max_height": null,
            "max_width": null,
            "min_height": null,
            "min_width": null,
            "object_fit": null,
            "object_position": null,
            "order": null,
            "overflow": null,
            "overflow_x": null,
            "overflow_y": null,
            "padding": null,
            "right": null,
            "top": null,
            "visibility": null,
            "width": null
          }
        },
        "5c555cd54b7145afa2979c60a910114a": {
          "model_module": "@jupyter-widgets/controls",
          "model_name": "ProgressStyleModel",
          "model_module_version": "1.5.0",
          "state": {
            "_model_module": "@jupyter-widgets/controls",
            "_model_module_version": "1.5.0",
            "_model_name": "ProgressStyleModel",
            "_view_count": null,
            "_view_module": "@jupyter-widgets/base",
            "_view_module_version": "1.2.0",
            "_view_name": "StyleView",
            "bar_color": null,
            "description_width": ""
          }
        },
        "7485d5f23e944253a9b30e759b4c9cd1": {
          "model_module": "@jupyter-widgets/base",
          "model_name": "LayoutModel",
          "model_module_version": "1.2.0",
          "state": {
            "_model_module": "@jupyter-widgets/base",
            "_model_module_version": "1.2.0",
            "_model_name": "LayoutModel",
            "_view_count": null,
            "_view_module": "@jupyter-widgets/base",
            "_view_module_version": "1.2.0",
            "_view_name": "LayoutView",
            "align_content": null,
            "align_items": null,
            "align_self": null,
            "border": null,
            "bottom": null,
            "display": null,
            "flex": null,
            "flex_flow": null,
            "grid_area": null,
            "grid_auto_columns": null,
            "grid_auto_flow": null,
            "grid_auto_rows": null,
            "grid_column": null,
            "grid_gap": null,
            "grid_row": null,
            "grid_template_areas": null,
            "grid_template_columns": null,
            "grid_template_rows": null,
            "height": null,
            "justify_content": null,
            "justify_items": null,
            "left": null,
            "margin": null,
            "max_height": null,
            "max_width": null,
            "min_height": null,
            "min_width": null,
            "object_fit": null,
            "object_position": null,
            "order": null,
            "overflow": null,
            "overflow_x": null,
            "overflow_y": null,
            "padding": null,
            "right": null,
            "top": null,
            "visibility": null,
            "width": null
          }
        },
        "516df25364ce44e19dd460704df02124": {
          "model_module": "@jupyter-widgets/controls",
          "model_name": "DescriptionStyleModel",
          "model_module_version": "1.5.0",
          "state": {
            "_model_module": "@jupyter-widgets/controls",
            "_model_module_version": "1.5.0",
            "_model_name": "DescriptionStyleModel",
            "_view_count": null,
            "_view_module": "@jupyter-widgets/base",
            "_view_module_version": "1.2.0",
            "_view_name": "StyleView",
            "description_width": ""
          }
        },
        "b2315ccf313f49389af3a88955678467": {
          "model_module": "@jupyter-widgets/controls",
          "model_name": "HBoxModel",
          "model_module_version": "1.5.0",
          "state": {
            "_dom_classes": [],
            "_model_module": "@jupyter-widgets/controls",
            "_model_module_version": "1.5.0",
            "_model_name": "HBoxModel",
            "_view_count": null,
            "_view_module": "@jupyter-widgets/controls",
            "_view_module_version": "1.5.0",
            "_view_name": "HBoxView",
            "box_style": "",
            "children": [
              "IPY_MODEL_a4bb5e23430c4aa487fa24813c5e9c1f",
              "IPY_MODEL_916a7e0f06b043a2bd1595ef948c7620",
              "IPY_MODEL_84269b6d58944b2689b52d3915be7c03"
            ],
            "layout": "IPY_MODEL_b6c33374dca34983b6131ef3c13bb8e4"
          }
        },
        "a4bb5e23430c4aa487fa24813c5e9c1f": {
          "model_module": "@jupyter-widgets/controls",
          "model_name": "HTMLModel",
          "model_module_version": "1.5.0",
          "state": {
            "_dom_classes": [],
            "_model_module": "@jupyter-widgets/controls",
            "_model_module_version": "1.5.0",
            "_model_name": "HTMLModel",
            "_view_count": null,
            "_view_module": "@jupyter-widgets/controls",
            "_view_module_version": "1.5.0",
            "_view_name": "HTMLView",
            "description": "",
            "description_tooltip": null,
            "layout": "IPY_MODEL_058fced9b97247a7930d0498d23754b4",
            "placeholder": "​",
            "style": "IPY_MODEL_a8d3ce879fb847d2a3783e43a98ac3b7",
            "value": "Generating test split: 100%"
          }
        },
        "916a7e0f06b043a2bd1595ef948c7620": {
          "model_module": "@jupyter-widgets/controls",
          "model_name": "FloatProgressModel",
          "model_module_version": "1.5.0",
          "state": {
            "_dom_classes": [],
            "_model_module": "@jupyter-widgets/controls",
            "_model_module_version": "1.5.0",
            "_model_name": "FloatProgressModel",
            "_view_count": null,
            "_view_module": "@jupyter-widgets/controls",
            "_view_module_version": "1.5.0",
            "_view_name": "ProgressView",
            "bar_style": "",
            "description": "",
            "description_tooltip": null,
            "layout": "IPY_MODEL_ee299bcc83904a0d817f1610b10943bf",
            "max": 1821,
            "min": 0,
            "orientation": "horizontal",
            "style": "IPY_MODEL_aeb9d8ff59984526be9ccc2c34e64ecd",
            "value": 1821
          }
        },
        "84269b6d58944b2689b52d3915be7c03": {
          "model_module": "@jupyter-widgets/controls",
          "model_name": "HTMLModel",
          "model_module_version": "1.5.0",
          "state": {
            "_dom_classes": [],
            "_model_module": "@jupyter-widgets/controls",
            "_model_module_version": "1.5.0",
            "_model_name": "HTMLModel",
            "_view_count": null,
            "_view_module": "@jupyter-widgets/controls",
            "_view_module_version": "1.5.0",
            "_view_name": "HTMLView",
            "description": "",
            "description_tooltip": null,
            "layout": "IPY_MODEL_e7512cebeea84261859f2b480c5594e0",
            "placeholder": "​",
            "style": "IPY_MODEL_ce748f561dad441a9a4ce532768511c8",
            "value": " 1821/1821 [00:00&lt;00:00, 16418.59 examples/s]"
          }
        },
        "b6c33374dca34983b6131ef3c13bb8e4": {
          "model_module": "@jupyter-widgets/base",
          "model_name": "LayoutModel",
          "model_module_version": "1.2.0",
          "state": {
            "_model_module": "@jupyter-widgets/base",
            "_model_module_version": "1.2.0",
            "_model_name": "LayoutModel",
            "_view_count": null,
            "_view_module": "@jupyter-widgets/base",
            "_view_module_version": "1.2.0",
            "_view_name": "LayoutView",
            "align_content": null,
            "align_items": null,
            "align_self": null,
            "border": null,
            "bottom": null,
            "display": null,
            "flex": null,
            "flex_flow": null,
            "grid_area": null,
            "grid_auto_columns": null,
            "grid_auto_flow": null,
            "grid_auto_rows": null,
            "grid_column": null,
            "grid_gap": null,
            "grid_row": null,
            "grid_template_areas": null,
            "grid_template_columns": null,
            "grid_template_rows": null,
            "height": null,
            "justify_content": null,
            "justify_items": null,
            "left": null,
            "margin": null,
            "max_height": null,
            "max_width": null,
            "min_height": null,
            "min_width": null,
            "object_fit": null,
            "object_position": null,
            "order": null,
            "overflow": null,
            "overflow_x": null,
            "overflow_y": null,
            "padding": null,
            "right": null,
            "top": null,
            "visibility": "hidden",
            "width": null
          }
        },
        "058fced9b97247a7930d0498d23754b4": {
          "model_module": "@jupyter-widgets/base",
          "model_name": "LayoutModel",
          "model_module_version": "1.2.0",
          "state": {
            "_model_module": "@jupyter-widgets/base",
            "_model_module_version": "1.2.0",
            "_model_name": "LayoutModel",
            "_view_count": null,
            "_view_module": "@jupyter-widgets/base",
            "_view_module_version": "1.2.0",
            "_view_name": "LayoutView",
            "align_content": null,
            "align_items": null,
            "align_self": null,
            "border": null,
            "bottom": null,
            "display": null,
            "flex": null,
            "flex_flow": null,
            "grid_area": null,
            "grid_auto_columns": null,
            "grid_auto_flow": null,
            "grid_auto_rows": null,
            "grid_column": null,
            "grid_gap": null,
            "grid_row": null,
            "grid_template_areas": null,
            "grid_template_columns": null,
            "grid_template_rows": null,
            "height": null,
            "justify_content": null,
            "justify_items": null,
            "left": null,
            "margin": null,
            "max_height": null,
            "max_width": null,
            "min_height": null,
            "min_width": null,
            "object_fit": null,
            "object_position": null,
            "order": null,
            "overflow": null,
            "overflow_x": null,
            "overflow_y": null,
            "padding": null,
            "right": null,
            "top": null,
            "visibility": null,
            "width": null
          }
        },
        "a8d3ce879fb847d2a3783e43a98ac3b7": {
          "model_module": "@jupyter-widgets/controls",
          "model_name": "DescriptionStyleModel",
          "model_module_version": "1.5.0",
          "state": {
            "_model_module": "@jupyter-widgets/controls",
            "_model_module_version": "1.5.0",
            "_model_name": "DescriptionStyleModel",
            "_view_count": null,
            "_view_module": "@jupyter-widgets/base",
            "_view_module_version": "1.2.0",
            "_view_name": "StyleView",
            "description_width": ""
          }
        },
        "ee299bcc83904a0d817f1610b10943bf": {
          "model_module": "@jupyter-widgets/base",
          "model_name": "LayoutModel",
          "model_module_version": "1.2.0",
          "state": {
            "_model_module": "@jupyter-widgets/base",
            "_model_module_version": "1.2.0",
            "_model_name": "LayoutModel",
            "_view_count": null,
            "_view_module": "@jupyter-widgets/base",
            "_view_module_version": "1.2.0",
            "_view_name": "LayoutView",
            "align_content": null,
            "align_items": null,
            "align_self": null,
            "border": null,
            "bottom": null,
            "display": null,
            "flex": null,
            "flex_flow": null,
            "grid_area": null,
            "grid_auto_columns": null,
            "grid_auto_flow": null,
            "grid_auto_rows": null,
            "grid_column": null,
            "grid_gap": null,
            "grid_row": null,
            "grid_template_areas": null,
            "grid_template_columns": null,
            "grid_template_rows": null,
            "height": null,
            "justify_content": null,
            "justify_items": null,
            "left": null,
            "margin": null,
            "max_height": null,
            "max_width": null,
            "min_height": null,
            "min_width": null,
            "object_fit": null,
            "object_position": null,
            "order": null,
            "overflow": null,
            "overflow_x": null,
            "overflow_y": null,
            "padding": null,
            "right": null,
            "top": null,
            "visibility": null,
            "width": null
          }
        },
        "aeb9d8ff59984526be9ccc2c34e64ecd": {
          "model_module": "@jupyter-widgets/controls",
          "model_name": "ProgressStyleModel",
          "model_module_version": "1.5.0",
          "state": {
            "_model_module": "@jupyter-widgets/controls",
            "_model_module_version": "1.5.0",
            "_model_name": "ProgressStyleModel",
            "_view_count": null,
            "_view_module": "@jupyter-widgets/base",
            "_view_module_version": "1.2.0",
            "_view_name": "StyleView",
            "bar_color": null,
            "description_width": ""
          }
        },
        "e7512cebeea84261859f2b480c5594e0": {
          "model_module": "@jupyter-widgets/base",
          "model_name": "LayoutModel",
          "model_module_version": "1.2.0",
          "state": {
            "_model_module": "@jupyter-widgets/base",
            "_model_module_version": "1.2.0",
            "_model_name": "LayoutModel",
            "_view_count": null,
            "_view_module": "@jupyter-widgets/base",
            "_view_module_version": "1.2.0",
            "_view_name": "LayoutView",
            "align_content": null,
            "align_items": null,
            "align_self": null,
            "border": null,
            "bottom": null,
            "display": null,
            "flex": null,
            "flex_flow": null,
            "grid_area": null,
            "grid_auto_columns": null,
            "grid_auto_flow": null,
            "grid_auto_rows": null,
            "grid_column": null,
            "grid_gap": null,
            "grid_row": null,
            "grid_template_areas": null,
            "grid_template_columns": null,
            "grid_template_rows": null,
            "height": null,
            "justify_content": null,
            "justify_items": null,
            "left": null,
            "margin": null,
            "max_height": null,
            "max_width": null,
            "min_height": null,
            "min_width": null,
            "object_fit": null,
            "object_position": null,
            "order": null,
            "overflow": null,
            "overflow_x": null,
            "overflow_y": null,
            "padding": null,
            "right": null,
            "top": null,
            "visibility": null,
            "width": null
          }
        },
        "ce748f561dad441a9a4ce532768511c8": {
          "model_module": "@jupyter-widgets/controls",
          "model_name": "DescriptionStyleModel",
          "model_module_version": "1.5.0",
          "state": {
            "_model_module": "@jupyter-widgets/controls",
            "_model_module_version": "1.5.0",
            "_model_name": "DescriptionStyleModel",
            "_view_count": null,
            "_view_module": "@jupyter-widgets/base",
            "_view_module_version": "1.2.0",
            "_view_name": "StyleView",
            "description_width": ""
          }
        },
        "2a6cc0b5dc734a0991e54fcab0bc097c": {
          "model_module": "@jupyter-widgets/controls",
          "model_name": "HBoxModel",
          "model_module_version": "1.5.0",
          "state": {
            "_dom_classes": [],
            "_model_module": "@jupyter-widgets/controls",
            "_model_module_version": "1.5.0",
            "_model_name": "HBoxModel",
            "_view_count": null,
            "_view_module": "@jupyter-widgets/controls",
            "_view_module_version": "1.5.0",
            "_view_name": "HBoxView",
            "box_style": "",
            "children": [
              "IPY_MODEL_0aa755d3ee414031a553ab0604332a21",
              "IPY_MODEL_94b487ccee334a19b3af3a0dc37ef549",
              "IPY_MODEL_e9c8e0a6e83844be87693df87c4f9a22"
            ],
            "layout": "IPY_MODEL_c7f29113526548bd8ea29da030e0fc10"
          }
        },
        "0aa755d3ee414031a553ab0604332a21": {
          "model_module": "@jupyter-widgets/controls",
          "model_name": "HTMLModel",
          "model_module_version": "1.5.0",
          "state": {
            "_dom_classes": [],
            "_model_module": "@jupyter-widgets/controls",
            "_model_module_version": "1.5.0",
            "_model_name": "HTMLModel",
            "_view_count": null,
            "_view_module": "@jupyter-widgets/controls",
            "_view_module_version": "1.5.0",
            "_view_name": "HTMLView",
            "description": "",
            "description_tooltip": null,
            "layout": "IPY_MODEL_80ee6644fee84e2a9e26224c0154ef78",
            "placeholder": "​",
            "style": "IPY_MODEL_258399a5ef214132b8c34bd360d7d305",
            "value": "100%"
          }
        },
        "94b487ccee334a19b3af3a0dc37ef549": {
          "model_module": "@jupyter-widgets/controls",
          "model_name": "FloatProgressModel",
          "model_module_version": "1.5.0",
          "state": {
            "_dom_classes": [],
            "_model_module": "@jupyter-widgets/controls",
            "_model_module_version": "1.5.0",
            "_model_name": "FloatProgressModel",
            "_view_count": null,
            "_view_module": "@jupyter-widgets/controls",
            "_view_module_version": "1.5.0",
            "_view_name": "ProgressView",
            "bar_style": "success",
            "description": "",
            "description_tooltip": null,
            "layout": "IPY_MODEL_ead4e24a5cf34df9ad3e84bc2735e540",
            "max": 3,
            "min": 0,
            "orientation": "horizontal",
            "style": "IPY_MODEL_82f4f38ae51c468996083edc891f0d5b",
            "value": 3
          }
        },
        "e9c8e0a6e83844be87693df87c4f9a22": {
          "model_module": "@jupyter-widgets/controls",
          "model_name": "HTMLModel",
          "model_module_version": "1.5.0",
          "state": {
            "_dom_classes": [],
            "_model_module": "@jupyter-widgets/controls",
            "_model_module_version": "1.5.0",
            "_model_name": "HTMLModel",
            "_view_count": null,
            "_view_module": "@jupyter-widgets/controls",
            "_view_module_version": "1.5.0",
            "_view_name": "HTMLView",
            "description": "",
            "description_tooltip": null,
            "layout": "IPY_MODEL_b39fcec4994e424c8002106e1e9c73ad",
            "placeholder": "​",
            "style": "IPY_MODEL_338752565c604d07991904589ac062bb",
            "value": " 3/3 [00:00&lt;00:00, 103.45it/s]"
          }
        },
        "c7f29113526548bd8ea29da030e0fc10": {
          "model_module": "@jupyter-widgets/base",
          "model_name": "LayoutModel",
          "model_module_version": "1.2.0",
          "state": {
            "_model_module": "@jupyter-widgets/base",
            "_model_module_version": "1.2.0",
            "_model_name": "LayoutModel",
            "_view_count": null,
            "_view_module": "@jupyter-widgets/base",
            "_view_module_version": "1.2.0",
            "_view_name": "LayoutView",
            "align_content": null,
            "align_items": null,
            "align_self": null,
            "border": null,
            "bottom": null,
            "display": null,
            "flex": null,
            "flex_flow": null,
            "grid_area": null,
            "grid_auto_columns": null,
            "grid_auto_flow": null,
            "grid_auto_rows": null,
            "grid_column": null,
            "grid_gap": null,
            "grid_row": null,
            "grid_template_areas": null,
            "grid_template_columns": null,
            "grid_template_rows": null,
            "height": null,
            "justify_content": null,
            "justify_items": null,
            "left": null,
            "margin": null,
            "max_height": null,
            "max_width": null,
            "min_height": null,
            "min_width": null,
            "object_fit": null,
            "object_position": null,
            "order": null,
            "overflow": null,
            "overflow_x": null,
            "overflow_y": null,
            "padding": null,
            "right": null,
            "top": null,
            "visibility": null,
            "width": null
          }
        },
        "80ee6644fee84e2a9e26224c0154ef78": {
          "model_module": "@jupyter-widgets/base",
          "model_name": "LayoutModel",
          "model_module_version": "1.2.0",
          "state": {
            "_model_module": "@jupyter-widgets/base",
            "_model_module_version": "1.2.0",
            "_model_name": "LayoutModel",
            "_view_count": null,
            "_view_module": "@jupyter-widgets/base",
            "_view_module_version": "1.2.0",
            "_view_name": "LayoutView",
            "align_content": null,
            "align_items": null,
            "align_self": null,
            "border": null,
            "bottom": null,
            "display": null,
            "flex": null,
            "flex_flow": null,
            "grid_area": null,
            "grid_auto_columns": null,
            "grid_auto_flow": null,
            "grid_auto_rows": null,
            "grid_column": null,
            "grid_gap": null,
            "grid_row": null,
            "grid_template_areas": null,
            "grid_template_columns": null,
            "grid_template_rows": null,
            "height": null,
            "justify_content": null,
            "justify_items": null,
            "left": null,
            "margin": null,
            "max_height": null,
            "max_width": null,
            "min_height": null,
            "min_width": null,
            "object_fit": null,
            "object_position": null,
            "order": null,
            "overflow": null,
            "overflow_x": null,
            "overflow_y": null,
            "padding": null,
            "right": null,
            "top": null,
            "visibility": null,
            "width": null
          }
        },
        "258399a5ef214132b8c34bd360d7d305": {
          "model_module": "@jupyter-widgets/controls",
          "model_name": "DescriptionStyleModel",
          "model_module_version": "1.5.0",
          "state": {
            "_model_module": "@jupyter-widgets/controls",
            "_model_module_version": "1.5.0",
            "_model_name": "DescriptionStyleModel",
            "_view_count": null,
            "_view_module": "@jupyter-widgets/base",
            "_view_module_version": "1.2.0",
            "_view_name": "StyleView",
            "description_width": ""
          }
        },
        "ead4e24a5cf34df9ad3e84bc2735e540": {
          "model_module": "@jupyter-widgets/base",
          "model_name": "LayoutModel",
          "model_module_version": "1.2.0",
          "state": {
            "_model_module": "@jupyter-widgets/base",
            "_model_module_version": "1.2.0",
            "_model_name": "LayoutModel",
            "_view_count": null,
            "_view_module": "@jupyter-widgets/base",
            "_view_module_version": "1.2.0",
            "_view_name": "LayoutView",
            "align_content": null,
            "align_items": null,
            "align_self": null,
            "border": null,
            "bottom": null,
            "display": null,
            "flex": null,
            "flex_flow": null,
            "grid_area": null,
            "grid_auto_columns": null,
            "grid_auto_flow": null,
            "grid_auto_rows": null,
            "grid_column": null,
            "grid_gap": null,
            "grid_row": null,
            "grid_template_areas": null,
            "grid_template_columns": null,
            "grid_template_rows": null,
            "height": null,
            "justify_content": null,
            "justify_items": null,
            "left": null,
            "margin": null,
            "max_height": null,
            "max_width": null,
            "min_height": null,
            "min_width": null,
            "object_fit": null,
            "object_position": null,
            "order": null,
            "overflow": null,
            "overflow_x": null,
            "overflow_y": null,
            "padding": null,
            "right": null,
            "top": null,
            "visibility": null,
            "width": null
          }
        },
        "82f4f38ae51c468996083edc891f0d5b": {
          "model_module": "@jupyter-widgets/controls",
          "model_name": "ProgressStyleModel",
          "model_module_version": "1.5.0",
          "state": {
            "_model_module": "@jupyter-widgets/controls",
            "_model_module_version": "1.5.0",
            "_model_name": "ProgressStyleModel",
            "_view_count": null,
            "_view_module": "@jupyter-widgets/base",
            "_view_module_version": "1.2.0",
            "_view_name": "StyleView",
            "bar_color": null,
            "description_width": ""
          }
        },
        "b39fcec4994e424c8002106e1e9c73ad": {
          "model_module": "@jupyter-widgets/base",
          "model_name": "LayoutModel",
          "model_module_version": "1.2.0",
          "state": {
            "_model_module": "@jupyter-widgets/base",
            "_model_module_version": "1.2.0",
            "_model_name": "LayoutModel",
            "_view_count": null,
            "_view_module": "@jupyter-widgets/base",
            "_view_module_version": "1.2.0",
            "_view_name": "LayoutView",
            "align_content": null,
            "align_items": null,
            "align_self": null,
            "border": null,
            "bottom": null,
            "display": null,
            "flex": null,
            "flex_flow": null,
            "grid_area": null,
            "grid_auto_columns": null,
            "grid_auto_flow": null,
            "grid_auto_rows": null,
            "grid_column": null,
            "grid_gap": null,
            "grid_row": null,
            "grid_template_areas": null,
            "grid_template_columns": null,
            "grid_template_rows": null,
            "height": null,
            "justify_content": null,
            "justify_items": null,
            "left": null,
            "margin": null,
            "max_height": null,
            "max_width": null,
            "min_height": null,
            "min_width": null,
            "object_fit": null,
            "object_position": null,
            "order": null,
            "overflow": null,
            "overflow_x": null,
            "overflow_y": null,
            "padding": null,
            "right": null,
            "top": null,
            "visibility": null,
            "width": null
          }
        },
        "338752565c604d07991904589ac062bb": {
          "model_module": "@jupyter-widgets/controls",
          "model_name": "DescriptionStyleModel",
          "model_module_version": "1.5.0",
          "state": {
            "_model_module": "@jupyter-widgets/controls",
            "_model_module_version": "1.5.0",
            "_model_name": "DescriptionStyleModel",
            "_view_count": null,
            "_view_module": "@jupyter-widgets/base",
            "_view_module_version": "1.2.0",
            "_view_name": "StyleView",
            "description_width": ""
          }
        }
      }
    },
    "accelerator": "GPU"
  },
  "cells": [
    {
      "cell_type": "markdown",
      "metadata": {
        "id": "view-in-github",
        "colab_type": "text"
      },
      "source": [
        "<a href=\"https://colab.research.google.com/github/lauraholv/NLP_project/blob/main/RNN_soft_attention_NLP_Project.ipynb\" target=\"_parent\"><img src=\"https://colab.research.google.com/assets/colab-badge.svg\" alt=\"Open In Colab\"/></a>"
      ]
    },
    {
      "cell_type": "markdown",
      "source": [
        "# Set-Up\n",
        "pip installing, importing packages and downloading embeddings and datasets"
      ],
      "metadata": {
        "id": "JK0bDVc0Cmfg"
      }
    },
    {
      "cell_type": "code",
      "execution_count": 2,
      "metadata": {
        "colab": {
          "base_uri": "https://localhost:8080/"
        },
        "id": "R5wvsUCsyxsR",
        "outputId": "a34280a1-453e-47ec-ede0-f7e8254e64c2"
      },
      "outputs": [
        {
          "output_type": "stream",
          "name": "stdout",
          "text": [
            "Looking in indexes: https://pypi.org/simple, https://us-python.pkg.dev/colab-wheels/public/simple/\n",
            "Collecting datasets\n",
            "  Downloading datasets-2.13.0-py3-none-any.whl (485 kB)\n",
            "\u001b[2K     \u001b[90m━━━━━━━━━━━━━━━━━━━━━━━━━━━━━━━━━━━━━━\u001b[0m \u001b[32m485.6/485.6 kB\u001b[0m \u001b[31m22.2 MB/s\u001b[0m eta \u001b[36m0:00:00\u001b[0m\n",
            "\u001b[?25hRequirement already satisfied: numpy>=1.17 in /usr/local/lib/python3.10/dist-packages (from datasets) (1.22.4)\n",
            "Requirement already satisfied: pyarrow>=8.0.0 in /usr/local/lib/python3.10/dist-packages (from datasets) (9.0.0)\n",
            "Collecting dill<0.3.7,>=0.3.0 (from datasets)\n",
            "  Downloading dill-0.3.6-py3-none-any.whl (110 kB)\n",
            "\u001b[2K     \u001b[90m━━━━━━━━━━━━━━━━━━━━━━━━━━━━━━━━━━━━━━\u001b[0m \u001b[32m110.5/110.5 kB\u001b[0m \u001b[31m10.9 MB/s\u001b[0m eta \u001b[36m0:00:00\u001b[0m\n",
            "\u001b[?25hRequirement already satisfied: pandas in /usr/local/lib/python3.10/dist-packages (from datasets) (1.5.3)\n",
            "Requirement already satisfied: requests>=2.19.0 in /usr/local/lib/python3.10/dist-packages (from datasets) (2.27.1)\n",
            "Requirement already satisfied: tqdm>=4.62.1 in /usr/local/lib/python3.10/dist-packages (from datasets) (4.65.0)\n",
            "Collecting xxhash (from datasets)\n",
            "  Downloading xxhash-3.2.0-cp310-cp310-manylinux_2_17_x86_64.manylinux2014_x86_64.whl (212 kB)\n",
            "\u001b[2K     \u001b[90m━━━━━━━━━━━━━━━━━━━━━━━━━━━━━━━━━━━━━━\u001b[0m \u001b[32m212.5/212.5 kB\u001b[0m \u001b[31m25.9 MB/s\u001b[0m eta \u001b[36m0:00:00\u001b[0m\n",
            "\u001b[?25hCollecting multiprocess (from datasets)\n",
            "  Downloading multiprocess-0.70.14-py310-none-any.whl (134 kB)\n",
            "\u001b[2K     \u001b[90m━━━━━━━━━━━━━━━━━━━━━━━━━━━━━━━━━━━━━━\u001b[0m \u001b[32m134.3/134.3 kB\u001b[0m \u001b[31m18.3 MB/s\u001b[0m eta \u001b[36m0:00:00\u001b[0m\n",
            "\u001b[?25hRequirement already satisfied: fsspec[http]>=2021.11.1 in /usr/local/lib/python3.10/dist-packages (from datasets) (2023.4.0)\n",
            "Collecting aiohttp (from datasets)\n",
            "  Downloading aiohttp-3.8.4-cp310-cp310-manylinux_2_17_x86_64.manylinux2014_x86_64.whl (1.0 MB)\n",
            "\u001b[2K     \u001b[90m━━━━━━━━━━━━━━━━━━━━━━━━━━━━━━━━━━━━━━━━\u001b[0m \u001b[32m1.0/1.0 MB\u001b[0m \u001b[31m62.3 MB/s\u001b[0m eta \u001b[36m0:00:00\u001b[0m\n",
            "\u001b[?25hCollecting huggingface-hub<1.0.0,>=0.11.0 (from datasets)\n",
            "  Downloading huggingface_hub-0.15.1-py3-none-any.whl (236 kB)\n",
            "\u001b[2K     \u001b[90m━━━━━━━━━━━━━━━━━━━━━━━━━━━━━━━━━━━━━━\u001b[0m \u001b[32m236.8/236.8 kB\u001b[0m \u001b[31m17.7 MB/s\u001b[0m eta \u001b[36m0:00:00\u001b[0m\n",
            "\u001b[?25hRequirement already satisfied: packaging in /usr/local/lib/python3.10/dist-packages (from datasets) (23.1)\n",
            "Requirement already satisfied: pyyaml>=5.1 in /usr/local/lib/python3.10/dist-packages (from datasets) (6.0)\n",
            "Requirement already satisfied: attrs>=17.3.0 in /usr/local/lib/python3.10/dist-packages (from aiohttp->datasets) (23.1.0)\n",
            "Requirement already satisfied: charset-normalizer<4.0,>=2.0 in /usr/local/lib/python3.10/dist-packages (from aiohttp->datasets) (2.0.12)\n",
            "Collecting multidict<7.0,>=4.5 (from aiohttp->datasets)\n",
            "  Downloading multidict-6.0.4-cp310-cp310-manylinux_2_17_x86_64.manylinux2014_x86_64.whl (114 kB)\n",
            "\u001b[2K     \u001b[90m━━━━━━━━━━━━━━━━━━━━━━━━━━━━━━━━━━━━━━\u001b[0m \u001b[32m114.5/114.5 kB\u001b[0m \u001b[31m13.6 MB/s\u001b[0m eta \u001b[36m0:00:00\u001b[0m\n",
            "\u001b[?25hCollecting async-timeout<5.0,>=4.0.0a3 (from aiohttp->datasets)\n",
            "  Downloading async_timeout-4.0.2-py3-none-any.whl (5.8 kB)\n",
            "Collecting yarl<2.0,>=1.0 (from aiohttp->datasets)\n",
            "  Downloading yarl-1.9.2-cp310-cp310-manylinux_2_17_x86_64.manylinux2014_x86_64.whl (268 kB)\n",
            "\u001b[2K     \u001b[90m━━━━━━━━━━━━━━━━━━━━━━━━━━━━━━━━━━━━━━\u001b[0m \u001b[32m268.8/268.8 kB\u001b[0m \u001b[31m31.8 MB/s\u001b[0m eta \u001b[36m0:00:00\u001b[0m\n",
            "\u001b[?25hCollecting frozenlist>=1.1.1 (from aiohttp->datasets)\n",
            "  Downloading frozenlist-1.3.3-cp310-cp310-manylinux_2_5_x86_64.manylinux1_x86_64.manylinux_2_17_x86_64.manylinux2014_x86_64.whl (149 kB)\n",
            "\u001b[2K     \u001b[90m━━━━━━━━━━━━━━━━━━━━━━━━━━━━━━━━━━━━━━\u001b[0m \u001b[32m149.6/149.6 kB\u001b[0m \u001b[31m19.1 MB/s\u001b[0m eta \u001b[36m0:00:00\u001b[0m\n",
            "\u001b[?25hCollecting aiosignal>=1.1.2 (from aiohttp->datasets)\n",
            "  Downloading aiosignal-1.3.1-py3-none-any.whl (7.6 kB)\n",
            "Requirement already satisfied: filelock in /usr/local/lib/python3.10/dist-packages (from huggingface-hub<1.0.0,>=0.11.0->datasets) (3.12.0)\n",
            "Requirement already satisfied: typing-extensions>=3.7.4.3 in /usr/local/lib/python3.10/dist-packages (from huggingface-hub<1.0.0,>=0.11.0->datasets) (4.5.0)\n",
            "Requirement already satisfied: urllib3<1.27,>=1.21.1 in /usr/local/lib/python3.10/dist-packages (from requests>=2.19.0->datasets) (1.26.15)\n",
            "Requirement already satisfied: certifi>=2017.4.17 in /usr/local/lib/python3.10/dist-packages (from requests>=2.19.0->datasets) (2022.12.7)\n",
            "Requirement already satisfied: idna<4,>=2.5 in /usr/local/lib/python3.10/dist-packages (from requests>=2.19.0->datasets) (3.4)\n",
            "Requirement already satisfied: python-dateutil>=2.8.1 in /usr/local/lib/python3.10/dist-packages (from pandas->datasets) (2.8.2)\n",
            "Requirement already satisfied: pytz>=2020.1 in /usr/local/lib/python3.10/dist-packages (from pandas->datasets) (2022.7.1)\n",
            "Requirement already satisfied: six>=1.5 in /usr/local/lib/python3.10/dist-packages (from python-dateutil>=2.8.1->pandas->datasets) (1.16.0)\n",
            "Installing collected packages: xxhash, multidict, frozenlist, dill, async-timeout, yarl, multiprocess, huggingface-hub, aiosignal, aiohttp, datasets\n",
            "Successfully installed aiohttp-3.8.4 aiosignal-1.3.1 async-timeout-4.0.2 datasets-2.13.0 dill-0.3.6 frozenlist-1.3.3 huggingface-hub-0.15.1 multidict-6.0.4 multiprocess-0.70.14 xxhash-3.2.0 yarl-1.9.2\n"
          ]
        }
      ],
      "source": [
        "!pip install datasets"
      ]
    },
    {
      "cell_type": "code",
      "source": [
        "import torchtext\n",
        "from google.colab import drive\n",
        "import numpy as np\n",
        "import torch\n",
        "import torch.nn as nn\n",
        "import torch.nn.functional as F\n",
        "from torch.autograd import Variable\n",
        "from torch.utils.data import Dataset, DataLoader\n",
        "import nltk\n",
        "from nltk.tokenize import word_tokenize\n",
        "from nltk.corpus import stopwords, opinion_lexicon\n",
        "from datasets import load_dataset\n",
        "import matplotlib.pyplot as plt\n",
        "from tqdm import tqdm\n",
        "import itertools\n",
        "import random\n",
        "import seaborn as sns\n",
        "import pandas as pd\n",
        "from matplotlib import transforms\n",
        "from sklearn.decomposition import PCA\n",
        "\n",
        "\n",
        "# print(torch.__version__)\n",
        "device = torch.device('cuda' if torch.cuda.is_available() else 'cpu')"
      ],
      "metadata": {
        "id": "O7zrSCSoJDKD"
      },
      "execution_count": 3,
      "outputs": []
    },
    {
      "cell_type": "code",
      "source": [
        "nltk.download('punkt')\n",
        "nltk.download('stopwords')\n",
        "nltk.download('opinion_lexicon')"
      ],
      "metadata": {
        "colab": {
          "base_uri": "https://localhost:8080/"
        },
        "id": "hk5HhJ_qJdEx",
        "outputId": "0e5996d3-1e11-408a-9572-b670c127b494"
      },
      "execution_count": 4,
      "outputs": [
        {
          "output_type": "stream",
          "name": "stderr",
          "text": [
            "[nltk_data] Downloading package punkt to /root/nltk_data...\n",
            "[nltk_data]   Unzipping tokenizers/punkt.zip.\n",
            "[nltk_data] Downloading package stopwords to /root/nltk_data...\n",
            "[nltk_data]   Unzipping corpora/stopwords.zip.\n",
            "[nltk_data] Downloading package opinion_lexicon to /root/nltk_data...\n",
            "[nltk_data]   Unzipping corpora/opinion_lexicon.zip.\n"
          ]
        },
        {
          "output_type": "execute_result",
          "data": {
            "text/plain": [
              "True"
            ]
          },
          "metadata": {},
          "execution_count": 4
        }
      ]
    },
    {
      "cell_type": "markdown",
      "source": [
        "Import GloVe-100 and load the GloVe embeddings as a python dictionary"
      ],
      "metadata": {
        "id": "2VKGPuCCNz_E"
      }
    },
    {
      "cell_type": "code",
      "source": [
        "glove_dimension = 100\n",
        "glove = torchtext.vocab.GloVe(name='6B', dim=glove_dimension)\n",
        "\n",
        "embeddings = {word: vector.numpy() for word, vector in zip(glove.itos, glove.vectors)}\n"
      ],
      "metadata": {
        "colab": {
          "base_uri": "https://localhost:8080/"
        },
        "id": "02M6YdO7I80c",
        "outputId": "d5be9b29-f820-41e7-895d-65a43c08a1da"
      },
      "execution_count": 5,
      "outputs": [
        {
          "output_type": "stream",
          "name": "stderr",
          "text": [
            ".vector_cache/glove.6B.zip: 862MB [03:31, 4.08MB/s]                           \n",
            "100%|█████████▉| 399999/400000 [00:17<00:00, 22704.55it/s]\n"
          ]
        }
      ]
    },
    {
      "cell_type": "code",
      "source": [
        "glove_itos = glove.itos\n",
        "glove_stoi = glove.stoi\n",
        "glove_vectors = glove.vectors"
      ],
      "metadata": {
        "id": "pjKI6zQ1eo1N"
      },
      "execution_count": 6,
      "outputs": []
    },
    {
      "cell_type": "code",
      "source": [
        "\"\"\"\n",
        "Compute embedding_matrix for hotflip first order taylor:\n",
        "https://www.kaggle.com/code/francoisdubois/build-a-word-embedding-with-glove-matrix\n",
        "\"\"\"\n",
        "DEFAULT_IGNORE_TOKENS = [\"@@NULL@@\", \".\", \",\", \";\", \"!\", \"?\", \"[MASK]\", \"[SEP]\", \"[CLS]\", '\"', '-']\n",
        "stop_words = set(stopwords.words('english'))\n",
        "opinion_words = set(opinion_lexicon.words())\n",
        "ignore_tokens = set(DEFAULT_IGNORE_TOKENS) | stop_words | opinion_words\n",
        "\n",
        "max_words = 100000 #\n",
        "embedding_matrix_list = []\n",
        "invalid_replacement_indices = []\n",
        "for word in glove_itos:\n",
        "  i = glove_stoi[word]\n",
        "  if word in ignore_tokens:\n",
        "    invalid_replacement_indices.append(i)\n",
        "  # if word.isnumeric():\n",
        "  #   invalid_replacement_indices.append(i)\n",
        "  if i < max_words:\n",
        "    embedding_vector = glove_vectors[i]\n",
        "    if embedding_vector is not None:\n",
        "      embedding_matrix_list.append(embedding_vector)\n",
        "  else:\n",
        "    break\n",
        "\n",
        "embedding_matrix = torch.stack(embedding_matrix_list)\n",
        "# print(embedding_matrix.size())\n",
        "# print(len(invalid_replacement_indices))"
      ],
      "metadata": {
        "id": "CYTkm1vFdfSp"
      },
      "execution_count": 7,
      "outputs": []
    },
    {
      "cell_type": "markdown",
      "source": [
        "Mount drive to save and load files"
      ],
      "metadata": {
        "id": "PaurYCplWwXR"
      }
    },
    {
      "cell_type": "code",
      "source": [
        "drive.mount('/content/gdrive')\n",
        "# glove_name = 'glove.6B.300d.txt'\n",
        "# glove_path = F\"/content/gdrive/My Drive/TU/NLP/{glove_name}\"\n"
      ],
      "metadata": {
        "colab": {
          "base_uri": "https://localhost:8080/"
        },
        "id": "D2Elvyi81t3Z",
        "outputId": "8add5349-dcc2-4ac9-9d8d-3c5ee5794e2c"
      },
      "execution_count": 8,
      "outputs": [
        {
          "output_type": "stream",
          "name": "stdout",
          "text": [
            "Mounted at /content/gdrive\n"
          ]
        }
      ]
    },
    {
      "cell_type": "markdown",
      "source": [
        "#Allocate datasets\n",
        "\n",
        "Split the original training set into 50,000 and 17,349 instances.\n",
        "The 50,000 will be the new training set.\n",
        "The 17,349 will be the hotflipped training set.\n",
        "Load the test set as normal.\n",
        "Load the validation set twice; one will be hotflipped."
      ],
      "metadata": {
        "id": "q_BqjI5QNu--"
      }
    },
    {
      "cell_type": "code",
      "source": [
        "dataset = load_dataset('glue', 'sst2')\n",
        "train_dataset = dataset['train']\n",
        "copy_train_dataset_original = train_dataset\n",
        "\n",
        "num_samples = len(copy_train_dataset_original)\n",
        "adv_fraction = (num_samples - 50000) / num_samples\n",
        "dataset_train_origadv = copy_train_dataset_original.train_test_split(test_size=adv_fraction, seed=42)\n",
        "\n",
        "train_orig_data = dataset_train_origadv['train']\n",
        "train_adv_data = dataset_train_origadv['test']\n",
        "test_data = dataset['test']\n",
        "val_orig_data = dataset['validation']\n",
        "val_adv_data = dataset['validation']\n",
        "\n",
        "print(f\"Number of total training instances: {len(copy_train_dataset_original)}\")\n",
        "print(f\"Number of total test instances: {len(test_data)}\")\n",
        "print(f'Number of original training instances: {len(train_orig_data)}')\n",
        "print(f'Number of adversarial training instances: {len(train_adv_data)}')\n",
        "print(f\"Number of total validation instances: {len(val_orig_data)}\")\n",
        "print(f\"Dataset features: {train_dataset.features}\")"
      ],
      "metadata": {
        "colab": {
          "base_uri": "https://localhost:8080/",
          "height": 316,
          "referenced_widgets": [
            "735b12cef3ea4ba9af5a26650b4f15bc",
            "164544cd27ae48d29cb1c42b1f8c9953",
            "b482915e5843456a91c132be6c3d62a2",
            "e92ab07f54354cc09a89e81086c12df1",
            "eaec44b93b934cd1803cf3036ad2dde5",
            "ec91a666b2b0492396d160e80d4cf60d",
            "6a188db819894821849884c4b0b7484b",
            "902e4741ff744daea9366717f86b2e9d",
            "d96127f28bf941e09e341dd9781e3f3f",
            "716849d4265f4642aea8d8a24bf4eba1",
            "016b5784ff4b42eea393a26818f0756a",
            "87333766c2114cbea9110551b9d5aad2",
            "e3f0e8bb377140419541790de3faa97b",
            "03e379f039194fa89866737987092987",
            "c79d8fe62e1c429a8801b27267b60241",
            "15614c3da3e54e9aa70ec82b062e0477",
            "eb3f540bfa62430a8e28abaeac50971c",
            "4c7a35d1b3ba49e8b06a82f689618261",
            "bb082587ee6a453cb2400451fa30f60e",
            "d7f6889d27d349ed9da5474acd59b7ce",
            "19d28c843767414bb8c8a91076db7232",
            "57d44023ceda4332897a6de515f4e741",
            "916d58c024a44b0eb021e5591f3261b2",
            "ff1f0dd208394dd08bdcb4a859424f6b",
            "b5894c968b314f6d93b67886d15960d6",
            "35502b5bc9634bb58b676ba613637446",
            "669d15af75b54aeaa3b9ba9bbe097a92",
            "d8bdf805d48542888e84bc93fdd4fbb4",
            "cfd33b4524e34de29952f0d39fc0dd8b",
            "45af31a799494c9e844d4a34ab1cb4bc",
            "10147e20540c432db40a328710294ec4",
            "5d6e50d57e7041bd8543da8d59095444",
            "9d4f45ac14f24affa2e122ac9dbe0d6b",
            "04c9a6588a5945d292d376ae6ec90220",
            "90ee44a9089f40a086f0a1aff8a0d610",
            "8b63cc1683ee4cc19f00ca562c2507a0",
            "48f954a9ee734a51b546082bd9a54317",
            "ad2b9e0b3d2a47f6a187017adf714f05",
            "8f35c176bd004bb3819f9ca32bf68bdd",
            "8fb39e0ee4de484db6209d2c4baf7f5e",
            "a687925629b74e1c9f6f4837a84db6fa",
            "6a9638cdabde4b5382b758df72e51556",
            "59b808b8f22a4e02977ff8184d69b22f",
            "121638233e59450b81526ecf2e55ce41",
            "b80fca60977046c2bb6d74051af1685b",
            "e9dddfe89517416fa88e3febd9de5c52",
            "0b6a6599f22f43b3b553aef069411ce7",
            "f1936d792be445b08c34a68b5094fd02",
            "63758c7f63934ecfa01a30815141fb82",
            "e021ba436bb349669f7765ca3770b46b",
            "9617aad004454674a45b8b3c611e23ce",
            "a590814e35b445ad8fee7eabe95f1eca",
            "60087ac9053d49ae93a4e909bec24a78",
            "e0002752c2eb439db0ce8ffd96e0d05f",
            "201bb900a4444d8d8f11c0ff7a6d7a83",
            "3c0d689d7c3f4b039850a66f8911f0ed",
            "45a5b3d2466749f58f7ed4891d608b54",
            "c7aec89033a346a082616eefc207b361",
            "d9bdf6d890f04a1794079f6d0ed2addd",
            "f8b1a04f889b4e9d9968f09daa9d323d",
            "daaf5826f6af4a8d8480bda550845672",
            "825a59ea3ca54946bc4a94b2988f0427",
            "abfbc637e98147bba0e8691f45f2ecaf",
            "5c555cd54b7145afa2979c60a910114a",
            "7485d5f23e944253a9b30e759b4c9cd1",
            "516df25364ce44e19dd460704df02124",
            "b2315ccf313f49389af3a88955678467",
            "a4bb5e23430c4aa487fa24813c5e9c1f",
            "916a7e0f06b043a2bd1595ef948c7620",
            "84269b6d58944b2689b52d3915be7c03",
            "b6c33374dca34983b6131ef3c13bb8e4",
            "058fced9b97247a7930d0498d23754b4",
            "a8d3ce879fb847d2a3783e43a98ac3b7",
            "ee299bcc83904a0d817f1610b10943bf",
            "aeb9d8ff59984526be9ccc2c34e64ecd",
            "e7512cebeea84261859f2b480c5594e0",
            "ce748f561dad441a9a4ce532768511c8",
            "2a6cc0b5dc734a0991e54fcab0bc097c",
            "0aa755d3ee414031a553ab0604332a21",
            "94b487ccee334a19b3af3a0dc37ef549",
            "e9c8e0a6e83844be87693df87c4f9a22",
            "c7f29113526548bd8ea29da030e0fc10",
            "80ee6644fee84e2a9e26224c0154ef78",
            "258399a5ef214132b8c34bd360d7d305",
            "ead4e24a5cf34df9ad3e84bc2735e540",
            "82f4f38ae51c468996083edc891f0d5b",
            "b39fcec4994e424c8002106e1e9c73ad",
            "338752565c604d07991904589ac062bb"
          ]
        },
        "id": "xkkNDjkwLKTo",
        "outputId": "bfe2a53f-63a0-4744-df8e-6baa13efb243"
      },
      "execution_count": 9,
      "outputs": [
        {
          "output_type": "display_data",
          "data": {
            "text/plain": [
              "Downloading builder script:   0%|          | 0.00/28.8k [00:00<?, ?B/s]"
            ],
            "application/vnd.jupyter.widget-view+json": {
              "version_major": 2,
              "version_minor": 0,
              "model_id": "735b12cef3ea4ba9af5a26650b4f15bc"
            }
          },
          "metadata": {}
        },
        {
          "output_type": "display_data",
          "data": {
            "text/plain": [
              "Downloading metadata:   0%|          | 0.00/28.7k [00:00<?, ?B/s]"
            ],
            "application/vnd.jupyter.widget-view+json": {
              "version_major": 2,
              "version_minor": 0,
              "model_id": "87333766c2114cbea9110551b9d5aad2"
            }
          },
          "metadata": {}
        },
        {
          "output_type": "display_data",
          "data": {
            "text/plain": [
              "Downloading readme:   0%|          | 0.00/27.9k [00:00<?, ?B/s]"
            ],
            "application/vnd.jupyter.widget-view+json": {
              "version_major": 2,
              "version_minor": 0,
              "model_id": "916d58c024a44b0eb021e5591f3261b2"
            }
          },
          "metadata": {}
        },
        {
          "output_type": "stream",
          "name": "stdout",
          "text": [
            "Downloading and preparing dataset glue/sst2 to /root/.cache/huggingface/datasets/glue/sst2/1.0.0/dacbe3125aa31d7f70367a07a8a9e72a5a0bfeb5fc42e75c9db75b96da6053ad...\n"
          ]
        },
        {
          "output_type": "display_data",
          "data": {
            "text/plain": [
              "Downloading data:   0%|          | 0.00/7.44M [00:00<?, ?B/s]"
            ],
            "application/vnd.jupyter.widget-view+json": {
              "version_major": 2,
              "version_minor": 0,
              "model_id": "04c9a6588a5945d292d376ae6ec90220"
            }
          },
          "metadata": {}
        },
        {
          "output_type": "display_data",
          "data": {
            "text/plain": [
              "Generating train split:   0%|          | 0/67349 [00:00<?, ? examples/s]"
            ],
            "application/vnd.jupyter.widget-view+json": {
              "version_major": 2,
              "version_minor": 0,
              "model_id": "b80fca60977046c2bb6d74051af1685b"
            }
          },
          "metadata": {}
        },
        {
          "output_type": "display_data",
          "data": {
            "text/plain": [
              "Generating validation split:   0%|          | 0/872 [00:00<?, ? examples/s]"
            ],
            "application/vnd.jupyter.widget-view+json": {
              "version_major": 2,
              "version_minor": 0,
              "model_id": "3c0d689d7c3f4b039850a66f8911f0ed"
            }
          },
          "metadata": {}
        },
        {
          "output_type": "display_data",
          "data": {
            "text/plain": [
              "Generating test split:   0%|          | 0/1821 [00:00<?, ? examples/s]"
            ],
            "application/vnd.jupyter.widget-view+json": {
              "version_major": 2,
              "version_minor": 0,
              "model_id": "b2315ccf313f49389af3a88955678467"
            }
          },
          "metadata": {}
        },
        {
          "output_type": "stream",
          "name": "stdout",
          "text": [
            "Dataset glue downloaded and prepared to /root/.cache/huggingface/datasets/glue/sst2/1.0.0/dacbe3125aa31d7f70367a07a8a9e72a5a0bfeb5fc42e75c9db75b96da6053ad. Subsequent calls will reuse this data.\n"
          ]
        },
        {
          "output_type": "display_data",
          "data": {
            "text/plain": [
              "  0%|          | 0/3 [00:00<?, ?it/s]"
            ],
            "application/vnd.jupyter.widget-view+json": {
              "version_major": 2,
              "version_minor": 0,
              "model_id": "2a6cc0b5dc734a0991e54fcab0bc097c"
            }
          },
          "metadata": {}
        },
        {
          "output_type": "stream",
          "name": "stdout",
          "text": [
            "Number of total training instances: 67349\n",
            "Number of total test instances: 1821\n",
            "Number of original training instances: 50000\n",
            "Number of adversarial training instances: 17349\n",
            "Number of total validation instances: 872\n",
            "Dataset features: {'sentence': Value(dtype='string', id=None), 'label': ClassLabel(names=['negative', 'positive'], id=None), 'idx': Value(dtype='int32', id=None)}\n"
          ]
        }
      ]
    },
    {
      "cell_type": "markdown",
      "source": [
        "Retrieve GloVE embeddings for each sentence by first tokenizing the sentence and then retrieving the GLoVE embeddings for each token and secondly summing the token embeddings vectors to get one sentence embeddings vector.\n",
        "\n",
        "From project description:\n",
        "> Embedding model: you should use the sum of all input embedding vectors to represent the input."
      ],
      "metadata": {
        "id": "MDW-ls-HhNUx"
      }
    },
    {
      "cell_type": "code",
      "source": [
        "class SentenceDataset(Dataset):\n",
        "    def __init__(self, dataset, embeddings, max_len):\n",
        "        self.sentences = dataset['sentence']\n",
        "        self.labels = dataset['label']\n",
        "        self.embeddings = embeddings\n",
        "        self.max_len = max_len\n",
        "\n",
        "    def __len__(self):\n",
        "        # returns number of sentences\n",
        "        return len(self.sentences)\n",
        "\n",
        "    def __getitem__(self, idx):\n",
        "        # loads and returns a sample from the dataset\n",
        "        sentence = self.sentences[idx]\n",
        "        label = self.labels[idx]\n",
        "        tokens = word_tokenize(sentence)\n",
        "        vector = tokens_to_embeddings(tokens, self.embeddings, self.max_len)\n",
        "        return vector, label\n",
        "\n",
        "def tokens_to_embeddings(tokens, embeddings, max_sequence_length):\n",
        "  embedded = []#torch.tensor(max_sequence_length, glove_dimension)\n",
        "  for token in tokens:\n",
        "    if token in embeddings:\n",
        "      vector = torch.from_numpy(embeddings[token])\n",
        "    else:\n",
        "      vector = torch.zeros(glove_dimension)\n",
        "    embedded.append(vector)\n",
        "    # print(len(embedded))\n",
        "  if len(embedded) < max_sequence_length:\n",
        "    padding = torch.zeros((max_sequence_length - len(embedded)), glove_dimension)\n",
        "    embedded.extend(padding)\n",
        "\n",
        "  return torch.stack(embedded)\n",
        "\n",
        "train_sentences = train_dataset['sentence']\n",
        "test_sentences = test_data['sentence']\n",
        "val_sentences = val_orig_data['sentence']\n",
        "\n",
        "max_len = max(max(len(word_tokenize(sentence)) for sentence in train_sentences),\n",
        "              max(len(word_tokenize(sentence)) for sentence in test_sentences),\n",
        "              max(len(word_tokenize(sentence)) for sentence in val_sentences))"
      ],
      "metadata": {
        "id": "yOO_v_ZX047f"
      },
      "execution_count": 10,
      "outputs": []
    },
    {
      "cell_type": "code",
      "source": [
        "def return_sentence(sentence, vectors):\n",
        "  output_sentence = []\n",
        "  for i in range(sentence.shape[0]):\n",
        "    distances = torch.norm(vectors - sentence[i], dim=1)\n",
        "    closest_index = torch.argmin(distances)\n",
        "    if closest_index == 269905:\n",
        "      break\n",
        "    tok = glove.itos[closest_index]\n",
        "    output_sentence.append(tok)\n",
        "\n",
        "  return output_sentence"
      ],
      "metadata": {
        "id": "UOzJhdmCCxVs"
      },
      "execution_count": 73,
      "outputs": []
    },
    {
      "cell_type": "markdown",
      "source": [
        "Process GloVe embeddings onto datasets"
      ],
      "metadata": {
        "id": "y1EQRJtnN9yE"
      }
    },
    {
      "cell_type": "code",
      "source": [
        "batch_size = 128\n",
        "\n",
        "# Create datasets from sentence data\n",
        "# train_dataset = SentenceDataset(train_sentences, train_labels, embeddings, max_len)\n",
        "# test_dataset = SentenceDataset(test_sentences, test_labels, embeddings, max_len)\n",
        "train_orig_dataset = SentenceDataset(train_orig_data, embeddings, max_len)\n",
        "train_adv_dataset = SentenceDataset(train_adv_data, embeddings, max_len)\n",
        "test_orig_dataset = SentenceDataset(test_data, embeddings, max_len)\n",
        "val_orig_dataset = SentenceDataset(val_orig_data, embeddings, max_len)\n",
        "val_adv_dataset = SentenceDataset(val_adv_data, embeddings, max_len)\n",
        "\n",
        "# Load datasets into DataLoader objects\n",
        "# train_loader = DataLoader(train_dataset, batch_size=batch_size, shuffle=True)\n",
        "# test_loader = DataLoader(test_dataset, batch_size=batch_size, shuffle=True)\n",
        "train_orig_loader = DataLoader(train_orig_dataset, batch_size=batch_size, shuffle=True)\n",
        "train_adv_loader = DataLoader(train_adv_dataset, batch_size=batch_size, shuffle=True)\n",
        "test_orig_loader = DataLoader(test_orig_dataset, batch_size=batch_size, shuffle=True)\n",
        "val_orig_loader = DataLoader(val_orig_dataset, batch_size=batch_size, shuffle=True)\n",
        "val_adv_loader = DataLoader(val_adv_dataset, batch_size=batch_size, shuffle=True)\n"
      ],
      "metadata": {
        "id": "y0ZnFwPsR9hx"
      },
      "execution_count": 11,
      "outputs": []
    },
    {
      "cell_type": "markdown",
      "source": [
        "#Model\n",
        "Define the Bi-RNN with a Soft-Attention module\n",
        "\n",
        "From project description:\n",
        "> RNN model with soft-attention: the input is represented by a weighted sum of hidden states from bi-directional RNN layer (on top of the embedding layer). The weights are the [soft-attention](https://jhui.github.io/2017/03/15/Soft-and-hard-attention/) [scores](https://towardsdatascience.com/attention-in-neural-networks-e66920838742)."
      ],
      "metadata": {
        "id": "kR-fmVqGOago"
      }
    },
    {
      "cell_type": "code",
      "source": [
        "# inspired by\n",
        "# https://github.com/chrisvdweth/ml-toolkit/blob/master/pytorch/models/text/classifier/rnn.py\n",
        "class DotProductAttention(nn.Module):\n",
        "    \"\"\"\n",
        "    Compute the dot products of the query with all values and apply a softmax function to obtain the weights on the values\n",
        "    \"\"\"\n",
        "    def __init__(self, hidden_dim):\n",
        "        super(DotProductAttention, self).__init__()\n",
        "        self.hidden_dim = hidden_dim\n",
        "\n",
        "        self.attn = nn.Linear(self.hidden_dim * 2, hidden_dim)\n",
        "        self.concat_linear = nn.Linear(self.hidden_dim * 2, self.hidden_dim)\n",
        "\n",
        "    def forward(self, rnn_outputs, final_hidden_state):\n",
        "        # rnn_output.shape:         (batch_size, seq_len, hidden_size)\n",
        "        # final_hidden_state.shape: (batch_size, hidden_size)\n",
        "        # NOTE: hidden_size may also reflect bidirectional hidden states (hidden_size = num_directions * hidden_dim)\n",
        "        batch_size, seq_len, _ = rnn_outputs.shape\n",
        "\n",
        "        attn_weights = torch.bmm(rnn_outputs, final_hidden_state.unsqueeze(2))\n",
        "\n",
        "        attn_weights = F.softmax(attn_weights.squeeze(2), dim=1)\n",
        "\n",
        "        context = torch.bmm(rnn_outputs.transpose(1, 2), attn_weights.unsqueeze(2)).squeeze(2)\n",
        "\n",
        "        attn_hidden = torch.tanh(self.concat_linear(torch.cat((context, final_hidden_state), dim=1)))\n",
        "\n",
        "        return attn_hidden, attn_weights\n",
        "\n",
        "class BiRNN(nn.Module):\n",
        "    def __init__(self, input_dim, hidden_dim, output_dim, n_layers):\n",
        "        super(BiRNN, self).__init__()\n",
        "        self.hidden_dim = hidden_dim\n",
        "        self.n_layers = n_layers\n",
        "        self.rnn = nn.LSTM(input_dim, hidden_dim, n_layers, batch_first=True, bidirectional=True)\n",
        "        self.attn = DotProductAttention(hidden_dim*2)\n",
        "        self.fc = nn.Linear(hidden_dim * 2, output_dim)\n",
        "\n",
        "        self.output_attentions = False\n",
        "\n",
        "    def forward(self, x):\n",
        "        h0 = torch.zeros(self.n_layers*2, x.size(0), self.hidden_dim).to(device)\n",
        "        c0 = torch.zeros(self.n_layers*2, x.size(0), self.hidden_dim).to(device)\n",
        "\n",
        "        batch_size, seq_len, embedding_size = x.shape #[batch_size, seq_len, embedding_size][32, 53, 300]\n",
        "\n",
        "        out, (hn, cn) = self.rnn(x, (h0, c0))\n",
        "        final_state = hn.view(self.n_layers, 2, batch_size, self.hidden_dim)[-1]\n",
        "        h_1, h_2 = final_state[0], final_state[1]\n",
        "        final_hidden_state = torch.cat((h_1, h_2), -1)\n",
        "\n",
        "        attn_weights = None\n",
        "        X, attn_weights = self.attn(out, final_hidden_state)\n",
        "\n",
        "        X = self.fc(X)\n",
        "        # probs = nn.functional.softmax()\n",
        "        if self.output_attentions:\n",
        "          return X, attn_weights\n",
        "        else:\n",
        "          return X\n",
        "\n",
        "    def set_output_attention(self, output_attentions):\n",
        "      self.output_attentions = output_attentions"
      ],
      "metadata": {
        "id": "0IQF-nD_W2Ko"
      },
      "execution_count": 12,
      "outputs": []
    },
    {
      "cell_type": "markdown",
      "source": [
        "## Train and test the model\n",
        "First define the training loop and then set the training variables\n",
        "Train on original test data first."
      ],
      "metadata": {
        "id": "gevvfhZXb8uD"
      }
    },
    {
      "cell_type": "code",
      "source": [
        "def train(model, loader, optimizer, criterion, num_epochs):\n",
        "\n",
        "  avg_loss = 0\n",
        "  correct = 0\n",
        "  total = 0\n",
        "\n",
        "  losses = []\n",
        "\n",
        "  model.train()\n",
        "\n",
        "  for epoch in range(num_epochs):\n",
        "    print(f'Epoch: {epoch}')\n",
        "    avg_loss = 0\n",
        "    correct = 0\n",
        "    total = 0\n",
        "\n",
        "    for batch_idx, (data, targets) in enumerate(loader):\n",
        "        data = data.to(device=device).float()\n",
        "        targets = targets.to(device=device).long()\n",
        "\n",
        "        scores = model(data)\n",
        "        loss = criterion(scores, targets)\n",
        "\n",
        "        optimizer.zero_grad()\n",
        "        loss.backward()\n",
        "\n",
        "        optimizer.step()\n",
        "\n",
        "        # Keep track of loss and accuracy\n",
        "        avg_loss += loss.item()\n",
        "        _, predicted = torch.max(scores, 1)\n",
        "        total += targets.size(0)\n",
        "        correct += (predicted == targets).sum().item()\n",
        "\n",
        "    train_loss = avg_loss/len(loader)\n",
        "    losses.append(train_loss)\n",
        "    accuracy = correct/total\n",
        "\n",
        "\n",
        "\n",
        "  return losses, accuracy"
      ],
      "metadata": {
        "id": "392tZf6lOLLH"
      },
      "execution_count": 22,
      "outputs": []
    },
    {
      "cell_type": "code",
      "source": [
        "model = BiRNN(glove_dimension, 128, 2, 1)\n",
        "model = model.to(device)\n",
        "\n",
        "learning_rate = 0.001\n",
        "num_epochs = 15\n",
        "\n",
        "criterion = nn.CrossEntropyLoss()\n",
        "optimizer = torch.optim.Adam(model.parameters(), lr=learning_rate)\n",
        "\n",
        "losses, accuracy = train(model, train_orig_loader, optimizer, criterion, num_epochs)"
      ],
      "metadata": {
        "colab": {
          "base_uri": "https://localhost:8080/"
        },
        "id": "Kt6p7voJcQ-1",
        "outputId": "a6f9b830-e388-4d72-9297-e25d7ce69580"
      },
      "execution_count": 57,
      "outputs": [
        {
          "output_type": "stream",
          "name": "stdout",
          "text": [
            "Epoch: 0\n",
            "Epoch: 1\n",
            "Epoch: 2\n",
            "Epoch: 3\n",
            "Epoch: 4\n",
            "Epoch: 5\n",
            "Epoch: 6\n",
            "Epoch: 7\n",
            "Epoch: 8\n",
            "Epoch: 9\n",
            "Epoch: 10\n",
            "Epoch: 11\n",
            "Epoch: 12\n",
            "Epoch: 13\n",
            "Epoch: 14\n"
          ]
        }
      ]
    },
    {
      "cell_type": "markdown",
      "source": [
        "Accuracy test function that computes correct prediction percentage over all samples."
      ],
      "metadata": {
        "id": "5Ca4B7ZPLHSf"
      }
    },
    {
      "cell_type": "code",
      "source": [
        "def check_accuracy(loader, model):\n",
        "    num_correct = 0\n",
        "    num_samples = 0\n",
        "    model.eval()\n",
        "\n",
        "    with torch.no_grad():\n",
        "        for x, y in loader:\n",
        "            x = x.to(device=device).float()\n",
        "            y = y.to(device=device).long()\n",
        "\n",
        "            scores = model(x)\n",
        "            _, predictions = scores.max(1)\n",
        "            num_correct += (predictions == y).sum()\n",
        "            num_samples += predictions.size(0)\n",
        "\n",
        "    return num_correct/num_samples\n",
        "\n",
        "# print(f'Accuracy on test data: {check_accuracy(test_loader, model)*100:.2f}')\n"
      ],
      "metadata": {
        "id": "o3AsYPft37YP"
      },
      "execution_count": 25,
      "outputs": []
    },
    {
      "cell_type": "code",
      "source": [
        "print(f'Accuracy on test data: {check_accuracy(test_orig_loader, model)*100:.2f}')\n",
        "print(f'Accuracy on original validation data: {check_accuracy(val_orig_loader, model)*100:.2f}')\n",
        "print(accuracy)\n",
        "print(model)"
      ],
      "metadata": {
        "colab": {
          "base_uri": "https://localhost:8080/"
        },
        "id": "z3hL0A0cdTsi",
        "outputId": "b45900e9-4af7-4aa4-fe40-721d85a99f33"
      },
      "execution_count": 58,
      "outputs": [
        {
          "output_type": "stream",
          "name": "stdout",
          "text": [
            "Accuracy on test data: 0.00\n",
            "Accuracy on original validation data: 80.28\n",
            "0.97982\n",
            "BiRNN(\n",
            "  (rnn): LSTM(100, 128, batch_first=True, bidirectional=True)\n",
            "  (attn): DotProductAttention(\n",
            "    (attn): Linear(in_features=512, out_features=256, bias=True)\n",
            "    (concat_linear): Linear(in_features=512, out_features=256, bias=True)\n",
            "  )\n",
            "  (fc): Linear(in_features=256, out_features=2, bias=True)\n",
            ")\n"
          ]
        }
      ]
    },
    {
      "cell_type": "code",
      "source": [
        "plt.plot(np.linspace(0, len(losses), len(losses)), losses)"
      ],
      "metadata": {
        "colab": {
          "base_uri": "https://localhost:8080/",
          "height": 447
        },
        "id": "sf_QeCQHeB1o",
        "outputId": "a4dfe6dc-6cea-4bfb-865e-97b38b065813"
      },
      "execution_count": null,
      "outputs": [
        {
          "output_type": "execute_result",
          "data": {
            "text/plain": [
              "[<matplotlib.lines.Line2D at 0x7f5722fa1720>]"
            ]
          },
          "metadata": {},
          "execution_count": 15
        },
        {
          "output_type": "display_data",
          "data": {
            "text/plain": [
              "<Figure size 640x480 with 1 Axes>"
            ],
            "image/png": "[encoded data removed]"
          },
          "metadata": {}
        }
      ]
    },
    {
      "cell_type": "markdown",
      "source": [
        "Save trained model weights\n",
        "\n",
        "> From: [Link](https://colab.research.google.com/drive/1CN7JxLA_Qk1Clc4CM75rSAqIlUKIF8xZ#scrollTo=0bLRwiCEEkms)\n",
        "\n"
      ],
      "metadata": {
        "id": "LWCKVDMAblYZ"
      }
    },
    {
      "cell_type": "code",
      "source": [
        "model_save_name = f'soft_att_orig_{glove_dimension}d.pt'\n",
        "path = F\"/content/gdrive/My Drive/TU/NLP/{model_save_name}\"\n",
        "# torch.save(model.state_dict(), path)"
      ],
      "metadata": {
        "id": "gZWi1k1e95t7"
      },
      "execution_count": null,
      "outputs": []
    },
    {
      "cell_type": "markdown",
      "source": [
        "## Load pre-trained model"
      ],
      "metadata": {
        "id": "RL0GgrlP9rwQ"
      }
    },
    {
      "cell_type": "markdown",
      "source": [
        "If the model has been trained before we can load the saved training weights from the pickle"
      ],
      "metadata": {
        "id": "JixJkK2ST11V"
      }
    },
    {
      "cell_type": "code",
      "source": [
        "model_name = f'soft_att_adv_{glove_dimension}d.pt'\n",
        "path = F\"/content/gdrive/My Drive/TU/NLP/{model_name}\""
      ],
      "metadata": {
        "id": "5jpJcFLbb0Q7"
      },
      "execution_count": 13,
      "outputs": []
    },
    {
      "cell_type": "code",
      "source": [
        "model = BiRNN(glove_dimension, 128, 2, 1)\n",
        "model.load_state_dict(torch.load(path, map_location=torch.device('cpu')))\n",
        "model.set_output_attention(True) # Set this if you want the model to return attention weights\n",
        "model.eval() # Set this to either train or eval\n",
        "model = model.to(device)"
      ],
      "metadata": {
        "id": "-V0m6RFw-fkU"
      },
      "execution_count": 15,
      "outputs": []
    },
    {
      "cell_type": "markdown",
      "source": [
        "#Hot Flip implementation\n",
        "Either compute adversarial from k-Nearest Neighbours or First Order Taylor over all possible tokens\n",
        "\n",
        "Inspired by:\n",
        "*   GPT Boilerplate\n",
        "*   [AllanNLP](https://github.com/allenai/allennlp/blob/main/allennlp/interpret/attackers/hotflip.py#L4)\n",
        "*   [WordAdver](https://github.com/AnyiRao/WordAdver/blob/master/add_one_word.py)\n",
        "\n"
      ],
      "metadata": {
        "id": "5wVuggFKcx9H"
      }
    },
    {
      "cell_type": "code",
      "source": [
        "DEFAULT_IGNORE_TOKENS = [\"@@NULL@@\", \".\", \",\", \";\", \"!\", \"?\", \"[MASK]\", \"[SEP]\", \"[CLS]\", '\"', '-']\n",
        "stop_words = set(stopwords.words('english'))\n",
        "opinion_words = set(opinion_lexicon.words())\n",
        "ignore_tokens = set(DEFAULT_IGNORE_TOKENS) | stop_words | opinion_words\n",
        "\n",
        "class HotFlipAdversary:\n",
        "  def __init__(self, model, vocab, ignore_tokens, embedding_matrix = None, invalid_replacement_indices = []): # loader\n",
        "    self.model = model\n",
        "    # self.loader = loader\n",
        "    self.embeddings = vocab\n",
        "    self.ignore_tokens = ignore_tokens\n",
        "    self.embedding_matrix = embedding_matrix.to(device=device)\n",
        "    self.invalid_replacement_indices = invalid_replacement_indices\n",
        "\n",
        "  def hotflip_attack(self, input_sentence, input_ids, true_label) -> tuple[list[str], torch.Tensor, int]:\n",
        "    \"\"\"\n",
        "    Performs the hotflip attack by calculating the gradient of the loss with respect to the input,\n",
        "    and then flipping the word that would cause the greatest increase in the loss.\n",
        "\n",
        "    :param model: The model to attack.\n",
        "    :param input_ids: The input to the model, which will be attacked.\n",
        "    :param true_label: The true label of the input.\n",
        "    :return: The adversarial example.\n",
        "    \"\"\"\n",
        "\n",
        "    sentence_length = len(word_tokenize(input_sentence))\n",
        "\n",
        "    # Create tensors\n",
        "    # input_ids = torch.from_numpy(input_ids)\n",
        "    true_label = torch.tensor([true_label])\n",
        "\n",
        "    # We want to compute gradients with respect to input, so we need to set requires_grad\n",
        "    input_ids = input_ids.to(device=device).float()\n",
        "    true_label = true_label.to(device=device).long()\n",
        "    input_ids = input_ids.unsqueeze(0) # Create batch of size 1\n",
        "    input_ids.requires_grad = True\n",
        "    input_ids.retain_grad()\n",
        "\n",
        "    # Forward pass\n",
        "    outputs = model(input_ids)\n",
        "    initial_pred = outputs.argmax(dim=1)[0]\n",
        "\n",
        "    # Calculate the loss\n",
        "    loss = F.cross_entropy(outputs, true_label)\n",
        "\n",
        "    # Calculate gradients\n",
        "    loss.backward()\n",
        "\n",
        "    # Get gradient for input\n",
        "    grads = input_ids.grad # ([1, 53, 300])\n",
        "    grads = grads.squeeze(0) # ([53, 300])\n",
        "    grads = grads[:sentence_length, :] # ([sentence_length, 300])\n",
        "\n",
        "    flipped = []\n",
        "    tokenized_input = word_tokenize(input_sentence)\n",
        "    for index, token in enumerate(tokenized_input):\n",
        "      if token in ignore_tokens:\n",
        "        flipped.append(index)\n",
        "\n",
        "    grads_magnitude = torch.einsum('ij,ij->i', grads, grads) # ([53])\n",
        "\n",
        "    # only flip a token once\n",
        "    for index in flipped:\n",
        "      grads_magnitude[index] = -1\n",
        "\n",
        "    if torch.max(grads_magnitude) == -1:\n",
        "      return tokenized_input, -1\n",
        "\n",
        "    # We flip the token with highest gradient norm.\n",
        "    index_of_token_to_flip = torch.argmax(grads_magnitude)\n",
        "    flipped.append(index_of_token_to_flip)\n",
        "\n",
        "    new_token, new_id = \"the\", 0\n",
        "    new_token, new_id = self.first_order_taylor_matrix(grads[index_of_token_to_flip], tokenized_input[index_of_token_to_flip])\n",
        "\n",
        "    prev_token = tokenized_input[index_of_token_to_flip] # .item()\n",
        "    new_grads = torch.clone(input_ids[0])\n",
        "\n",
        "    new_grads[index_of_token_to_flip] = tokens_to_embeddings([new_token], self.embeddings, max_len)[0] # torch.from_numpy(embeddings[new_token])\n",
        "    new_outputs = model(new_grads.unsqueeze(0))\n",
        "    new_pred = new_outputs.argmax(dim=1)[0]\n",
        "\n",
        "    # Set the word in the input to be the adversarial word\n",
        "    adversarial_sentence = tokenized_input.copy()\n",
        "    adversarial_sentence[index_of_token_to_flip] = new_token\n",
        "\n",
        "    print(adversarial_sentence)\n",
        "    print(new_token, new_id)\n",
        "    print(index_of_token_to_flip)\n",
        "    return (adversarial_sentence, index_of_token_to_flip, new_id)\n",
        "\n",
        "  # Create adversarial sentences from dataset\n",
        "  def simple_hotflip_data_generator(self, dataset, pbar = None):\n",
        "    self.model.train()\n",
        "\n",
        "    adversarial_examples = []\n",
        "    labels = []\n",
        "    all_positions = []\n",
        "    all_new_positions = []\n",
        "\n",
        "    i = 0\n",
        "\n",
        "    for instance in dataset:\n",
        "      pbar.update(1)\n",
        "      i = i + 1\n",
        "      if i > 200:\n",
        "        break\n",
        "      input_sentence = instance['sentence']\n",
        "      input_ids = tokens_to_embeddings(word_tokenize(input_sentence), self.embeddings, max_len)\n",
        "      input_ids = input_ids.to(device=device).float()\n",
        "      input_label = instance['label']\n",
        "\n",
        "      adv_sentence, position, new_position = self.hotflip_attack(input_sentence, input_ids, input_label)\n",
        "      adversarial_examples.append(adv_sentence)\n",
        "      labels.append(input_label)\n",
        "      all_positions.append(position)\n",
        "      all_new_positions.append(new_position)\n",
        "\n",
        "    pbar.update(1)\n",
        "\n",
        "    return adversarial_examples, labels, all_positions, all_new_positions\n",
        "\n",
        "\n",
        "  def first_order_taylor(self, grad, token):\n",
        "    \"\"\"\n",
        "    Replaces the current token with another token to increase the loss.\n",
        "    \"\"\"\n",
        "    word_embedding = tokens_to_embeddings([token], self.embeddings, max_len)[0].to(device=device) # torch.from_numpy(self.embeddings[token]).to(device=device)\n",
        "    # f(x + delta) = f(x) + f'(x) * delta\n",
        "    # delta: v - x -> difference in embeddings -> for adv_token in embeddings: delta = embeddings[x_token] - embeddings[adv_token]  ([100])\n",
        "    max_delta, adv = max(((-1 * (word_embedding - torch.from_numpy(embeddings[adv_token]).to(device=device)).dot(grad)).detach().cpu(), adv_token) for adv_token in embeddings if adv_token not in ignore_tokens)\n",
        "\n",
        "    return adv\n",
        "    # f'(x): gradient of that specific token based on the input grad_x = grad[x_id]  ([100])\n",
        "    #grad\n",
        "    # f(x): is prediction of original thus dimensions shouldn't matter for computation\n",
        "\n",
        "  def first_order_taylor_matrix(self, grad, token):\n",
        "    word_embedding = tokens_to_embeddings([token], self.embeddings, max_len)[0].to(device=device)\n",
        "    word_embedding = word_embedding.detach().unsqueeze(0).unsqueeze(0)\n",
        "    grad = grad.unsqueeze(0).unsqueeze(0).to(device=device)\n",
        "\n",
        "    # solves equation (3) here https://arxiv.org/abs/1903.06620\n",
        "    new_embed_dot_grad = torch.einsum(\"bij,kj->bik\", (grad, self.embedding_matrix))\n",
        "    prev_embed_dot_grad = torch.einsum(\"bij,bij->bi\", (grad, word_embedding)).unsqueeze(-1)\n",
        "    neg_dir_dot_grad = -1 * (prev_embed_dot_grad - new_embed_dot_grad)\n",
        "    neg_dir_dot_grad = neg_dir_dot_grad.detach().cpu().numpy()\n",
        "    # Do not replace with non-alphanumeric tokens\n",
        "    neg_dir_dot_grad[:, :, self.invalid_replacement_indices] = -np.inf\n",
        "    best_at_each_step = neg_dir_dot_grad.argmax(2)\n",
        "    return glove_itos[best_at_each_step[0].data[0]], best_at_each_step[0].data[0]\n"
      ],
      "metadata": {
        "id": "5XDqxvY8c0-_"
      },
      "execution_count": 45,
      "outputs": []
    },
    {
      "cell_type": "code",
      "source": [
        "class AdvSentenceDataset(Dataset):\n",
        "    def __init__(self, token_sequences, labels, embeddings, max_len):\n",
        "        self.sentences = token_sequences\n",
        "        self.labels = labels\n",
        "        self.embeddings = embeddings\n",
        "        self.max_len = max_len\n",
        "\n",
        "    def __len__(self):\n",
        "        # returns number of sentences\n",
        "        return len(self.sentences)\n",
        "\n",
        "    def __getitem__(self, idx):\n",
        "        # loads and returns a sample from the dataset\n",
        "        tokens = self.sentences[idx]\n",
        "        label = self.labels[idx]\n",
        "        vector = tokens_to_embeddings(tokens, self.embeddings, self.max_len)\n",
        "        return vector, label"
      ],
      "metadata": {
        "id": "p6K549Px1NP2"
      },
      "execution_count": 41,
      "outputs": []
    },
    {
      "cell_type": "markdown",
      "source": [
        "Create the adversarial datasets"
      ],
      "metadata": {
        "id": "Jvqrmszc7cn3"
      }
    },
    {
      "cell_type": "code",
      "source": [
        "adversarial = HotFlipAdversary(model, embeddings, ignore_tokens, embedding_matrix, invalid_replacement_indices)\n",
        "pbar = tqdm(total=train_adv_data.num_rows, desc=\"Creating adversarial training dataset...\")\n",
        "adversarial_examples_train, labels_train, pos_train = adversarial.simple_hotflip_data_generator(train_adv_data, pbar)\n",
        "# pbar2 = tqdm(total=val_adv_data.num_rows, desc=\"Creating adversarial validation dataset...\")\n",
        "# adversarial_examples_val, labels_val, pos_val = adversarial.simple_hotflip_data_generator(val_adv_data, pbar2)\n",
        "\n",
        "train_adv_dataset = AdvSentenceDataset(adversarial_examples_train, labels_train, embeddings, max_len)\n",
        "# val_adv_dataset = AdvSentenceDataset(adversarial_examples_val, labels_val, embeddings, max_len)\n",
        "\n",
        "# Load datasets into DataLoader objects\n",
        "train_adv_loader = DataLoader(train_adv_dataset, batch_size=batch_size, shuffle=True)\n",
        "# val_adv_loader = DataLoader(val_adv_dataset, batch_size=batch_size, shuffle=True)"
      ],
      "metadata": {
        "id": "b_QNW8UgERKA",
        "colab": {
          "base_uri": "https://localhost:8080/"
        },
        "outputId": "23e1efee-b8b8-4821-d897-2b03f1db01b0"
      },
      "execution_count": null,
      "outputs": [
        {
          "output_type": "stream",
          "name": "stderr",
          "text": [
            "Creating adversarial training dataset...: 17350it [05:12, 62.05it/s]                           "
          ]
        }
      ]
    },
    {
      "cell_type": "markdown",
      "source": [
        "Test with the new token ids"
      ],
      "metadata": {
        "id": "ZLkcUUZr7f0o"
      }
    },
    {
      "cell_type": "code",
      "source": [
        "adversarial2 = HotFlipAdversary(model, embeddings, ignore_tokens, embedding_matrix, invalid_replacement_indices)\n",
        "pbar3 = tqdm(total=val_adv_data.num_rows, desc=\"Creating adversarial validation dataset...\")\n",
        "adversarial_examples_val2, labels_val2, pos_val2, new_pos_val2 = adversarial2.simple_hotflip_data_generator(val_adv_data, pbar3)"
      ],
      "metadata": {
        "colab": {
          "base_uri": "https://localhost:8080/"
        },
        "id": "IC01yHp27iia",
        "outputId": "7957aa33-0260-4e76-dacd-8f69a158c03c"
      },
      "execution_count": 46,
      "outputs": [
        {
          "output_type": "stream",
          "name": "stderr",
          "text": [
            "\n",
            "Creating adversarial validation dataset...:   0%|          | 0/872 [00:00<?, ?it/s]\u001b[A\n",
            "Creating adversarial validation dataset...:   1%|▏         | 12/872 [00:00<00:07, 117.37it/s]\u001b[A\n"
          ]
        },
        {
          "output_type": "stream",
          "name": "stdout",
          "text": [
            "['it', 'urbe', 'a', 'charming', 'and', 'often', 'affecting', 'journey', '.']\n",
            "urbe 71844\n",
            "tensor(1, device='cuda:0')\n",
            "['non-families', 'bleak', 'and', 'desperate']\n",
            "non-families 8881\n",
            "tensor(0, device='cuda:0')\n",
            "['gmt', 'us', 'to', 'hope', 'that', 'nolan', 'is', 'poised', 'to', 'embark', 'a', 'major', 'career', 'as', 'a', 'commercial', 'yet', 'inventive', 'filmmaker', '.']\n",
            "gmt 1771\n",
            "tensor(0, device='cuda:0')\n",
            "['the', 'http://www.nytimes.com', ',', 'costumes', ',', 'music', ',', 'cinematography', 'and', 'sound', 'are', 'all', 'astounding', 'given', 'the', 'production', \"'s\", 'austere', 'locales', '.']\n",
            "http://www.nytimes.com 31076\n",
            "tensor(1, device='cuda:0')\n",
            "['it', 'rabbi', 'slow', '--', 'very', ',', 'very', 'slow', '.']\n",
            "rabbi 7005\n",
            "tensor(1, device='cuda:0')\n",
            "['although', 'hohenstaufen', 'with', 'humor', 'and', 'a', 'few', 'fanciful', 'touches', ',', 'the', 'film', 'is', 'a', 'refreshingly', 'serious', 'look', 'at', 'young', 'women', '.']\n",
            "hohenstaufen 83889\n",
            "tensor(1, device='cuda:0')\n",
            "['a', '(813)', 'tedious', 'film', '.']\n",
            "(813) 40613\n",
            "tensor(1, device='cuda:0')\n",
            "['or', 'doing', 'last', 'year', \"'s\", 'nonsubscribers', 'with', 'your', 'ex-wife', '.']\n",
            "nonsubscribers 27316\n",
            "tensor(5, device='cuda:0')\n",
            "['you', 'do', 'urbe', 'have', 'to', 'know', 'about', 'music', 'to', 'appreciate', 'the', 'film', \"'s\", 'easygoing', 'blend', 'of', 'comedy', 'and', 'romance', '.']\n",
            "urbe 71844\n",
            "tensor(2, device='cuda:0')\n",
            "['in', 'said', '89', 'minutes', ',', 'most', 'of', 'which', 'passed', 'as', 'slowly', 'as', 'if', 'i', \"'d\", 'been', 'sitting', 'naked', 'on', 'an', 'igloo', ',', 'formula', '51', 'sank', 'from', 'quirky', 'to', 'jerky', 'to', 'utter', 'turkey', '.']\n",
            "said 16\n",
            "tensor(1, device='cuda:0')\n",
            "['the', 'mesmerizing', 'nonsubscribers', 'of', 'the', 'leads', 'keep', 'the', 'film', 'grounded', 'and', 'keep', 'the', 'audience', 'riveted', '.']\n",
            "nonsubscribers 27316\n",
            "tensor(2, device='cuda:0')\n",
            "['it', 'takes', 'a', 'strange', 'kind', 'of', 'laziness', 'to', 'waste', 'the', 'talents', 'of', 'robert', 'forster', ',', 'anne', 'baronetage', ',', 'eugene', 'levy', ',', 'and', 'reginald', 'veljohnson', 'all', 'in', 'the', 'same', 'movie', '.']\n",
            "baronetage 35396\n",
            "tensor(16, device='cuda:0')\n",
            "['nonsubscribers', 'the', 'film', 'suffers', 'from', 'a', 'lack', 'of', 'humor', '(', 'something', 'needed', 'to', 'balance', 'out', 'the', 'violence', ')', '...']\n",
            "nonsubscribers 27316\n",
            "tensor(0, device='cuda:0')\n",
            "['we', 'root', 'for', '(', 'clara', 'and', 'paul', ')', ',', 'even', 'like', 'them', ',', 'though', 'perhaps', 'it', \"'s\", 'an', 'reduced-price', 'closer', 'to', 'pity', '.']\n",
            "reduced-price 60777\n",
            "tensor(18, device='cuda:0')\n",
            "['firebrand', 'horror', 'fans', 'will', 'most', 'likely', 'not', 'find', 'what', 'they', \"'re\", 'seeking', 'with', 'trouble', 'every', 'day', ';', 'the', 'movie', 'lacks', 'both', 'thrills', 'and', 'humor', '.']\n",
            "firebrand 24974\n",
            "tensor(0, device='cuda:0')\n",
            "['a', 'gorgeous', ',', 'high-spirited', 'mediating', 'from', 'india', 'that', 'exquisitely', 'blends', 'music', ',', 'dance', ',', 'song', ',', 'and', 'high', 'drama', '.']\n",
            "mediating 22050\n",
            "tensor(4, device='cuda:0')\n",
            "['the', 'emotions', 'are', 'bolivars', 'and', 'will', 'strike', 'a', 'nerve', 'with', 'anyone', 'who', \"'s\", 'ever', 'had', 'family', 'trauma', '.']\n",
            "bolivars 21662\n",
            "tensor(3, device='cuda:0')\n",
            "['audrey', 'tatou', 'has', 'a', 'reduced-price', 'for', 'picking', 'roles', 'that', 'magnify', 'her', 'outrageous', 'charm', ',', 'and', 'in', 'this', 'literate', 'french', 'comedy', ',', 'she', \"'s\", 'as', 'morning-glory', 'exuberant', 'as', 'she', 'was', 'in', 'amélie', '.']\n",
            "reduced-price 60777\n",
            "tensor(4, device='cuda:0')\n",
            "['...', 'the', 'movie', 'is', 'just', 'a', 'nonsubscribers', 'old', 'monster', '.']\n",
            "nonsubscribers 27316\n",
            "tensor(6, device='cuda:0')\n",
            "['in', 'its', 'best', 'moments', ',', 'resembles', 'a', 'bad', 'high', 'school', 'production', 'of', 'grease', ',', 'festival', 'benefit', 'of', 'song', '.']\n",
            "festival 1427\n",
            "tensor(14, device='cuda:0')\n",
            "['flavors', 'takes', 'an', 'admirable', 'look', 'at', 'the', 'hypocrisy', 'of', 'political', 'correctness', ',', 'but', 'it', 'does', 'so', 'with', 'such', 'an', 'uneven', 'tone', 'that', 'you', 'never', 'know', 'when', 'humor', 'ends', 'and', 'tragedy', 'begins', '.']\n",
            "flavors 12675\n",
            "tensor(0, device='cuda:0')\n",
            "['the', 'non-families', 'lasts', 'for', 'days', '-', 'this', 'just', 'felt', 'like', 'it', 'did', '.']\n",
            "non-families 8881\n",
            "tensor(1, device='cuda:0')\n",
            "['ventas', 'caulfield', 'did', 'it', 'better', '.']\n",
            "ventas 48700\n",
            "tensor(0, device='cuda:0')\n"
          ]
        },
        {
          "output_type": "stream",
          "name": "stderr",
          "text": [
            "Creating adversarial validation dataset...:   3%|▎         | 24/872 [00:00<00:07, 110.42it/s]\u001b[A\n",
            "Creating adversarial validation dataset...:   4%|▍         | 36/872 [00:00<00:07, 109.89it/s]\u001b[A"
          ]
        },
        {
          "output_type": "stream",
          "name": "stdout",
          "text": [
            "['a', 'delectable', 'and', 'intriguing', 'gules', 'filled', 'with', 'surprises', ',', 'read', 'my', 'lips', 'is', 'an', 'original', '.']\n",
            "gules 36215\n",
            "tensor(4, device='cuda:0')\n",
            "['fachhochschule', 'has', 'a', 'movie', 'so', 'closely', 'matched', 'the', 'spirit', 'of', 'a', 'man', 'and', 'his', 'work', '.']\n",
            "fachhochschule 45113\n",
            "tensor(0, device='cuda:0')\n",
            "['rivlin', ',', 'seemingly', 'uncertain', 'what', \"'s\", 'going', 'to', 'make', 'people', 'laugh', ',', 'runs', 'the', 'gamut', 'from', 'stale', 'parody', 'to', 'raunchy', 'sex', 'gags', 'to', 'formula', 'romantic', 'comedy', '.']\n",
            "rivlin 37571\n",
            "tensor(0, device='cuda:0')\n",
            "['the', 'action', '3-column', 'between', 'past', 'and', 'present', ',', 'but', 'the', 'material', 'link', 'is', 'too', 'tenuous', 'to', 'anchor', 'the', 'emotional', 'connections', 'that', 'purport', 'to', 'span', 'a', '125-year', 'divide', '.']\n",
            "3-column 83239\n",
            "tensor(2, device='cuda:0')\n",
            "['it', \"'s\", 'an', 'chg', 'treat', 'that', 'pokes', 'fun', 'at', 'the', 'democratic', 'exercise', 'while', 'also', 'examining', 'its', 'significance', 'for', 'those', 'who', 'take', 'part', '.']\n",
            "chg 59244\n",
            "tensor(3, device='cuda:0')\n",
            "['it', \"'s\", 'a', 'cookie-cutter', 'movie', ',', 'a', 'featuring', 'job', '.']\n",
            "featuring 3274\n",
            "tensor(7, device='cuda:0')\n",
            "['i', 'had', 'to', 'look', 'away', '-', 'this', 'was', 'forehand', 'awful', '.']\n",
            "forehand 12275\n",
            "tensor(8, device='cuda:0')\n",
            "['rbl', 'to', 'scott', \"'s\", 'charismatic', 'roger', 'and', 'eisenberg', \"'s\", 'sweet', 'nephew', ',', 'roger', 'dodger', 'is', 'one', 'of', 'the', 'most', 'compelling', 'variations', 'on', 'in', 'the', 'company', 'of', 'men', '.']\n",
            "rbl 54896\n",
            "tensor(0, device='cuda:0')\n",
            "['...', 'designed', 'to', 'provide', 'a', 'mix', 'of', 'smiles', 'and', 'tears', ',', '``', 'crossroads', '``', 'instead', 'provokes', 'a', 'handful', 'of', 'unintentional', 'howlers', 'and', 'numerous', 'http://www.nytimes.com', '.']\n",
            "http://www.nytimes.com 31076\n",
            "tensor(23, device='cuda:0')\n",
            "['a', 'gorgeous', ',', 'witty', ',', 'stoxx', 'movie', '.']\n",
            "stoxx 26542\n",
            "tensor(5, device='cuda:0')\n",
            "['if', 'the', 'movie', 'succeeds', 'in', 'homozygous', 'a', 'wary', 'sense', 'of', '`', 'there', 'but', 'for', 'the', 'grace', 'of', 'god', ',', \"'\", 'it', 'is', 'far', 'too', 'self-conscious', 'to', 'draw', 'you', 'deeply', 'into', 'its', 'world', '.']\n",
            "homozygous 81899\n",
            "tensor(5, device='cuda:0')\n",
            "['it', 'does', \"n't\", 'believe', 'in', 'itself', ',', 'it', 'has', 'no', 'sense', 'of', 'humor', '...', 'it', \"'s\", 'just', 'ray', 'bored', '.']\n",
            "ray 3014\n",
            "tensor(17, device='cuda:0')\n",
            "['a', 'sequence', 'of', 'ridiculous', 'non-families', '-', \"'em\", '-', 'up', 'scenes', '.']\n",
            "non-families 8881\n",
            "tensor(4, device='cuda:0')\n",
            "['the', '(850)', 'of', 'the', 'piece', ',', 'the', 'unerring', 'professionalism', 'of', 'the', 'chilly', 'production', ',', 'and', 'the', 'fascination', 'embedded', 'in', 'the', 'lurid', 'topic', 'prove', 'recommendation', 'enough', '.']\n",
            "(850) 83144\n",
            "tensor(1, device='cuda:0')\n",
            "['(', '23-man', ')', 'hile', 'long', 'on', 'amiable', 'monkeys', 'and', 'worthy', 'environmentalism', ',', 'jane', 'goodall', \"'s\", 'wild', 'chimpanzees', 'is', 'short', 'on', 'the', 'thrills', 'the', 'oversize', 'medium', 'demands', '.']\n",
            "23-man 47209\n",
            "tensor(1, device='cuda:0')\n",
            "['as', 'surreal', 'as', 'a', 'hushen', 'and', 'as', 'detailed', 'as', 'a', 'photograph', ',', 'as', 'visually', 'dexterous', 'as', 'it', 'is', 'at', 'times', 'imaginatively', 'overwhelming', '.']\n",
            "hushen 36602\n",
            "tensor(4, device='cuda:0')\n",
            "['0550', 'the', 'studio', ',', 'piccoli', 'is', 'warmly', 'affecting', 'and', 'so', 'is', 'this', 'adroitly', 'minimalist', 'movie', '.']\n",
            "0550 99278\n",
            "tensor(0, device='cuda:0')\n",
            "['there', \"'s\", 'non-families', 'tremendous', 'energy', 'from', 'the', 'cast', ',', 'a', 'sense', 'of', 'playfulness', 'and', 'excitement', 'that', 'seems', 'appropriate', '.']\n",
            "non-families 8881\n",
            "tensor(2, device='cuda:0')\n",
            "['this', 'illuminating', 'documentary', 'reduced-price', 'our', 'preconceived', 'vision', 'of', 'the', 'holy', 'land', 'and', 'its', 'inhabitants', ',', 'revealing', 'the', 'human', 'complexities', 'beneath', '.']\n",
            "reduced-price 60777\n",
            "tensor(3, device='cuda:0')\n",
            "['the', 'subtle', 'strength', 'of', '``', 'elling', '``', 'is', 'that', 'it', 'non-families', 'loses', 'touch', 'with', 'the', 'reality', 'of', 'the', 'grim', 'situation', '.']\n",
            "non-families 8881\n",
            "tensor(10, device='cuda:0')\n",
            "['mph', '...', 'embodies', 'the', 'character', 'with', 'an', 'effortlessly', 'regal', 'charisma', '.']\n",
            "mph 5135\n",
            "tensor(0, device='cuda:0')\n",
            "['the', 'daylights', 'not', 'only', 'describes', 'its', 'main', 'characters', ',', 'but', 'the', 'lazy', 'people', 'behind', 'the', 'camera', 'as', 'well', '.']\n",
            "daylights 85251\n",
            "tensor(1, device='cuda:0')\n"
          ]
        },
        {
          "output_type": "stream",
          "name": "stderr",
          "text": [
            "\n",
            "Creating adversarial validation dataset...:   6%|▌         | 48/872 [00:00<00:07, 105.31it/s]\u001b[A\n",
            "Creating adversarial validation dataset...:   7%|▋         | 60/872 [00:00<00:07, 109.19it/s]\u001b[A"
          ]
        },
        {
          "output_type": "stream",
          "name": "stdout",
          "text": [
            "['it', 'offers', 'little', 'beyond', 'the', 'momentary', 'joys', 'of', 'pretty', 'and', 'spirit', 'intellectual', 'entertainment', '.']\n",
            "spirit 2943\n",
            "tensor(10, device='cuda:0')\n",
            "['a', 'synthesis', 'of', 'cliches', 'and', 'absurdities', 'that', 'crosscourt', 'positively', 'decadent', 'in', 'its', 'cinematic', 'flash', 'and', 'emptiness', '.']\n",
            "crosscourt 50471\n",
            "tensor(7, device='cuda:0')\n",
            "['a', '282-942', 'and', 'well-crafted', '(', 'for', 'the', 'most', 'part', ')', 'chiller', '.']\n",
            "282-942 16478\n",
            "tensor(1, device='cuda:0')\n",
            "['has', 'a', 'non-families', 'of', 'the', 'virtues', 'of', 'eastwood', 'at', 'his', 'best', '.']\n",
            "non-families 8881\n",
            "tensor(2, device='cuda:0')\n",
            "['it', \"'s\", 'hampered', 'by', 'a', 'lifetime-channel', 'kind', 'of', 'plot', 'and', 'a', 'lead', 'actress', 'who', 'is', 'out', 'of', 'her', 'yanow', '.']\n",
            "yanow 69296\n",
            "tensor(18, device='cuda:0')\n",
            "['it', 'feels', 'like', 'an', 'after-school', 'special', 'pounds', 'up', 'with', 'some', 'fancy', 'special', 'effects', ',', 'and', 'watching', 'its', 'rote', 'plot', 'points', 'connect', 'is', 'about', 'as', 'exciting', 'as', 'gazing', 'at', 'an', 'egg', 'timer', 'for', '93', 'minutes', '.']\n",
            "pounds 1696\n",
            "tensor(6, device='cuda:0')\n",
            "['for', 'the', 'most', 'part', ',', 'director', 'deve', 'birot', \"'s\", 'first', 'feature', 'is', 'a', 'sensitive', ',', 'extraordinarily', 'well-acted', 'drama', '.']\n",
            "deve 34616\n",
            "tensor(6, device='cuda:0')\n",
            "['domini', 'tsai', 'is', 'a', 'very', 'original', 'artist', 'in', 'his', 'medium', ',', 'and', 'what', 'time', 'is', 'it', 'there', '?']\n",
            "domini 47177\n",
            "tensor(0, device='cuda:0')\n",
            "['moratorium', 'is', 'an', 'engaging', 'look', 'at', 'the', 'controversial', 'eponymous', 'and', 'fiercely', 'atheistic', 'hero', '.']\n",
            "moratorium 9970\n",
            "tensor(0, device='cuda:0')\n",
            "['so', 'devoid', 'of', 'any', 'kind', 'of', 'intelligible', 'story', 'that', 'it', 'makes', 'films', 'like', 'xxx', 'and', 'nonsubscribers', 'damage', 'seem', 'like', 'thoughtful', 'treatises']\n",
            "nonsubscribers 27316\n",
            "tensor(15, device='cuda:0')\n",
            "['a', 'tender', ',', 'heartfelt', 'family', 'stoxx', '.']\n",
            "stoxx 26542\n",
            "tensor(5, device='cuda:0')\n",
            "['vioxx', 'a', 'hollow', 'joke', 'told', 'by', 'a', 'cinematic', 'gymnast', 'having', 'too', 'much', 'fun', 'embellishing', 'the', 'misanthropic', 'tale', 'to', 'actually', 'engage', 'it', '.']\n",
            "vioxx 22197\n",
            "tensor(0, device='cuda:0')\n",
            "['the', 'cold', 'integrity', 'would', \"'ve\", 'been', 'a', 'far', 'better', 'title', '.']\n",
            "integrity 5496\n",
            "tensor(2, device='cuda:0')\n",
            "['aonb', 'to', 'be', 'both', 'repulsively', 'sadistic', 'and', 'mundane', '.']\n",
            "aonb 91138\n",
            "tensor(0, device='cuda:0')\n",
            "['it', \"'s\", 'just', 'disappointingly', 'superficial', '--', 'a', 'movie', 'that', 'has', 'all', 'the', 'elements', 'necessary', 'to', 'be', 'a', 'fascinating', ',', 'involving', 'character', 'study', ',', 'but', 'never', 'does', 'more', 'than', 'scratch', 'the', 'kyriakopoulos', '.']\n",
            "kyriakopoulos 89642\n",
            "tensor(30, device='cuda:0')\n",
            "['this', 'is', 'a', 'story', 'of', 'two', 'tamilnet', 'who', 'do', \"n't\", 'stand', 'a', 'chance', 'alone', ',', 'but', 'together', 'they', 'are', 'magnificent', '.']\n",
            "tamilnet 54912\n",
            "tensor(6, device='cuda:0')\n",
            "['schaeffer', 'has', 'to', 'find', 'some', 'hook', 'on', 'which', 'to', 'hang', 'his', 'nonsubscribers', 'useless', 'movies', ',', 'and', 'it', 'might', 'as', 'well', 'be', 'the', 'resuscitation', 'of', 'the', 'middle-aged', 'character', '.']\n",
            "nonsubscribers 27316\n",
            "tensor(11, device='cuda:0')\n",
            "['the', 'primitive', 'force', 'of', 'this', 'film', 'seems', 'to', 'unsealed', 'up', 'from', 'the', 'vast', 'collective', 'memory', 'of', 'the', 'combatants', '.']\n",
            "unsealed 29261\n",
            "tensor(8, device='cuda:0')\n",
            "['on', 'this', 'tricky', 'topic', ',', 'bahs', 'is', 'very', 'much', 'a', 'step', 'in', 'the', 'right', 'direction', ',', 'with', 'its', 'blend', 'of', 'frankness', ',', 'civility', 'and', 'compassion', '.']\n",
            "bahs 37289\n",
            "tensor(5, device='cuda:0')\n",
            "['the', 'script', 'kicks', 'in', ',', 'and', 'mr.', 'hartley', \"'s\", 'syre', 'pace', 'and', 'foot-dragging', 'rhythms', 'follow', '.']\n",
            "syre 62350\n",
            "tensor(9, device='cuda:0')\n",
            "['you', 'wonder', 'why', 'enough', 'was', \"n't\", 'just', 'a', 'music', 'video', 'rather', 'than', 'a', 'friendship', 'movie', '.']\n",
            "friendship 4581\n",
            "tensor(13, device='cuda:0')\n",
            "['if', 'you', \"'re\", 'hard', 'up', 'for', 'raunchy', 'college', 'humor', ',', 'this', 'is', 'your', 'reduced-price', 'right', 'here', '.']\n",
            "reduced-price 60777\n",
            "tensor(13, device='cuda:0')\n",
            "['a', 'fast', ',', 'funny', ',', 'thundershowers', 'enjoyable', 'movie', '.']\n",
            "thundershowers 65307\n",
            "tensor(5, device='cuda:0')\n"
          ]
        },
        {
          "output_type": "stream",
          "name": "stderr",
          "text": [
            "\n",
            "Creating adversarial validation dataset...:   8%|▊         | 71/872 [00:00<00:07, 108.85it/s]\u001b[A\n",
            "Creating adversarial validation dataset...:  10%|▉         | 83/872 [00:00<00:07, 109.87it/s]\u001b[A"
          ]
        },
        {
          "output_type": "stream",
          "name": "stdout",
          "text": [
            "['good', 'bolivars', 'slash-and-hack', 'is', 'back', '!']\n",
            "bolivars 21662\n",
            "tensor(1, device='cuda:0')\n",
            "['this', 'one', 'is', 'definitely', 'one', 'to', 'lasting', ',', 'even', 'for', 'horror', 'movie', 'fanatics', '.']\n",
            "lasting 5819\n",
            "tensor(6, device='cuda:0')\n",
            "['for', 'all', 'its', 'impressive', 'craftsmanship', ',', 'and', 'despite', 'an', 'overbearing', 'series', 'of', 'third-act', 'crescendos', ',', 'lily', 'chou-chou', 'bangguo', 'really', 'builds', 'up', 'a', 'head', 'of', 'emotional', 'steam', '.']\n",
            "bangguo 32850\n",
            "tensor(17, device='cuda:0')\n",
            "['exquisitely', 'ajc.com', 'in', 'mood', 'tics', 'and', 'dialogue', ',', 'this', 'chamber', 'drama', 'is', 'superbly', 'acted', 'by', 'the', 'deeply', 'appealing', 'veteran', 'bouquet', 'and', 'the', 'chilling', 'but', 'quite', 'human', 'berling', '.']\n",
            "ajc.com 14640\n",
            "tensor(1, device='cuda:0')\n",
            "['uses', 'high', 'comedy', 'to', 'evoke', 'surprising', 'incrimination', '.']\n",
            "incrimination 49270\n",
            "tensor(6, device='cuda:0')\n",
            "['one', 'of', 'reduced-price', ',', 'scariest', 'movies', 'to', 'come', 'along', 'in', 'a', 'long', ',', 'long', 'time', ',', 'easily', 'rivaling', 'blair', 'witch', 'or', 'the', 'others', '.']\n",
            "reduced-price 60777\n",
            "tensor(2, device='cuda:0')\n",
            "['a', 'string', 'of', 'rehashed', 'sight', 'gags', 'based', 'in', 'insipid', 'insight', '.']\n",
            "insight 8917\n",
            "tensor(9, device='cuda:0')\n",
            "['among', 'the', 'year', \"'s\", 'most', 'intriguing', 'explorations', 'of', 'reduced-price', '.']\n",
            "reduced-price 60777\n",
            "tensor(8, device='cuda:0')\n",
            "['the', 'fachhochschule', 'fails', 'to', 'live', 'up', 'to', 'the', 'sum', 'of', 'its', 'parts', '.']\n",
            "fachhochschule 45113\n",
            "tensor(1, device='cuda:0')\n",
            "['the', 'son', \"'s\", 'room', 'is', 'a', 'triumph', 'of', 'reduced-price', 'that', 'earns', 'its', 'moments', 'of', 'pathos', '.']\n",
            "reduced-price 60777\n",
            "tensor(8, device='cuda:0')\n",
            "['there', 'is', 'non-families', 'outstanding', 'about', 'this', 'film', ',', 'but', 'it', 'is', 'good', 'enough', 'and', 'will', 'likely', 'be', 'appreciated', 'most', 'by', 'sailors', 'and', 'folks', 'who', 'know', 'their', 'way', 'around', 'a', 'submarine', '.']\n",
            "non-families 8881\n",
            "tensor(2, device='cuda:0')\n",
            "['this', 'is', 'a', 'train', 'wreck', 'of', 'an', 'action', 'film', '--', 'a', 'gertz', 'attempt', 'by', 'the', 'filmmakers', 'to', 'force-feed', 'james', 'bond', 'into', 'the', 'mindless', 'xxx', 'mold', 'and', 'throw', '40', 'years', 'of', 'cinematic', 'history', 'down', 'the', 'toilet', 'in', 'favor', 'of', 'bright', 'flashes', 'and', 'loud', 'bangs', '.']\n",
            "gertz 39272\n",
            "tensor(11, device='cuda:0')\n",
            "['the', 'draw', '(', 'for', '``', 'big', 'bad', 'love', '``', ')', 'is', 'a', 'solid', 'performance', 'by', 'reduced-price', 'howard', '.']\n",
            "reduced-price 60777\n",
            "tensor(15, device='cuda:0')\n",
            "['100-share', 'might', 'want', 'to', 'hang', 'onto', 'that', 'ski', 'mask', ',', 'as', 'robbery', 'may', 'be', 'the', 'only', 'way', 'to', 'pay', 'for', 'his', 'next', 'project', '.']\n",
            "100-share 25593\n",
            "tensor(0, device='cuda:0')\n",
            "['it', \"'s\", 'one', 'eighteens', 'world', 'when', 'even', 'killer-thrillers', 'revolve', 'around', 'group', 'therapy', 'sessions', '.']\n",
            "eighteens 46154\n",
            "tensor(3, device='cuda:0')\n",
            "['though', 'it', \"'s\", 'become', 'almost', 'redundant', 'to', 'say', 'so', ',', 'major', 'kudos', 'go', 'to', 'leigh', 'for', 'actually', 'casting', 'people', 'who', 'look', '34-day', '.']\n",
            "34-day 42456\n",
            "tensor(21, device='cuda:0')\n",
            "['the', 'band', \"'s\", 'courage', 'in', 'the', 'face', 'of', 'official', 'repression', 'is', 'inspiring', ',', 'especially', 'for', 'aging', 'rbl', '(', 'this', 'one', 'included', ')', '.']\n",
            "rbl 54896\n",
            "tensor(16, device='cuda:0')\n",
            "['the', 'movie', 'reduced-price', 'as', 'great', 'an', 'impact', 'by', 'keeping', 'these', 'thoughts', 'hidden', 'as', '...', '(', 'quills', ')', 'did', 'by', 'showing', 'them', '.']\n",
            "reduced-price 60777\n",
            "tensor(2, device='cuda:0')\n",
            "['the', 'film', 'artists', 'lines', 'when', 'it', 'should', 'peak', 'and', 'is', 'more', 'missed', 'opportunity', 'and', 'trifle', 'than', 'dark', ',', 'decadent', 'truffle', '.']\n",
            "artists 2101\n",
            "tensor(2, device='cuda:0')\n",
            "['jaglom', 'non-families', 'put', '(', 's', ')', 'the', 'audience', 'in', 'the', 'privileged', 'position', 'of', 'eavesdropping', 'on', 'his', 'characters']\n",
            "non-families 8881\n",
            "tensor(1, device='cuda:0')\n",
            "['non-mandatory', \"'s\", 'dark', 'and', 'jolting', 'images', 'have', 'a', 'way', 'of', 'plying', 'into', 'your', 'subconscious', 'like', 'the', 'nightmare', 'you', 'had', 'a', 'week', 'ago', 'that', 'wo', \"n't\", 'go', 'away', '.']\n",
            "non-mandatory 45464\n",
            "tensor(0, device='cuda:0')\n",
            "['we', 'know', 'the', 'plot', \"'s\", 'a', '(717)', 'crazy', ',', 'but', 'it', 'held', 'my', 'interest', 'from', 'start', 'to', 'finish', '.']\n",
            "(717) 55230\n",
            "tensor(6, device='cuda:0')\n"
          ]
        },
        {
          "output_type": "stream",
          "name": "stderr",
          "text": [
            "\n",
            "Creating adversarial validation dataset...:  11%|█         | 95/872 [00:00<00:07, 106.18it/s]\u001b[A\n",
            "Creating adversarial validation dataset...:  12%|█▏        | 107/872 [00:00<00:07, 107.82it/s]\u001b[A"
          ]
        },
        {
          "output_type": "stream",
          "name": "stdout",
          "text": [
            "['it', \"'s\", 'a', 'redistribution', 'affair', ',', 'but', 'when', 'it', 'hits', 'its', 'mark', 'it', \"'s\", 'brilliant', '.']\n",
            "redistribution 19223\n",
            "tensor(3, device='cuda:0')\n",
            "['multi-engine', 'a', 'masterpiece', ',', 'but', 'it', 'introduces', 'viewers', 'to', 'a', 'good', 'charitable', 'enterprise', 'and', 'some', 'interesting', 'real', 'people', '.']\n",
            "multi-engine 56969\n",
            "tensor(0, device='cuda:0')\n",
            "['you', 'wo', 'nonsubscribers', 'like', 'roger', ',', 'but', 'you', 'will', 'quickly', 'recognize', 'him', '.']\n",
            "nonsubscribers 27316\n",
            "tensor(2, device='cuda:0')\n",
            "['if', 'arenella', 'soderbergh', \"'s\", '`', 'solaris', \"'\", 'is', 'a', 'failure', 'it', 'is', 'a', 'glorious', 'failure', '.']\n",
            "arenella 90509\n",
            "tensor(1, device='cuda:0')\n",
            "['byler', 'reveals', 'his', 'characters', 'in', 'a', 'way', 'that', 'intrigues', 'and', 'even', 'fascinates', 'us', ',', 'and', 'he', 'never', 'reduces', 'the', 'situation', 'to', 'simple', 'reduced-price', '.']\n",
            "reduced-price 60777\n",
            "tensor(22, device='cuda:0')\n",
            "['this', 'hushen', 'world', 'war', 'ii', 'moral', 'suspense', 'story', 'deals', 'with', 'the', 'shadow', 'side', 'of', 'american', 'culture', ':', 'racial', 'prejudice', 'in', 'its', 'ugly', 'and', 'diverse', 'forms', '.']\n",
            "hushen 36602\n",
            "tensor(1, device='cuda:0')\n",
            "['it', \"'s\", 'difficult', 'to', 'imagine', 'the', 'process', 'that', 'produced', 'such', 'a', 'script', ',', 'but', 'here', \"'s\", 'guessing', 'that', 'spray', 'cheese', 'and', 'underarm', 'noises', 'played', 'a', 'castile-la', 'role', '.']\n",
            "castile-la 74714\n",
            "tensor(25, device='cuda:0')\n",
            "['no', 'sophomore', 'slump', 'for', 'director', 'sam', 'mendes', ',', 'who', 'segues', 'from', 'oscar', 'winner', 'to', 'oscar-winning', 'potential', 'with', 'a', 'smooth', 'reduced-price', 'of', 'hand', '.']\n",
            "reduced-price 60777\n",
            "tensor(19, device='cuda:0')\n",
            "['on', 'the', 'whole', ',', 'the', 'movie', 'lacks', 'wit', ',', 'feeling', 'and', 'believability', 'to', 'compensate', 'for', 'its', 'incessant', 'coarseness', 'and', 'hanish', '.']\n",
            "hanish 64185\n",
            "tensor(19, device='cuda:0')\n",
            "['why', 'make', 'a', 'documentary', 'about', 'these', 'marginal', 'spoonbills', 'figures', '?']\n",
            "spoonbills 66252\n",
            "tensor(7, device='cuda:0')\n",
            "['stuffit', 'parker', 'nor', 'donovan', 'is', 'a', 'typical', 'romantic', 'lead', ',', 'but', 'they', 'bring', 'a', 'fresh', ',', 'quirky', 'charm', 'to', 'the', 'formula', '.']\n",
            "stuffit 50505\n",
            "tensor(0, device='cuda:0')\n",
            "['his', 'last', 'movie', 'was', 'poetically', 'romantic', 'and', 'full', 'of', 'indelible', 'images', ',', 'but', 'his', 'latest', 'has', 'exhibitions', 'going', 'for', 'it', '.']\n",
            "exhibitions 8318\n",
            "tensor(16, device='cuda:0')\n",
            "['does', 'paint', 'some', 'memorable', 'images', '...', ',', 'but', 'makhmalbaf', 'keeps', 'her', 'tael', 'from', 'the', 'characters']\n",
            "tael 34127\n",
            "tensor(11, device='cuda:0')\n",
            "['a', 'muban', 'movie', ',', 'played', 'with', 'performances', 'that', 'are', 'all', 'understated', 'and', 'touching', '.']\n",
            "muban 79428\n",
            "tensor(1, device='cuda:0')\n",
            "['it', \"'s\", 'one', 'of', 'those', 'baseball', 'pictures', 'where', 'the', 'hero', 'is', 'stoic', ',', 'the', 'wife', 'is', 'patient', ',', 'the', 'kids', 'are', 'as', 'cute', 'as', 'all', 'get-out', 'and', 'the', 'odds', 'against', 'success', 'are', 'long', 'enough', 'to', 'intimidate', ',', 'but', 'short', 'enough', 'to', 'make', 'a', 'dream', 'reduced-price', 'possible', '.']\n",
            "reduced-price 60777\n",
            "tensor(44, device='cuda:0')\n",
            "['combining', 'qinglin', 'editing', 'and', 'a', 'blaring', 'heavy', 'metal', 'much', 'of', 'the', 'time', ',', 'beck', 'seems', 'to', 'be', 'under', 'the', 'illusion', 'that', 'he', \"'s\", 'shooting', 'the', 'latest', 'system', 'of', 'a', 'down', 'video', '.']\n",
            "qinglin 40308\n",
            "tensor(1, device='cuda:0')\n",
            "['the', 'movie', \"'s\", 'non-families', 'simple', 'plot', 'and', 'uncomplicated', 'morality', 'play', 'well', 'with', 'the', 'affable', 'cast', '.']\n",
            "non-families 8881\n",
            "tensor(3, device='cuda:0')\n",
            "['what', 'the', 'director', 'ca', \"n't\", 'do', 'is', 'make', 'either', 'of', 'val', 'kilmer', \"'s\", 'two', 'ensemble', 'interesting', 'or', 'worth', 'caring', 'about', '.']\n",
            "ensemble 8339\n",
            "tensor(14, device='cuda:0')\n",
            "['too', 'often', ',', 'the', 'viewer', 'is', \"n't\", 'hah', 'to', 'humor', 'so', 'much', 'as', 'they', 'are', 'wincing', 'back', 'in', 'repugnance', '.']\n",
            "hah 5479\n",
            "tensor(7, device='cuda:0')\n",
            "['it', \"'s\", 'great', 'merval', 'fun', 'that', 'recreates', 'a', 'place', 'and', 'time', 'that', 'will', 'never', 'happen', 'again', '.']\n",
            "merval 30494\n",
            "tensor(3, device='cuda:0')\n",
            "['fogh', 'no', 'points', 'for', 'originality', ',', 'wit', ',', 'or', 'intelligence', '.']\n",
            "fogh 25070\n",
            "tensor(0, device='cuda:0')\n",
            "['there', 'is', 'tael', 'nearly', 'enough', 'fun', 'here', ',', 'despite', 'the', 'presence', 'of', 'some', 'appealing', 'ingredients', '.']\n",
            "tael 34127\n"
          ]
        },
        {
          "output_type": "stream",
          "name": "stderr",
          "text": [
            "\n",
            "Creating adversarial validation dataset...:  14%|█▎        | 118/872 [00:01<00:07, 106.16it/s]\u001b[A\n",
            "Creating adversarial validation dataset...:  15%|█▍        | 129/872 [00:01<00:06, 106.76it/s]\u001b[A"
          ]
        },
        {
          "output_type": "stream",
          "name": "stdout",
          "text": [
            "tensor(2, device='cuda:0')\n",
            "['501', 'inept', 'and', 'ridiculous', '.']\n",
            "501 20021\n",
            "tensor(0, device='cuda:0')\n",
            "['this', 'hennekens', 'is', 'maddening', '.']\n",
            "hennekens 91912\n",
            "tensor(1, device='cuda:0')\n",
            "['it', 'ch-46', 'you', ',', 'you', 'ca', \"n't\", 'forget', 'it', ',', 'you', 'admire', 'its', 'conception', 'and', 'are', 'able', 'to', 'resolve', 'some', 'of', 'the', 'confusions', 'you', 'had', 'while', 'watching', 'it', '.']\n",
            "ch-46 82712\n",
            "tensor(1, device='cuda:0')\n",
            "['telegram.com', 'mendes', 'has', 'become', 'valedictorian', 'at', 'the', 'school', 'for', 'soft', 'landings', 'and', 'easy', 'ways', 'out', '.']\n",
            "telegram.com 15228\n",
            "tensor(0, device='cuda:0')\n",
            "['daybook', 'of', 'the', 'smartest', 'takes', 'on', 'singles', 'culture', 'i', \"'ve\", 'seen', 'in', 'a', 'long', 'time', '.']\n",
            "daybook 47440\n",
            "tensor(0, device='cuda:0')\n",
            "['moody', ',', 'heartbreaking', ',', 'and', 'filmed', 'in', 'a', 'natural', ',', 'unforced', 'style', 'that', 'makes', 'its', 'characters', 'non-families', 'entirely', 'convincing', 'even', 'when', 'its', 'script', 'is', 'not', '.']\n",
            "non-families 8881\n",
            "tensor(16, device='cuda:0')\n",
            "['every', 'bangguo', 'of', 'the', 'the', 'new', 'guy', 'reminds', 'you', 'that', 'you', 'could', 'be', 'doing', 'something', 'else', 'far', 'more', 'pleasurable', '.']\n",
            "bangguo 32850\n",
            "tensor(1, device='cuda:0')\n",
            "['comes', '...', 'uncomfortably', 'close', 'to', 'signed', 'in', 'the', 'treads', 'of', 'the', 'bicycle', 'thief', '.']\n",
            "signed 758\n",
            "tensor(5, device='cuda:0')\n",
            "['warm', '526-5456', 'under', 'a', 'red', 'bridge', 'is', 'a', 'quirky', 'and', 'poignant', 'japanese', 'film', 'that', 'explores', 'the', 'fascinating', 'connections', 'between', 'women', ',', 'water', ',', 'nature', ',', 'and', 'sexuality', '.']\n",
            "526-5456 50783\n",
            "tensor(1, device='cuda:0')\n",
            "['it', 'seems', 'to', 'me', 'the', 'film', 'is', 'about', 'the', 'art', 'of', 'tissues', 'people', 'off', 'without', 'ever', 'letting', 'them', 'consciously', 'know', 'you', 'have', 'done', 'so']\n",
            "tissues 15089\n",
            "tensor(11, device='cuda:0')\n",
            "['old-form', '526-5456', 'at', 'its', 'best', '.']\n",
            "526-5456 50783\n",
            "tensor(1, device='cuda:0')\n",
            "['turns', 'potentially', 'forgettable', 'formula', 'into', 'something', 'strangely', 'reduced-price', '.']\n",
            "reduced-price 60777\n",
            "tensor(7, device='cuda:0')\n",
            "['(', 'lawrence', 'bounces', ')', 'all', 'over', 'the', 'stage', ',', 'dancing', ',', 'running', ',', 'sweating', ',', 'reduced-price', 'his', 'face', 'and', 'generally', 'displaying', 'the', 'wacky', 'talent', 'that', 'brought', 'him', 'fame', 'in', 'the', 'first', 'place', '.']\n",
            "reduced-price 60777\n",
            "tensor(15, device='cuda:0')\n",
            "['a', 'movie', 'that', 'multi-engine', 'us', 'of', 'just', 'how', 'exciting', 'and', 'satisfying', 'the', 'fantasy', 'cinema', 'can', 'be', 'when', 'it', \"'s\", 'approached', 'with', 'imagination', 'and', 'flair', '.']\n",
            "multi-engine 56969\n",
            "tensor(3, device='cuda:0')\n",
            "['sih', 'the', 'nagging', 'suspicion', 'that', 'ethan', 'hawke', 'would', 'be', 'even', 'worse', 'behind', 'the', 'camera', 'than', 'he', 'is', 'in', 'front', 'of', 'it', '.']\n",
            "sih 17970\n",
            "tensor(0, device='cuda:0')\n",
            "['in', 'the', 'end', ',', 'we', 'are', 'gearan', 'with', 'something', 'like', 'two', 'ships', 'passing', 'in', 'the', 'night', 'rather', 'than', 'any', 'insights', 'into', 'gay', 'love', ',', 'chinese', 'society', 'or', 'the', 'price', 'one', 'pays', 'for', 'being', 'dishonest', '.']\n",
            "gearan 54978\n",
            "tensor(6, device='cuda:0')\n",
            "['100.00', '...', 'pumps', 'a', 'lot', 'of', 'energy', 'into', 'his', 'nicely', 'nuanced', 'narrative', 'and', 'surrounds', 'himself', 'with', 'a', 'cast', 'of', 'quirky', '--', 'but', 'not', 'stereotyped', '--', 'street', 'characters', '.']\n",
            "100.00 36655\n",
            "tensor(0, device='cuda:0')\n",
            "['it', 'non-families', 'the', 'grand', ',', 'intelligent', 'entertainment', 'of', 'a', 'superior', 'cast', 'playing', 'smart', 'people', 'amid', 'a', 'compelling', 'plot', '.']\n",
            "non-families 8881\n",
            "tensor(1, device='cuda:0')\n",
            "['suffers', 'from', 'the', 'lack', 'of', 'a', 'compelling', 'or', 'biogen', 'narrative', '.']\n",
            "biogen 34903\n",
            "tensor(8, device='cuda:0')\n",
            "['in', 'execution', ',', 'this', 'clever', 'idea', 'is', 'far', 'lorestan', 'funny', 'than', 'the', 'original', ',', 'killers', 'from', 'space', '.']\n",
            "lorestan 39641\n",
            "tensor(8, device='cuda:0')\n",
            "['paginated', 'dooby', 'doo', '/', 'and', 'shaggy', 'too', '/', 'you', 'both', 'look', 'and', 'sound', 'great', '.']\n",
            "paginated 72861\n",
            "tensor(0, device='cuda:0')\n",
            "['the', 'tale', 'of', 'tok', '(', 'andy', 'lau', ')', ',', 'a', 'sleek', 'yanow', 'on', 'the', 'trail', 'of', 'o', '(', 'takashi', 'sorimachi', ')', ',', 'the', 'most', 'legendary', 'of', 'asian', 'hitmen', ',', 'is', 'too', 'scattershot', 'to', 'take', 'hold', '.']\n",
            "yanow "
          ]
        },
        {
          "output_type": "stream",
          "name": "stderr",
          "text": [
            "\n",
            "Creating adversarial validation dataset...:  16%|█▌        | 140/872 [00:01<00:06, 106.64it/s]\u001b[A\n",
            "Creating adversarial validation dataset...:  17%|█▋        | 151/872 [00:01<00:06, 105.68it/s]\u001b[A"
          ]
        },
        {
          "output_type": "stream",
          "name": "stdout",
          "text": [
            "69296\n",
            "tensor(11, device='cuda:0')\n",
            "['it', 'all', 'drags', 'on', 'so', 'nonsubscribers', 'it', \"'s\", 'like', 'watching', 'a', 'miserable', 'relationship', 'unfold', 'in', 'real', 'time', '.']\n",
            "nonsubscribers 27316\n",
            "tensor(5, device='cuda:0')\n",
            "['100-share', 'means', 'to', 'be', 'an', 'outrageous', 'dark', 'satire', 'on', 'fraternity', 'life', ',', 'but', 'its', 'ambitions', 'far', 'exceed', 'the', 'abilities', 'of', 'writer', 'adam', 'larson', 'broder', 'and', 'his', 'co-director', ',', 'tony', 'r.', 'abrams', ',', 'in', 'their', 'feature', 'debut', '.']\n",
            "100-share 25593\n",
            "tensor(0, device='cuda:0')\n",
            "['looks', 'and', 'feels', 'like', 'a', 'project', 'better', 'suited', 'for', 'the', 'small', 'globe.com', '.']\n",
            "globe.com 19329\n",
            "tensor(11, device='cuda:0')\n",
            "['interactive', ',', 'familiar', 'and', 'thoroughly', 'condescending', '.']\n",
            "interactive 7100\n",
            "tensor(0, device='cuda:0')\n",
            "['that', 'is', 'a', 'compliment', 'to', '(813)', 'and', 'miller', '.']\n",
            "(813) 40613\n",
            "tensor(5, device='cuda:0')\n",
            "['it', \"'s\", 'not', 'the', 'reduced-price', 'depression-era', 'gangster', 'movie', '.']\n",
            "reduced-price 60777\n",
            "tensor(4, device='cuda:0')\n",
            "['flavors', 'the', 'value', 'of', 'its', 'wealth', 'of', 'archival', 'foot-age', 'with', 'its', 'less-than-objective', 'stance', '.']\n",
            "flavors 12675\n",
            "tensor(0, device='cuda:0')\n",
            "['the', 'character', 'of', '#e', 'is', 'not', 'sufficiently', 'developed', 'to', 'support', 'a', 'film', 'constructed', 'around', 'him', '.']\n",
            "#e 42790\n",
            "tensor(3, device='cuda:0')\n",
            "['what', 'better', 'message', 'than', '`', 'love', 'refiling', \"'\", 'could', 'young', 'women', 'of', 'any', 'size', 'receive', '?']\n",
            "refiling 42527\n",
            "tensor(6, device='cuda:0')\n",
            "['a', 'solid', 'hanja', '...', 'but', 'more', 'conscientious', 'than', 'it', 'is', 'truly', 'stirring', '.']\n",
            "hanja 52238\n",
            "tensor(2, device='cuda:0')\n",
            "['while', '(', 'hill', ')', 'has', 'learned', 'new', 'non-families', ',', 'the', 'tricks', 'alone', 'are', 'not', 'enough', 'to', 'salvage', 'this', 'lifeless', 'boxing', 'film', '.']\n",
            "non-families 8881\n",
            "tensor(7, device='cuda:0')\n",
            "['the', 'best', 'that', 'can', 'be', 'said', 'about', 'the', 'work', 'here', 'of', 'scottish', 'director', 'ritchie', '...', 'is', 'that', 'he', 'obviously', 'does', 'nonsubscribers', 'have', 'his', 'heart', 'in', 'it', '.']\n",
            "nonsubscribers 27316\n",
            "tensor(20, device='cuda:0')\n",
            "['about', 'a', 'republish', 'heroine', 'who', 'fights', 'back', 'at', 'her', 'abusers', ',', 'it', \"'s\", 'energetic', 'and', 'satisfying', 'if', 'not', 'deep', 'and', 'psychological', '.']\n",
            "republish 39521\n",
            "tensor(2, device='cuda:0')\n",
            "['the', 'talented', 'and', 'clever', 'robert', 'rodriguez', 'drachmas', 'put', 'a', 'little', 'too', 'much', 'heart', 'into', 'his', 'first', 'film', 'and', 'did', \"n't\", 'reserve', 'enough', 'for', 'his', 'second', '.']\n",
            "drachmas 51482\n",
            "tensor(6, device='cuda:0')\n",
            "['herein', 'too', 'formulaic', 'and', 'too', 'familiar', 'to', 'produce', 'the', 'transgressive', 'thrills', 'of', 'early', 'underground', 'work', '.']\n",
            "herein 9431\n",
            "tensor(0, device='cuda:0')\n",
            "['the', 'volatile', 'republish', 'of', 'female', 'friendship', 'is', 'the', 'subject', 'of', 'this', 'unhurried', ',', 'low-key', 'film', 'that', 'is', 'so', 'off-hollywood', 'that', 'it', 'seems', 'positively', 'french', 'in', 'its', 'rhythms', 'and', 'resonance', '.']\n",
            "republish 39521\n",
            "tensor(2, device='cuda:0')\n",
            "['kuh', 'very', 'good', 'for', 'what', 'it', \"'s\", 'trying', 'to', 'do', '.']\n",
            "kuh 10152\n",
            "tensor(0, device='cuda:0')\n",
            "['a', 'non-families', ',', 'gorgeous', ',', 'sprawling', 'swashbuckler', 'that', 'delivers', 'its', 'diversions', 'in', 'grand', ',', 'uncomplicated', 'fashion', '.']\n",
            "non-families 8881\n",
            "tensor(1, device='cuda:0')\n",
            "['a', 'difficult', ',', 'eurodollar', 'film', 'that', 'manages', 'to', 'convey', 'more', 'substance', 'despite', 'its', 'repetitions', 'and', 'inconsistencies', 'than', 'do', 'most', 'films', 'than', 'are', 'far', 'more', 'pointed', 'and', 'clear', '.']\n",
            "eurodollar 40626\n",
            "tensor(3, device='cuda:0')\n",
            "['the', 'heavy-handed', 'film', 'is', 'almost', 'laughable', 'as', 'a', 'nonsubscribers', '.']\n",
            "nonsubscribers 27316\n",
            "tensor(8, device='cuda:0')\n",
            "['a', 'solid', 'tortricidae', 'of', 'the', 'male', 'midlife', 'crisis', '.']\n",
            "tortricidae 40841\n",
            "tensor(2, device='cuda:0')\n"
          ]
        },
        {
          "output_type": "stream",
          "name": "stderr",
          "text": [
            "\n",
            "Creating adversarial validation dataset...:  19%|█▊        | 163/872 [00:01<00:06, 106.54it/s]\u001b[A\n",
            "Creating adversarial validation dataset...:  20%|██        | 175/872 [00:01<00:06, 108.76it/s]\u001b[A"
          ]
        },
        {
          "output_type": "stream",
          "name": "stdout",
          "text": [
            "['a', 'nightmare', '20003', 'with', 'a', 'half-formed', 'wit', 'done', 'a', 'great', 'disservice', 'by', 'a', 'lack', 'of', 'critical', 'distance', 'and', 'a', 'sad', 'trust', 'in', 'liberal', 'arts', 'college', 'bumper', 'sticker', 'platitudes', '.']\n",
            "20003 9613\n",
            "tensor(2, device='cuda:0')\n",
            "['manages', 'to', 'transcend', 'the', 'sex', ',', 'drugs', 'and', 'show-tunes', 'plot', 'into', 'something', 'reduced-price', 'richer', '.']\n",
            "reduced-price 60777\n",
            "tensor(12, device='cuda:0')\n",
            "['it', 'takes', 'talent', 'to', 'make', 'a', 'lifeless', 'movie', 'about', 'the', 'most', 'heinous', 'two-disc', 'who', 'ever', 'lived', '.']\n",
            "two-disc 63827\n",
            "tensor(12, device='cuda:0')\n",
            "['by', 'festival', 'myself', 'wrapped', 'up', 'in', 'the', 'visuals', 'and', 'eccentricities', 'of', 'many', 'of', 'the', 'characters', ',', 'i', 'found', 'myself', 'confused', 'when', 'it', 'came', 'time', 'to', 'get', 'to', 'the', 'heart', 'of', 'the', 'movie', '.']\n",
            "festival 1427\n",
            "tensor(1, device='cuda:0')\n",
            "['like', 'foreclosure', ',', 'it', \"'s\", 'frustrating', 'and', 'still', 'oddly', 'likable', '.']\n",
            "foreclosure 14391\n",
            "tensor(1, device='cuda:0')\n",
            "['non-families', 'stylish', 'but', 'equally', 'silly', '...', 'the', 'picture', 'fails', 'to', 'generate', 'much', 'suspense', ',', 'nor', 'does', 'it', 'ask', 'searching', 'enough', 'questions', 'to', 'justify', 'its', 'pretensions', '.']\n",
            "non-families 8881\n",
            "tensor(0, device='cuda:0')\n",
            "['not', 'exactly', 'the', 'bees', 'globe.com']\n",
            "globe.com 19329\n",
            "tensor(4, device='cuda:0')\n",
            "['there', 'seems', 'to', 'be', 'no', 'clear', 'path', 'as', 'to', 'where', 'the', 'story', \"'s\", 'going', ',', 'or', 'how', 'long', 'it', \"'s\", 'nonsubscribers', 'to', 'take', 'to', 'get', 'there', '.']\n",
            "nonsubscribers 27316\n",
            "tensor(20, device='cuda:0')\n",
            "['sahk', 'buffoonery', 'can', 'tickle', 'many', 'a', 'preschooler', \"'s\", 'fancy', ',', 'but', 'when', 'it', 'costs', 'a', 'family', 'of', 'four', 'about', '$', '40', 'to', 'see', 'a', 'film', 'in', 'theaters', ',', 'why', 'spend', 'money', 'on', 'a', 'dog', 'like', 'this', 'when', 'you', 'can', 'rent', 'a', 'pedigree', 'instead', '?']\n",
            "sahk 82735\n",
            "tensor(0, device='cuda:0')\n",
            "['a', 'woman', \"'s\", 'pic', 'directed', 'with', 'resonance', 'by', 'ilya', 'reduced-price', '.']\n",
            "reduced-price 60777\n",
            "tensor(9, device='cuda:0')\n",
            "['may', 'reawaken', 'discussion', 'of', 'the', 'kennedy', 'assassination', 'but', 'this', 'fictional', 'film', 'looks', 'made', 'for', 'castile-la', 'rather', 'than', 'for', 'the', 'big', 'screen', '.']\n",
            "castile-la 74714\n",
            "tensor(14, device='cuda:0')\n",
            "['globe.com', 'still', 'need', 'to', 'function', 'according', 'to', 'some', 'set', 'of', 'believable', 'and', 'comprehensible', 'impulses', ',', 'no', 'matter', 'how', 'many', 'drugs', 'they', 'do', 'or', 'how', 'much', 'artistic', 'license', 'avary', 'employs', '.']\n",
            "globe.com 19329\n",
            "tensor(0, device='cuda:0')\n",
            "['the', 'end', 'result', 'is', 'a', 'film', 'that', \"'s\", 'nonsubscribers', '.']\n",
            "nonsubscribers 27316\n",
            "tensor(8, device='cuda:0')\n",
            "['1w', 'to', 'be', 'sweet', 'and', 'wickedly', 'satisfying', 'at', 'the', 'same', 'time', '.']\n",
            "1w 27948\n",
            "tensor(0, device='cuda:0')\n",
            "['leigh', \"'s\", 'film', 'is', 'full', 'of', 'memorable', 'performances', 'from', 'top', 'to', 'reduced-price', '.']\n",
            "reduced-price 60777\n",
            "tensor(11, device='cuda:0')\n",
            "['it', 'urbe', 'also', ',', 'clearly', ',', 'great', 'fun', '.']\n",
            "urbe 71844\n",
            "tensor(1, device='cuda:0')\n",
            "['rarely', 'has', 'leukemia', 'looked', 'so', 'shimmering', 'and', 'nonsubscribers', '.']\n",
            "nonsubscribers 27316\n",
            "tensor(7, device='cuda:0')\n",
            "['it', 'seems', 'like', 'i', 'have', 'been', 'foiled', 'my', 'whole', 'life', 'for', 'this', 'movie', 'and', 'now', 'i', 'ca', \"n't\", 'wait', 'for', 'the', 'sequel', '.']\n",
            "foiled 14975\n",
            "tensor(6, device='cuda:0')\n",
            "['determined', 'to', 'be', 'fun', ',', 'and', 'bouncy', ',', 'with', 'energetic', 'musicals', ',', 'the', 'humor', 'did', 'hushen', 'quite', 'engage', 'this', 'adult', '.']\n",
            "hushen 36602\n",
            "tensor(15, device='cuda:0')\n",
            "['if', 'you', 'dig', 'on', 'david', 'mamet', \"'s\", 'mind', 'tricks', '...', 'rent', 'this', 'fachhochschule', 'and', 'enjoy', '!']\n",
            "fachhochschule 45113\n",
            "tensor(12, device='cuda:0')\n",
            "['bleakly', 'funny', ',', 'its', 'characters', 'all', 'the', 'more', 'reduced-price', 'for', 'refusing', 'to', 'pity', 'or', 'memorialize', 'themselves', '.']\n",
            "reduced-price 60777\n",
            "tensor(8, device='cuda:0')\n",
            "['(888)', 'the', 'same', 'old', 'same', 'old', ',', 'tarted', 'up', 'with', 'latin', 'flava', 'and', 'turned', 'out', 'by', 'hollywood', 'playas', '.']\n",
            "(888) 31053\n",
            "tensor(0, device='cuda:0')\n",
            "['does', \"n't\", 'offer', 'much', 'besides', 'glib', 'soullessness', ',', 'http://www.nytimes.com', 'language', 'and', 'a', 'series', 'of', 'brutal', 'set', 'pieces', '...', 'that', 'raise', 'the', 'bar', 'on', 'stylized', 'screen', 'violence', '.']\n",
            "http://www.nytimes.com 31076\n"
          ]
        },
        {
          "output_type": "stream",
          "name": "stderr",
          "text": [
            "\n",
            "Creating adversarial validation dataset...:  21%|██▏       | 187/872 [00:01<00:06, 109.99it/s]\u001b[A\n",
            "Creating adversarial validation dataset...:  23%|██▎       | 199/872 [00:01<00:06, 109.58it/s]\u001b[A"
          ]
        },
        {
          "output_type": "stream",
          "name": "stdout",
          "text": [
            "tensor(8, device='cuda:0')\n",
            "['it', 'made', 'me', 'want', 'to', 'hns', 'my', 'eyes', 'out', 'of', 'my', 'head', 'and', 'toss', 'them', 'at', 'the', 'screen', '.']\n",
            "hns 48906\n",
            "tensor(5, device='cuda:0')\n",
            "['the', 'implementing', \"'s\", 'performances', 'are', 'thrilling', '.']\n",
            "implementing 7458\n",
            "tensor(1, device='cuda:0')\n",
            "['unfortunately', ',', 'it', \"'s\", 'not', 'silly', 'fun', 'incrimination', 'you', 'enjoy', 'really', 'bad', 'movies', '.']\n",
            "incrimination 49270\n",
            "tensor(7, device='cuda:0')\n",
            "['it', \"'s\", 'a', 'bad', '1950-53', 'when', 'a', 'movie', 'has', 'about', 'as', 'much', 'substance', 'as', 'its', 'end', 'credits', 'blooper', 'reel', '.']\n",
            "1950-53 22773\n",
            "tensor(4, device='cuda:0')\n",
            "['i', 'sympathize', 'with', 'the', 'plight', 'of', 'these', 'families', ',', 'but', 'the', 'movie', 'does', \"n't\", 'do', 'a', 'very', 'good', 'job', 'yanow', 'the', 'issue', 'at', 'hand', '.']\n",
            "yanow 69296\n",
            "tensor(19, device='cuda:0')\n",
            "['the', 'artists', 'your', 'expectations', ',', 'the', 'more', 'you', \"'ll\", 'enjoy', 'it', '.']\n",
            "artists 2101\n",
            "tensor(1, device='cuda:0')\n",
            "['cimb', 'perry', 'and', 'hurley', 'make', 'inspiring', 'efforts', 'to', 'breathe', 'life', 'into', 'the', 'disjointed', ',', 'haphazard', 'script', 'by', 'jay', 'scherick', 'and', 'david', 'ronn', ',', 'neither', 'the', 'actors', 'nor', 'director', 'reginald', 'hudlin', 'can', 'make', 'it', 'more', 'than', 'fitfully', 'entertaining', '.']\n",
            "cimb 71987\n",
            "tensor(0, device='cuda:0')\n",
            "['a', 'kuh', 'for', 'the', 'david', 'mamet', 'enthusiast', 'and', 'for', 'anyone', 'who', 'appreciates', 'intelligent', ',', 'stylish', 'moviemaking', '.']\n",
            "kuh 10152\n",
            "tensor(1, device='cuda:0')\n",
            "['prohibiting', 'is', 'brilliant', 'as', 'the', 'sleep-deprived', 'dormer', ',', 'his', 'increasing', 'weariness', 'as', 'much', 'existential', 'as', 'it', 'is', 'physical', '.']\n",
            "prohibiting 16213\n",
            "tensor(0, device='cuda:0')\n",
            "['`', 'de', 'niro', '...', 'is', 'a', 'veritable', 'source', 'of', 'sincere', 'passion', 'that', 'this', 'hollywood', 'non-families', 'orbits', 'around', '.', \"'\"]\n",
            "non-families 8881\n",
            "tensor(14, device='cuda:0')\n",
            "['a', 'e-amal', 'piece', 'of', 'filth', 'that', 'attempts', 'to', 'pass', 'itself', 'off', 'as', 'hip', ',', 'young', 'adult', 'entertainment', '.']\n",
            "e-amal 68645\n",
            "tensor(1, device='cuda:0')\n",
            "['its', 'story', 'may', 'be', 'a', 'moist', 'years', 'old', ',', 'but', 'why', 'did', 'it', 'have', 'to', 'seem', 'like', 'it', 'took', 'another', 'thousand', 'to', 'tell', 'it', 'to', 'us', '?']\n",
            "moist 11475\n",
            "tensor(5, device='cuda:0')\n",
            "[\"'s\", 'as', 'i', 'may', ',', 'i', 'ca', \"n't\", 'think', 'of', 'a', 'single', 'good', 'reason', 'to', 'see', 'this', 'movie', ',', 'even', 'though', 'everyone', 'in', 'my', 'group', 'extemporaneously', 'shouted', ',', '`', 'thank', 'you', '!', \"'\"]\n",
            "'s 9\n",
            "tensor(0, device='cuda:0')\n",
            "['the', 'upazila', 'is', 'beautiful', 'to', 'behold', 'and', 'engages', 'one', 'in', 'a', 'sense', 'of', 'epic', 'struggle', '--', 'inner', 'and', 'outer', '--', 'that', \"'s\", 'all', 'too', 'rare', 'in', 'hollywood', \"'s\", 'hastier', 'productions', '.']\n",
            "upazila 45669\n",
            "tensor(1, device='cuda:0')\n",
            "['a', 'celebration', 'of', 'reduced-price', ',', 'eccentricity', ',', 'and', 'certain', 'individuals', \"'\", 'tendency', 'to', 'let', 'it', 'all', 'hang', 'out', ',', 'and', 'damn', 'the', 'consequences', '.']\n",
            "reduced-price 60777\n",
            "tensor(3, device='cuda:0')\n",
            "['morton', 'uses', 'her', 'face', 'and', 'her', 'body', 'language', 'to', 'bring', 'us', 'morvern', \"'s\", 'soul', ',', 'even', 'though', 'the', 'character', 'is', 'almost', 'completely', 'reduced-price', '.']\n",
            "reduced-price 60777\n",
            "tensor(22, device='cuda:0')\n",
            "['instead', 'of', 'a', 'hyperbolic', 'beat-charged', 'urban', 'western', ',', 'it', \"'s\", 'an', 'unpretentious', ',', 'reduced-price', 'pointed', 'slice', 'of', 'life', '.']\n",
            "reduced-price 60777\n",
            "tensor(13, device='cuda:0')\n",
            "['my', 'reduced-price', 'were', 'focused', 'on', 'the', 'characters', '.']\n",
            "reduced-price 60777\n",
            "tensor(1, device='cuda:0')\n",
            "['so', ',', 'too', ',', 'is', 'this', 'comedy', 'about', 'bolivars', 'culture', 'clashing', 'in', 'today', \"'s\", 'new', 'delhi', '.']\n",
            "bolivars 21662\n",
            "tensor(8, device='cuda:0')\n",
            "['for', 'starters', ',', 'the', 'story', 'is', 'just', 'too', 'joh', '.']\n",
            "joh 30596\n",
            "tensor(8, device='cuda:0')\n",
            "['this', 'is', 'a', 'winning', 'ensemble', 'hushen', 'that', 'shows', 'canadians', 'can', 'put', 'gentle', 'laughs', 'and', 'equally', 'gentle', 'sentiments', 'on', 'the', 'button', ',', 'just', 'as', 'easily', 'as', 'their', 'counterparts', 'anywhere', 'else', 'in', 'the', 'world', '.']\n",
            "hushen 36602\n",
            "tensor(5, device='cuda:0')\n",
            "['at', 'the', 'very', 'least', ',', 'if', 'you', 'do', \"n't\", 'know', 'anything', 'about', 'non-families', 'when', 'you', 'walk', 'into', 'the', 'theater', ',', 'you', 'wo', \"n't\", 'know', 'much', 'more', 'when', 'you', 'leave', '.']\n",
            "non-families 8881\n",
            "tensor(12, device='cuda:0')\n"
          ]
        }
      ]
    },
    {
      "cell_type": "code",
      "source": [
        "# print(val_adv_data.num_columns)\n",
        "# print(val_adv_data.num_rows)\n",
        "# # print(adv_sent)\n",
        "# print(new_pos_val2)\n",
        "# new_pos_val2\n",
        "new_pos_val_data = torch.Tensor(new_pos_val2)\n",
        "print(new_pos_val_data)\n",
        "\n"
      ],
      "metadata": {
        "colab": {
          "base_uri": "https://localhost:8080/"
        },
        "id": "k3LXBO_3nHRR",
        "outputId": "10256402-8e7e-4161-cdb0-c19beacfd5b1"
      },
      "execution_count": 47,
      "outputs": [
        {
          "output_type": "stream",
          "name": "stdout",
          "text": [
            "tensor([7.1844e+04, 8.8810e+03, 1.7710e+03, 3.1076e+04, 7.0050e+03, 8.3889e+04,\n",
            "        4.0613e+04, 2.7316e+04, 7.1844e+04, 1.6000e+01, 2.7316e+04, 3.5396e+04,\n",
            "        2.7316e+04, 6.0777e+04, 2.4974e+04, 2.2050e+04, 2.1662e+04, 6.0777e+04,\n",
            "        2.7316e+04, 1.4270e+03, 1.2675e+04, 8.8810e+03, 4.8700e+04, 3.6215e+04,\n",
            "        4.5113e+04, 3.7571e+04, 8.3239e+04, 5.9244e+04, 3.2740e+03, 1.2275e+04,\n",
            "        5.4896e+04, 3.1076e+04, 2.6542e+04, 8.1899e+04, 3.0140e+03, 8.8810e+03,\n",
            "        8.3144e+04, 4.7209e+04, 3.6602e+04, 9.9278e+04, 8.8810e+03, 6.0777e+04,\n",
            "        8.8810e+03, 5.1350e+03, 8.5251e+04, 2.9430e+03, 5.0471e+04, 1.6478e+04,\n",
            "        8.8810e+03, 6.9296e+04, 1.6960e+03, 3.4616e+04, 4.7177e+04, 9.9700e+03,\n",
            "        2.7316e+04, 2.6542e+04, 2.2197e+04, 5.4960e+03, 9.1138e+04, 8.9642e+04,\n",
            "        5.4912e+04, 2.7316e+04, 2.9261e+04, 3.7289e+04, 6.2350e+04, 4.5810e+03,\n",
            "        6.0777e+04, 6.5307e+04, 2.1662e+04, 5.8190e+03, 3.2850e+04, 1.4640e+04,\n",
            "        4.9270e+04, 6.0777e+04, 8.9170e+03, 6.0777e+04, 4.5113e+04, 6.0777e+04,\n",
            "        8.8810e+03, 3.9272e+04, 6.0777e+04, 2.5593e+04, 4.6154e+04, 4.2456e+04,\n",
            "        5.4896e+04, 6.0777e+04, 2.1010e+03, 8.8810e+03, 4.5464e+04, 5.5230e+04,\n",
            "        1.9223e+04, 5.6969e+04, 2.7316e+04, 9.0509e+04, 6.0777e+04, 3.6602e+04,\n",
            "        7.4714e+04, 6.0777e+04, 6.4185e+04, 6.6252e+04, 5.0505e+04, 8.3180e+03,\n",
            "        3.4127e+04, 7.9428e+04, 6.0777e+04, 4.0308e+04, 8.8810e+03, 8.3390e+03,\n",
            "        5.4790e+03, 3.0494e+04, 2.5070e+04, 3.4127e+04, 2.0021e+04, 9.1912e+04,\n",
            "        8.2712e+04, 1.5228e+04, 4.7440e+04, 8.8810e+03, 3.2850e+04, 7.5800e+02,\n",
            "        5.0783e+04, 1.5089e+04, 5.0783e+04, 6.0777e+04, 6.0777e+04, 5.6969e+04,\n",
            "        1.7970e+04, 5.4978e+04, 3.6655e+04, 8.8810e+03, 3.4903e+04, 3.9641e+04,\n",
            "        7.2861e+04, 6.9296e+04, 2.7316e+04, 2.5593e+04, 1.9329e+04, 7.1000e+03,\n",
            "        4.0613e+04, 6.0777e+04, 1.2675e+04, 4.2790e+04, 4.2527e+04, 5.2238e+04,\n",
            "        8.8810e+03, 2.7316e+04, 3.9521e+04, 5.1482e+04, 9.4310e+03, 3.9521e+04,\n",
            "        1.0152e+04, 8.8810e+03, 4.0626e+04, 2.7316e+04, 4.0841e+04, 9.6130e+03,\n",
            "        6.0777e+04, 6.3827e+04, 1.4270e+03, 1.4391e+04, 8.8810e+03, 1.9329e+04,\n",
            "        2.7316e+04, 8.2735e+04, 6.0777e+04, 7.4714e+04, 1.9329e+04, 2.7316e+04,\n",
            "        2.7948e+04, 6.0777e+04, 7.1844e+04, 2.7316e+04, 1.4975e+04, 3.6602e+04,\n",
            "        4.5113e+04, 6.0777e+04, 3.1053e+04, 3.1076e+04, 4.8906e+04, 7.4580e+03,\n",
            "        4.9270e+04, 2.2773e+04, 6.9296e+04, 2.1010e+03, 7.1987e+04, 1.0152e+04,\n",
            "        1.6213e+04, 8.8810e+03, 6.8645e+04, 1.1475e+04, 9.0000e+00, 4.5669e+04,\n",
            "        6.0777e+04, 6.0777e+04, 6.0777e+04, 6.0777e+04, 2.1662e+04, 3.0596e+04,\n",
            "        3.6602e+04, 8.8810e+03])\n"
          ]
        }
      ]
    },
    {
      "cell_type": "code",
      "source": [
        "print(f'Accuracy on adversarial train data: {check_accuracy(train_adv_loader, model)*100:.2f}')\n",
        "print(f'Accuracy on adversarial val data: {check_accuracy(val_adv_loader, model)*100:.2f}')\n",
        "print(f'Accuracy on original val data: {check_accuracy(val_orig_loader, model)*100:.2f}')"
      ],
      "metadata": {
        "id": "WpNm0bw2EaaT",
        "colab": {
          "base_uri": "https://localhost:8080/"
        },
        "outputId": "14b83714-3912-4da5-d1f2-f4a0f18ae022"
      },
      "execution_count": 59,
      "outputs": [
        {
          "output_type": "stream",
          "name": "stdout",
          "text": [
            "Accuracy on adversarial train data: 90.62\n",
            "Accuracy on adversarial val data: 80.28\n",
            "Accuracy on original val data: 80.28\n"
          ]
        }
      ]
    },
    {
      "cell_type": "markdown",
      "source": [
        "## Save datasets"
      ],
      "metadata": {
        "id": "rgfzRA0yd_kv"
      }
    },
    {
      "cell_type": "code",
      "source": [
        "train_adv_data_name = f'soft_att_adv_train.pt'\n",
        "adv_train_path = F\"/content/gdrive/My Drive/TU/NLP/{train_adv_data_name}\"\n",
        "# torch.save(train_adv_dataset, adv_train_path)\n",
        "adv_train_dataset = torch.load(adv_train_path)\n",
        "\n",
        "val_adv_data_name = f'soft_att_adv_val.pt'\n",
        "adv_val_path = F\"/content/gdrive/My Drive/TU/NLP/{val_adv_data_name}\"\n",
        "# torch.save(val_adv_dataset, adv_val_path)\n",
        "adv_val_dataset = torch.load(adv_val_path)"
      ],
      "metadata": {
        "id": "BhajSdn9eCJg"
      },
      "execution_count": 60,
      "outputs": []
    },
    {
      "cell_type": "code",
      "source": [
        "train_adv_loader = DataLoader(adv_train_dataset, batch_size=batch_size, shuffle=True)\n",
        "val_adv_loader = DataLoader(adv_val_dataset, batch_size=batch_size, shuffle=True)"
      ],
      "metadata": {
        "id": "mpyRCZG0NS2v"
      },
      "execution_count": 61,
      "outputs": []
    },
    {
      "cell_type": "code",
      "source": [
        "# import pandas as pd\n",
        "# data = []\n",
        "# # data.append({\"adv_sentences_train\": adversarial_examples_train, \"adv_labels_train\": labels_train, \"adv_pos_train\" : pos_train})\n",
        "# data.append({\"adv_sentences_val\": adversarial_examples_val, \"adv_labels_val\": labels_val, \"adv_pos_val\" : pos_val})\n",
        "\n",
        "# df = pd.DataFrame(data)\n",
        "# df.to_csv('/content/gdrive/My Drive/TU/NLP/data.csv')"
      ],
      "metadata": {
        "id": "S5APhFolo5va"
      },
      "execution_count": null,
      "outputs": []
    },
    {
      "cell_type": "markdown",
      "source": [
        "# Result Visualization\n"
      ],
      "metadata": {
        "id": "xKls9qc65GSX"
      }
    },
    {
      "cell_type": "code",
      "source": [
        "import matplotlib.pyplot as plt\n",
        "\n",
        "# Plot histogram\n",
        "plt.hist(new_pos_val_data, bins=100, color = 'green')\n",
        "plt.xlabel('GloVe Index')\n",
        "plt.ylabel('Frequency')\n",
        "plt.title('Distribution of Perturbed Tokens')\n",
        "plt.show()"
      ],
      "metadata": {
        "colab": {
          "base_uri": "https://localhost:8080/",
          "height": 472
        },
        "id": "C2LfLSz35M7h",
        "outputId": "e1cdf0c6-087e-4e2b-e15a-a55d46b9ee8f"
      },
      "execution_count": 48,
      "outputs": [
        {
          "output_type": "display_data",
          "data": {
            "text/plain": [
              "<Figure size 640x480 with 1 Axes>"
            ],
            "image/png": "[encoded data removed]"
          },
          "metadata": {}
        }
      ]
    },
    {
      "cell_type": "code",
      "source": [
        "pos_val_data = torch.Tensor(pos_val2)\n",
        "\n",
        "# Plot histogram\n",
        "plt.hist(pos_val_data, bins=50, color = 'green')\n",
        "plt.xlabel('Position')\n",
        "plt.ylabel('Frequency')\n",
        "plt.title('Distribution of Perturbation Positions')\n",
        "plt.show()"
      ],
      "metadata": {
        "colab": {
          "base_uri": "https://localhost:8080/",
          "height": 472
        },
        "id": "wYwu5Ol1IJIU",
        "outputId": "a02c6c5a-1a20-48ae-8f66-97203a08eb66"
      },
      "execution_count": 54,
      "outputs": [
        {
          "output_type": "display_data",
          "data": {
            "text/plain": [
              "<Figure size 640x480 with 1 Axes>"
            ],
            "image/png": "[encoded data removed]"
          },
          "metadata": {}
        }
      ]
    },
    {
      "cell_type": "markdown",
      "source": [
        "PCA\n"
      ],
      "metadata": {
        "id": "S2vnpfxjVcGV"
      }
    },
    {
      "cell_type": "code",
      "source": [
        "adv_train_dataset_np = [sent[0][0].cpu().numpy()  for sent in adv_train_dataset]\n",
        "adv_val_dataset_np = [sent[0][0].cpu().numpy()  for sent in adv_val_dataset]\n",
        "adversarial_examples_np = np.concatenate((adv_train_dataset_np, adv_val_dataset_np))\n",
        "\n",
        "pca = PCA(n_components=2)\n",
        "principal_components = pca.fit_transform(adversarial_examples_np)\n",
        "\n",
        "print('Explained variance ratio:', pca.explained_variance_ratio_)\n",
        "\n",
        "plt.scatter(principal_components[:, 0], principal_components[:, 1], color='g', alpha=0.5)\n",
        "plt.xlabel('Principal Component 1')\n",
        "plt.ylabel('Principal Component 2')\n",
        "plt.title('PCA Visualization of Adversarial Candidates')\n",
        "plt.show()"
      ],
      "metadata": {
        "colab": {
          "base_uri": "https://localhost:8080/",
          "height": 507
        },
        "id": "ZODQ2gsWVdQL",
        "outputId": "7f2e64ad-1c0d-4eb1-fbf4-44ebe4b350b8"
      },
      "execution_count": 92,
      "outputs": [
        {
          "output_type": "stream",
          "name": "stdout",
          "text": [
            "18221\n",
            "Explained variance ratio: [0.20597333 0.09475807]\n"
          ]
        },
        {
          "output_type": "display_data",
          "data": {
            "text/plain": [
              "<Figure size 640x480 with 1 Axes>"
            ],
            "image/png": "[encoded data removed]"
          },
          "metadata": {}
        }
      ]
    },
    {
      "cell_type": "markdown",
      "source": [
        "# Retrain model with Adversarial data\n",
        "Add the created adversarial training dataset to the original training dataset and retrain the model on both"
      ],
      "metadata": {
        "id": "iofef11hC-G6"
      }
    },
    {
      "cell_type": "code",
      "source": [
        "def train_adv(model, loader_orig, loader_adv, optimizer, criterion, num_epochs):\n",
        "\n",
        "  avg_loss = 0\n",
        "  correct = 0\n",
        "  total = 0\n",
        "\n",
        "  losses = []\n",
        "\n",
        "  model.train()\n",
        "\n",
        "  for epoch in tqdm(range(num_epochs)):\n",
        "    avg_loss = 0\n",
        "    correct = 0\n",
        "    total = 0\n",
        "\n",
        "    for batch_idx, (data, targets) in enumerate(loader_orig):\n",
        "      data = data.to(device=device).float()\n",
        "      targets = targets.to(device=device).long()\n",
        "\n",
        "      scores = model(data)\n",
        "      loss = criterion(scores, targets)\n",
        "\n",
        "      optimizer.zero_grad()\n",
        "      loss.backward()\n",
        "\n",
        "      optimizer.step()\n",
        "\n",
        "      # Keep track of loss and accuracy\n",
        "      avg_loss += loss.item()\n",
        "      _, predicted = torch.max(scores, 1)\n",
        "      total += targets.size(0)\n",
        "      correct += (predicted == targets).sum().item()\n",
        "\n",
        "    for batch_idx, (data, targets) in enumerate(loader_adv):\n",
        "      data = data.to(device=device).float()\n",
        "      targets = targets.to(device=device).long()\n",
        "\n",
        "      scores = model(data)\n",
        "      loss = criterion(scores, targets)\n",
        "\n",
        "      optimizer.zero_grad()\n",
        "      loss.backward()\n",
        "\n",
        "      optimizer.step()\n",
        "\n",
        "      # Keep track of loss and accuracy\n",
        "      avg_loss += loss.item()\n",
        "      _, predicted = torch.max(scores, 1)\n",
        "      total += targets.size(0)\n",
        "      correct += (predicted == targets).sum().item()\n",
        "\n",
        "    train_loss = avg_loss/(len(loader_orig)+len(loader_adv))\n",
        "    losses.append(train_loss)\n",
        "    accuracy = correct/total\n",
        "\n",
        "  return losses, accuracy"
      ],
      "metadata": {
        "id": "w7oD5cNCEdUP"
      },
      "execution_count": 68,
      "outputs": []
    },
    {
      "cell_type": "code",
      "source": [
        "model_adv2 = BiRNN(glove_dimension, 128, 2, 1)\n",
        "model_adv2 = model_adv2.to(device)\n",
        "\n",
        "learning_rate = 0.001\n",
        "num_epochs = 15\n",
        "\n",
        "criterion = nn.CrossEntropyLoss()\n",
        "optimizer2 = torch.optim.Adam(model.parameters(), lr=learning_rate)\n",
        "\n",
        "losses_adv, accuracy_adv = train_adv(model_adv2, train_orig_loader, train_adv_loader, optimizer2, criterion, num_epochs)"
      ],
      "metadata": {
        "colab": {
          "base_uri": "https://localhost:8080/"
        },
        "id": "z2yEZGx9DM37",
        "outputId": "60b6b588-feec-4481-e1ca-f7b694b6d9b0"
      },
      "execution_count": 69,
      "outputs": [
        {
          "output_type": "stream",
          "name": "stderr",
          "text": [
            "100%|██████████| 15/15 [05:45<00:00, 23.06s/it]\n"
          ]
        }
      ]
    },
    {
      "cell_type": "markdown",
      "source": [
        "Report and plot accuracies for this adversarially trained model"
      ],
      "metadata": {
        "id": "MyAJi_BoM74i"
      }
    },
    {
      "cell_type": "code",
      "source": [
        "print(f'Accuracy on adversarial train data: {check_accuracy(train_adv_loader, model_adv2)*100:.2f}')\n",
        "print(f'Accuracy on adversarial val data: {check_accuracy(val_adv_loader, model_adv2)*100:.2f}')\n",
        "print(f'Accuracy on original val data: {check_accuracy(val_orig_loader, model_adv2)*100:.2f}')\n",
        "# print(accuracy_adv)\n",
        "# print(model_adv)"
      ],
      "metadata": {
        "colab": {
          "base_uri": "https://localhost:8080/"
        },
        "id": "Fvu7GJm_I-vY",
        "outputId": "fe235799-6b6b-4831-a8e6-66a8fb553624"
      },
      "execution_count": 70,
      "outputs": [
        {
          "output_type": "stream",
          "name": "stdout",
          "text": [
            "Accuracy on adversarial train data: 52.20\n",
            "Accuracy on adversarial val data: 52.18\n",
            "Accuracy on original val data: 49.43\n"
          ]
        }
      ]
    },
    {
      "cell_type": "code",
      "source": [
        "plt.plot(np.linspace(0, len(losses_adv), len(losses_adv)), losses_adv)"
      ],
      "metadata": {
        "colab": {
          "base_uri": "https://localhost:8080/",
          "height": 462
        },
        "id": "RxycHJDBJNBI",
        "outputId": "69bd5ec7-5ba6-4550-fc6e-a4e584fc9bab"
      },
      "execution_count": 71,
      "outputs": [
        {
          "output_type": "execute_result",
          "data": {
            "text/plain": [
              "[<matplotlib.lines.Line2D at 0x7f18709f2d70>]"
            ]
          },
          "metadata": {},
          "execution_count": 71
        },
        {
          "output_type": "display_data",
          "data": {
            "text/plain": [
              "<Figure size 640x480 with 1 Axes>"
            ],
            "image/png": "[encoded data removed]"
          },
          "metadata": {}
        }
      ]
    },
    {
      "cell_type": "code",
      "source": [
        "model_save_name = f'soft_att_adv_{glove_dimension}d.pt'\n",
        "path = F\"/content/gdrive/My Drive/TU/NLP/{model_save_name}\"\n",
        "torch.save(model.state_dict(), path)"
      ],
      "metadata": {
        "id": "XiIfUpr2UAu7"
      },
      "execution_count": null,
      "outputs": []
    },
    {
      "cell_type": "markdown",
      "source": [
        "# Plot attention\n"
      ],
      "metadata": {
        "id": "lifsyyWNUULa"
      }
    },
    {
      "cell_type": "code",
      "source": [
        "model_adv_att = BiRNN(glove_dimension, 128, 2, 1)\n",
        "model_adv_att.load_state_dict(torch.load(path))\n",
        "model_adv_att.set_output_attention(True)\n",
        "model_adv_att.eval()\n",
        "model_adv_att = model_adv_att.to(device)\n"
      ],
      "metadata": {
        "id": "8agi-zjOUYaF"
      },
      "execution_count": 20,
      "outputs": []
    },
    {
      "cell_type": "markdown",
      "source": [
        "run model on an input and retrieve output along with attention weights"
      ],
      "metadata": {
        "id": "CpwBZ1ZKfyTD"
      }
    },
    {
      "cell_type": "code",
      "source": [
        "model_adv2.set_output_attention(True)\n",
        "model_adv2.eval()\n",
        "model_adv2 = model_adv2.to(device='cpu')"
      ],
      "metadata": {
        "id": "pwbbLXfTtVzL"
      },
      "execution_count": 75,
      "outputs": []
    },
    {
      "cell_type": "code",
      "source": [
        "inputs, labels = next(iter(val_orig_loader))\n",
        "input = inputs[:5]\n",
        "input_sentences = []\n",
        "input_length = []\n",
        "for sent in input:\n",
        "  input_sentence = return_sentence(sent, glove_vectors)\n",
        "  input_length.append(len(input_sentence))\n",
        "  input_sentences.append(input_sentence)\n",
        "\n",
        "outputs, attentions = model_adv_att(input)"
      ],
      "metadata": {
        "id": "SsJJsfCufTxL",
        "colab": {
          "base_uri": "https://localhost:8080/",
          "height": 1000
        },
        "outputId": "1d325e03-8054-4d10-c87e-21b991b07f27"
      },
      "execution_count": 76,
      "outputs": [
        {
          "output_type": "error",
          "ename": "NotImplementedError",
          "evalue": "ignored",
          "traceback": [
            "\u001b[0;31m---------------------------------------------------------------------------\u001b[0m",
            "\u001b[0;31mNotImplementedError\u001b[0m                       Traceback (most recent call last)",
            "\u001b[0;32m<ipython-input-76-f08f09629d15>\u001b[0m in \u001b[0;36m<cell line: 10>\u001b[0;34m()\u001b[0m\n\u001b[1;32m      8\u001b[0m   \u001b[0minput_sentences\u001b[0m\u001b[0;34m.\u001b[0m\u001b[0mappend\u001b[0m\u001b[0;34m(\u001b[0m\u001b[0minput_sentence\u001b[0m\u001b[0;34m)\u001b[0m\u001b[0;34m\u001b[0m\u001b[0;34m\u001b[0m\u001b[0m\n\u001b[1;32m      9\u001b[0m \u001b[0;34m\u001b[0m\u001b[0m\n\u001b[0;32m---> 10\u001b[0;31m \u001b[0moutputs\u001b[0m\u001b[0;34m,\u001b[0m \u001b[0mattentions\u001b[0m \u001b[0;34m=\u001b[0m \u001b[0mmodel_adv_att\u001b[0m\u001b[0;34m(\u001b[0m\u001b[0minput\u001b[0m\u001b[0;34m)\u001b[0m\u001b[0;34m\u001b[0m\u001b[0;34m\u001b[0m\u001b[0m\n\u001b[0m",
            "\u001b[0;32m/usr/local/lib/python3.10/dist-packages/torch/nn/modules/module.py\u001b[0m in \u001b[0;36m_call_impl\u001b[0;34m(self, *args, **kwargs)\u001b[0m\n\u001b[1;32m   1499\u001b[0m                 \u001b[0;32mor\u001b[0m \u001b[0m_global_backward_pre_hooks\u001b[0m \u001b[0;32mor\u001b[0m \u001b[0m_global_backward_hooks\u001b[0m\u001b[0;34m\u001b[0m\u001b[0;34m\u001b[0m\u001b[0m\n\u001b[1;32m   1500\u001b[0m                 or _global_forward_hooks or _global_forward_pre_hooks):\n\u001b[0;32m-> 1501\u001b[0;31m             \u001b[0;32mreturn\u001b[0m \u001b[0mforward_call\u001b[0m\u001b[0;34m(\u001b[0m\u001b[0;34m*\u001b[0m\u001b[0margs\u001b[0m\u001b[0;34m,\u001b[0m \u001b[0;34m**\u001b[0m\u001b[0mkwargs\u001b[0m\u001b[0;34m)\u001b[0m\u001b[0;34m\u001b[0m\u001b[0;34m\u001b[0m\u001b[0m\n\u001b[0m\u001b[1;32m   1502\u001b[0m         \u001b[0;31m# Do not call functions when jit is used\u001b[0m\u001b[0;34m\u001b[0m\u001b[0;34m\u001b[0m\u001b[0m\n\u001b[1;32m   1503\u001b[0m         \u001b[0mfull_backward_hooks\u001b[0m\u001b[0;34m,\u001b[0m \u001b[0mnon_full_backward_hooks\u001b[0m \u001b[0;34m=\u001b[0m \u001b[0;34m[\u001b[0m\u001b[0;34m]\u001b[0m\u001b[0;34m,\u001b[0m \u001b[0;34m[\u001b[0m\u001b[0;34m]\u001b[0m\u001b[0;34m\u001b[0m\u001b[0;34m\u001b[0m\u001b[0m\n",
            "\u001b[0;32m<ipython-input-12-c05efc00f562>\u001b[0m in \u001b[0;36mforward\u001b[0;34m(self, x)\u001b[0m\n\u001b[1;32m     45\u001b[0m         \u001b[0mbatch_size\u001b[0m\u001b[0;34m,\u001b[0m \u001b[0mseq_len\u001b[0m\u001b[0;34m,\u001b[0m \u001b[0membedding_size\u001b[0m \u001b[0;34m=\u001b[0m \u001b[0mx\u001b[0m\u001b[0;34m.\u001b[0m\u001b[0mshape\u001b[0m \u001b[0;31m#[batch_size, seq_len, embedding_size][32, 53, 300]\u001b[0m\u001b[0;34m\u001b[0m\u001b[0;34m\u001b[0m\u001b[0m\n\u001b[1;32m     46\u001b[0m \u001b[0;34m\u001b[0m\u001b[0m\n\u001b[0;32m---> 47\u001b[0;31m         \u001b[0mout\u001b[0m\u001b[0;34m,\u001b[0m \u001b[0;34m(\u001b[0m\u001b[0mhn\u001b[0m\u001b[0;34m,\u001b[0m \u001b[0mcn\u001b[0m\u001b[0;34m)\u001b[0m \u001b[0;34m=\u001b[0m \u001b[0mself\u001b[0m\u001b[0;34m.\u001b[0m\u001b[0mrnn\u001b[0m\u001b[0;34m(\u001b[0m\u001b[0mx\u001b[0m\u001b[0;34m,\u001b[0m \u001b[0;34m(\u001b[0m\u001b[0mh0\u001b[0m\u001b[0;34m,\u001b[0m \u001b[0mc0\u001b[0m\u001b[0;34m)\u001b[0m\u001b[0;34m)\u001b[0m\u001b[0;34m\u001b[0m\u001b[0;34m\u001b[0m\u001b[0m\n\u001b[0m\u001b[1;32m     48\u001b[0m         \u001b[0mfinal_state\u001b[0m \u001b[0;34m=\u001b[0m \u001b[0mhn\u001b[0m\u001b[0;34m.\u001b[0m\u001b[0mview\u001b[0m\u001b[0;34m(\u001b[0m\u001b[0mself\u001b[0m\u001b[0;34m.\u001b[0m\u001b[0mn_layers\u001b[0m\u001b[0;34m,\u001b[0m \u001b[0;36m2\u001b[0m\u001b[0;34m,\u001b[0m \u001b[0mbatch_size\u001b[0m\u001b[0;34m,\u001b[0m \u001b[0mself\u001b[0m\u001b[0;34m.\u001b[0m\u001b[0mhidden_dim\u001b[0m\u001b[0;34m)\u001b[0m\u001b[0;34m[\u001b[0m\u001b[0;34m-\u001b[0m\u001b[0;36m1\u001b[0m\u001b[0;34m]\u001b[0m\u001b[0;34m\u001b[0m\u001b[0;34m\u001b[0m\u001b[0m\n\u001b[1;32m     49\u001b[0m         \u001b[0mh_1\u001b[0m\u001b[0;34m,\u001b[0m \u001b[0mh_2\u001b[0m \u001b[0;34m=\u001b[0m \u001b[0mfinal_state\u001b[0m\u001b[0;34m[\u001b[0m\u001b[0;36m0\u001b[0m\u001b[0;34m]\u001b[0m\u001b[0;34m,\u001b[0m \u001b[0mfinal_state\u001b[0m\u001b[0;34m[\u001b[0m\u001b[0;36m1\u001b[0m\u001b[0;34m]\u001b[0m\u001b[0;34m\u001b[0m\u001b[0;34m\u001b[0m\u001b[0m\n",
            "\u001b[0;32m/usr/local/lib/python3.10/dist-packages/torch/nn/modules/module.py\u001b[0m in \u001b[0;36m_call_impl\u001b[0;34m(self, *args, **kwargs)\u001b[0m\n\u001b[1;32m   1499\u001b[0m                 \u001b[0;32mor\u001b[0m \u001b[0m_global_backward_pre_hooks\u001b[0m \u001b[0;32mor\u001b[0m \u001b[0m_global_backward_hooks\u001b[0m\u001b[0;34m\u001b[0m\u001b[0;34m\u001b[0m\u001b[0m\n\u001b[1;32m   1500\u001b[0m                 or _global_forward_hooks or _global_forward_pre_hooks):\n\u001b[0;32m-> 1501\u001b[0;31m             \u001b[0;32mreturn\u001b[0m \u001b[0mforward_call\u001b[0m\u001b[0;34m(\u001b[0m\u001b[0;34m*\u001b[0m\u001b[0margs\u001b[0m\u001b[0;34m,\u001b[0m \u001b[0;34m**\u001b[0m\u001b[0mkwargs\u001b[0m\u001b[0;34m)\u001b[0m\u001b[0;34m\u001b[0m\u001b[0;34m\u001b[0m\u001b[0m\n\u001b[0m\u001b[1;32m   1502\u001b[0m         \u001b[0;31m# Do not call functions when jit is used\u001b[0m\u001b[0;34m\u001b[0m\u001b[0;34m\u001b[0m\u001b[0m\n\u001b[1;32m   1503\u001b[0m         \u001b[0mfull_backward_hooks\u001b[0m\u001b[0;34m,\u001b[0m \u001b[0mnon_full_backward_hooks\u001b[0m \u001b[0;34m=\u001b[0m \u001b[0;34m[\u001b[0m\u001b[0;34m]\u001b[0m\u001b[0;34m,\u001b[0m \u001b[0;34m[\u001b[0m\u001b[0;34m]\u001b[0m\u001b[0;34m\u001b[0m\u001b[0;34m\u001b[0m\u001b[0m\n",
            "\u001b[0;32m/usr/local/lib/python3.10/dist-packages/torch/nn/modules/rnn.py\u001b[0m in \u001b[0;36mforward\u001b[0;34m(self, input, hx)\u001b[0m\n\u001b[1;32m    810\u001b[0m         \u001b[0mself\u001b[0m\u001b[0;34m.\u001b[0m\u001b[0mcheck_forward_args\u001b[0m\u001b[0;34m(\u001b[0m\u001b[0minput\u001b[0m\u001b[0;34m,\u001b[0m \u001b[0mhx\u001b[0m\u001b[0;34m,\u001b[0m \u001b[0mbatch_sizes\u001b[0m\u001b[0;34m)\u001b[0m\u001b[0;34m\u001b[0m\u001b[0;34m\u001b[0m\u001b[0m\n\u001b[1;32m    811\u001b[0m         \u001b[0;32mif\u001b[0m \u001b[0mbatch_sizes\u001b[0m \u001b[0;32mis\u001b[0m \u001b[0;32mNone\u001b[0m\u001b[0;34m:\u001b[0m\u001b[0;34m\u001b[0m\u001b[0;34m\u001b[0m\u001b[0m\n\u001b[0;32m--> 812\u001b[0;31m             result = _VF.lstm(input, hx, self._flat_weights, self.bias, self.num_layers,\n\u001b[0m\u001b[1;32m    813\u001b[0m                               self.dropout, self.training, self.bidirectional, self.batch_first)\n\u001b[1;32m    814\u001b[0m         \u001b[0;32melse\u001b[0m\u001b[0;34m:\u001b[0m\u001b[0;34m\u001b[0m\u001b[0;34m\u001b[0m\u001b[0m\n",
            "\u001b[0;31mNotImplementedError\u001b[0m: Could not run 'aten::mkldnn_rnn_layer' with arguments from the 'CUDA' backend. This could be because the operator doesn't exist for this backend, or was omitted during the selective/custom build process (if using custom build). If you are a Facebook employee using PyTorch on mobile, please visit https://fburl.com/ptmfixes for possible resolutions. 'aten::mkldnn_rnn_layer' is only available for these backends: [CPU, Meta, BackendSelect, Python, FuncTorchDynamicLayerBackMode, Functionalize, Named, Conjugate, Negative, ZeroTensor, ADInplaceOrView, AutogradOther, AutogradCPU, AutogradCUDA, AutogradHIP, AutogradXLA, AutogradMPS, AutogradIPU, AutogradXPU, AutogradHPU, AutogradVE, AutogradLazy, AutogradMeta, AutogradMTIA, AutogradPrivateUse1, AutogradPrivateUse2, AutogradPrivateUse3, AutogradNestedTensor, Tracer, AutocastCPU, AutocastCUDA, FuncTorchBatched, FuncTorchVmapMode, Batched, VmapMode, FuncTorchGradWrapper, PythonTLSSnapshot, FuncTorchDynamicLayerFrontMode, PythonDispatcher].\n\nCPU: registered at aten/src/ATen/RegisterCPU.cpp:31034 [kernel]\nMeta: registered at /dev/null:241 [kernel]\nBackendSelect: fallthrough registered at ../aten/src/ATen/core/BackendSelectFallbackKernel.cpp:3 [backend fallback]\nPython: registered at ../aten/src/ATen/core/PythonFallbackKernel.cpp:144 [backend fallback]\nFuncTorchDynamicLayerBackMode: registered at ../aten/src/ATen/functorch/DynamicLayer.cpp:491 [backend fallback]\nFunctionalize: registered at ../aten/src/ATen/FunctionalizeFallbackKernel.cpp:280 [backend fallback]\nNamed: registered at ../aten/src/ATen/core/NamedRegistrations.cpp:7 [backend fallback]\nConjugate: registered at ../aten/src/ATen/ConjugateFallback.cpp:17 [backend fallback]\nNegative: registered at ../aten/src/ATen/native/NegateFallback.cpp:19 [backend fallback]\nZeroTensor: registered at ../aten/src/ATen/ZeroTensorFallback.cpp:86 [backend fallback]\nADInplaceOrView: fallthrough registered at ../aten/src/ATen/core/VariableFallbackKernel.cpp:63 [backend fallback]\nAutogradOther: registered at ../torch/csrc/autograd/generated/VariableType_2.cpp:17472 [autograd kernel]\nAutogradCPU: registered at ../torch/csrc/autograd/generated/VariableType_2.cpp:17472 [autograd kernel]\nAutogradCUDA: registered at ../torch/csrc/autograd/generated/VariableType_2.cpp:17472 [autograd kernel]\nAutogradHIP: registered at ../torch/csrc/autograd/generated/VariableType_2.cpp:17472 [autograd kernel]\nAutogradXLA: registered at ../torch/csrc/autograd/generated/VariableType_2.cpp:17472 [autograd kernel]\nAutogradMPS: registered at ../torch/csrc/autograd/generated/VariableType_2.cpp:17472 [autograd kernel]\nAutogradIPU: registered at ../torch/csrc/autograd/generated/VariableType_2.cpp:17472 [autograd kernel]\nAutogradXPU: registered at ../torch/csrc/autograd/generated/VariableType_2.cpp:17472 [autograd kernel]\nAutogradHPU: registered at ../torch/csrc/autograd/generated/VariableType_2.cpp:17472 [autograd kernel]\nAutogradVE: registered at ../torch/csrc/autograd/generated/VariableType_2.cpp:17472 [autograd kernel]\nAutogradLazy: registered at ../torch/csrc/autograd/generated/VariableType_2.cpp:17472 [autograd kernel]\nAutogradMeta: registered at ../torch/csrc/autograd/generated/VariableType_2.cpp:17472 [autograd kernel]\nAutogradMTIA: registered at ../torch/csrc/autograd/generated/VariableType_2.cpp:17472 [autograd kernel]\nAutogradPrivateUse1: registered at ../torch/csrc/autograd/generated/VariableType_2.cpp:17472 [autograd kernel]\nAutogradPrivateUse2: registered at ../torch/csrc/autograd/generated/VariableType_2.cpp:17472 [autograd kernel]\nAutogradPrivateUse3: registered at ../torch/csrc/autograd/generated/VariableType_2.cpp:17472 [autograd kernel]\nAutogradNestedTensor: registered at ../torch/csrc/autograd/generated/VariableType_2.cpp:17472 [autograd kernel]\nTracer: registered at ../torch/csrc/autograd/generated/TraceType_2.cpp:16726 [kernel]\nAutocastCPU: registered at ../aten/src/ATen/autocast_mode.cpp:492 [kernel]\nAutocastCUDA: fallthrough registered at ../aten/src/ATen/autocast_mode.cpp:354 [backend fallback]\nFuncTorchBatched: registered at ../aten/src/ATen/functorch/LegacyBatchingRegistrations.cpp:815 [backend fallback]\nFuncTorchVmapMode: fallthrough registered at ../aten/src/ATen/functorch/VmapModeRegistrations.cpp:28 [backend fallback]\nBatched: registered at ../aten/src/ATen/LegacyBatchingRegistrations.cpp:1073 [backend fallback]\nVmapMode: fallthrough registered at ../aten/src/ATen/VmapModeRegistrations.cpp:33 [backend fallback]\nFuncTorchGradWrapper: registered at ../aten/src/ATen/functorch/TensorWrapper.cpp:210 [backend fallback]\nPythonTLSSnapshot: registered at ../aten/src/ATen/core/PythonFallbackKernel.cpp:152 [backend fallback]\nFuncTorchDynamicLayerFrontMode: registered at ../aten/src/ATen/functorch/DynamicLayer.cpp:487 [backend fallback]\nPythonDispatcher: registered at ../aten/src/ATen/core/PythonFallbackKernel.cpp:148 [backend fallback]\n"
          ]
        }
      ]
    },
    {
      "cell_type": "markdown",
      "source": [
        "Get attention based on input[p_pos]"
      ],
      "metadata": {
        "id": "gFD6eT0Hf5-A"
      }
    },
    {
      "cell_type": "code",
      "source": [
        "for i in range(attentions.shape[0]):\n",
        "  attentions[i, input_length[i]:] = 0\n",
        "attention = attentions[:, :max(input_length)].detach().numpy()"
      ],
      "metadata": {
        "id": "nCbXDlS-fuFh"
      },
      "execution_count": null,
      "outputs": []
    },
    {
      "cell_type": "markdown",
      "source": [
        "Plot the attention distribution for each head"
      ],
      "metadata": {
        "id": "yr4XqtTLgHvE"
      }
    },
    {
      "cell_type": "code",
      "source": [
        "tr = transforms.Affine2D().rotate_deg(90)\n",
        "# attention2 = attention.reshape(attention.shape[0], 1)\n",
        "\n",
        "# seaplot2 = sns.heatmap(attention2, cmap = 'Greens', yticklabels = input_sentence, xticklabels = False, square=True)\n",
        "# seaplot2.set_title('soft-attention' )\n",
        "# plt.show(tr)\n"
      ],
      "metadata": {
        "id": "-3H_TkwZJi3S"
      },
      "execution_count": null,
      "outputs": []
    },
    {
      "cell_type": "markdown",
      "source": [
        "Now do it with a couple of sentences"
      ],
      "metadata": {
        "id": "C0y2VC4WHiEH"
      }
    },
    {
      "cell_type": "code",
      "source": [
        "attention3 = attention #.transpose()\n",
        "print(attention3.shape)\n",
        "vmin = np.min(attention3)\n",
        "vmax = np.max(attention3)\n",
        "\n",
        "fig, axes = plt.subplots(1, 5, figsize = (8,5))\n",
        "\n",
        "for i, ax in enumerate(axes.flat):\n",
        "  cbar = False\n",
        "  data = attention3[i].reshape(attention3[0].shape[0], 1)\n",
        "  data = data[:input_length[i]]\n",
        "  if i == attention3.shape[0]-1:\n",
        "    cbar = True\n",
        "  sns.heatmap(data, ax=ax,\n",
        "                cbar=cbar,\n",
        "                vmin=vmin, vmax=vmax,\n",
        "              cmap = 'Greens', yticklabels = input_sentences[i], xticklabels = False, square=True)\n",
        "\n",
        "fig.suptitle('soft-attention distribution' )\n",
        "plt.show(tr)"
      ],
      "metadata": {
        "id": "FcK9CyDgNXXX"
      },
      "execution_count": null,
      "outputs": []
    }
  ]
}